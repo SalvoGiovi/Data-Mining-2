{
 "cells": [
  {
   "cell_type": "markdown",
   "id": "42615792",
   "metadata": {},
   "source": [
    "# OutliersDetection"
   ]
  },
  {
   "cell_type": "code",
   "execution_count": null,
   "id": "6b80784a",
   "metadata": {},
   "outputs": [],
   "source": [
    "%matplotlib inline\n",
    "\n",
    "import numpy as np\n",
    "import pandas as pd\n",
    "import seaborn as sns\n",
    "import matplotlib.pyplot as plt\n",
    "\n",
    "from collections import Counter\n",
    "from collections import defaultdict\n",
    "\n",
    "#scaling, normalization\n",
    "from sklearn.preprocessing import StandardScaler, MinMaxScaler, RobustScaler\n",
    "#kmeans, dbscan, hierarchical (sklearn)\n",
    "from sklearn.cluster import KMeans, DBSCAN, AgglomerativeClustering\n",
    "#evaluation\n",
    "from sklearn.metrics import silhouette_score\n",
    "\n",
    "#distance matrix (dbscan elbow, hierarchical)\n",
    "from scipy.spatial.distance import pdist, squareform\n",
    "# hierarchical (scipy)\n",
    "from scipy.cluster.hierarchy import linkage, dendrogram\n",
    "from sklearn.preprocessing import StandardScaler # To transform the dataset\n",
    "from sklearn.neighbors import NearestNeighbors\n",
    "from sklearn.cluster import kmeans_plusplus\n",
    "from sklearn.datasets import make_blobs\n",
    "from sklearn.cluster import KMeans\n",
    "from sklearn.metrics import silhouette_samples, silhouette_score\n",
    "\n",
    "import matplotlib.cm as cm"
   ]
  },
  {
   "cell_type": "code",
   "execution_count": null,
   "id": "e7ee2ca3",
   "metadata": {},
   "outputs": [],
   "source": [
    "X_train = pd.read_csv(\"X_train.txt\", header=None,  delim_whitespace=True)\n",
    "y_train = pd.read_csv(\"y_train.txt\", header=None, delim_whitespace=True )\n",
    "X_test = pd.read_csv(\"X_test.txt\", header=None, delim_whitespace=True )\n",
    "y_test = pd.read_csv(\"y_test.txt\", header=None, delim_whitespace=True )\n",
    "features = pd.read_csv(\"features.txt\", header=None, delim_whitespace=True )\n",
    "subject = pd.read_csv(\"subject_train.txt\", header=None, delim_whitespace=True )"
   ]
  },
  {
   "cell_type": "code",
   "execution_count": null,
   "id": "29bb20e6",
   "metadata": {},
   "outputs": [],
   "source": [
    "feature = features\n",
    "subjects = subject\n",
    "feature.drop(0,inplace=True, axis=1)"
   ]
  },
  {
   "cell_type": "code",
   "execution_count": null,
   "id": "fc44cc91",
   "metadata": {},
   "outputs": [],
   "source": [
    "#inseriamo l'intestazione al dataset\n",
    "lista=[]\n",
    "feat_transpa = feature.transpose()\n",
    "for i in range(561):\n",
    "    lista.append(feat_transpa.iloc[0][i])\n",
    "X_test.columns=lista    \n",
    "X_train.columns=lista"
   ]
  },
  {
   "cell_type": "code",
   "execution_count": null,
   "id": "f3197652",
   "metadata": {},
   "outputs": [],
   "source": [
    "# eliminiamo le colonne che contengono la stima mad in quanto quasi uguale a dev.std\n",
    "stringa=\"mad()\"\n",
    "for col in X_train.columns:\n",
    "    if(stringa in col):\n",
    "        X_train.drop(labels=col, axis=1, inplace=True)\n",
    "for col in X_test.columns:\n",
    "    if(stringa in col):\n",
    "        X_test.drop(labels=col, axis=1, inplace=True)        "
   ]
  },
  {
   "cell_type": "markdown",
   "id": "7d4e9e75",
   "metadata": {},
   "source": [
    "## LOF"
   ]
  },
  {
   "cell_type": "code",
   "execution_count": null,
   "id": "1fcdbd64",
   "metadata": {},
   "outputs": [],
   "source": [
    "from sklearn.neighbors import LocalOutlierFactor\n",
    "from numpy import quantile, random, where"
   ]
  },
  {
   "cell_type": "code",
   "execution_count": null,
   "id": "123f73da",
   "metadata": {},
   "outputs": [],
   "source": [
    "lof = LocalOutlierFactor(n_neighbors=25)\n",
    "outliers = lof.fit_predict(X_train)\n",
    "lofs_index = where(outliers==-1)"
   ]
  },
  {
   "cell_type": "code",
   "execution_count": null,
   "id": "99839950",
   "metadata": {},
   "outputs": [],
   "source": [
    "np.unique(outliers, return_counts=True)"
   ]
  },
  {
   "cell_type": "code",
   "execution_count": null,
   "id": "035915a0",
   "metadata": {},
   "outputs": [],
   "source": [
    "outliers_score = lof.negative_outlier_factor_\n",
    "outliers_score"
   ]
  },
  {
   "cell_type": "code",
   "execution_count": null,
   "id": "8b01346c",
   "metadata": {},
   "outputs": [],
   "source": [
    "outlier4 = np.where(outliers==-1)"
   ]
  },
  {
   "cell_type": "code",
   "execution_count": null,
   "id": "7e63acae",
   "metadata": {},
   "outputs": [],
   "source": [
    "#Creo dataset per inserire outlier di una serie di metodi\n",
    "X = pd.DataFrame(outliers_score, columns=[\"LOF_score\"])\n",
    "X[\"LOF_label\"] = outliers"
   ]
  },
  {
   "cell_type": "code",
   "execution_count": null,
   "id": "81859564",
   "metadata": {},
   "outputs": [],
   "source": [
    "lof.negative_outlier_factor_[np.where(outliers==-1)]"
   ]
  },
  {
   "cell_type": "code",
   "execution_count": null,
   "id": "dc447709",
   "metadata": {},
   "outputs": [],
   "source": [
    "max_val = np.max(lof.negative_outlier_factor_[np.where(outliers==-1)])\n",
    "max_val"
   ]
  },
  {
   "cell_type": "code",
   "execution_count": null,
   "id": "242ac914",
   "metadata": {},
   "outputs": [],
   "source": [
    "np.min(lof.negative_outlier_factor_[np.where(outliers==-1)])"
   ]
  },
  {
   "cell_type": "code",
   "execution_count": null,
   "id": "3ed9bf74",
   "metadata": {},
   "outputs": [],
   "source": [
    "plt.hist(lof.negative_outlier_factor_, bins=10)\n",
    "plt.axvline(max_val, c='r')\n",
    "plt.text(max_val, 250, 'outliers')\n",
    "plt.show()"
   ]
  },
  {
   "cell_type": "markdown",
   "id": "49970796",
   "metadata": {},
   "source": [
    "## Isolation Forest"
   ]
  },
  {
   "cell_type": "code",
   "execution_count": null,
   "id": "7cd089b8",
   "metadata": {},
   "outputs": [],
   "source": [
    "from sklearn.ensemble import IsolationForest\n",
    "from sklearn.model_selection import train_test_split\n",
    "from numpy import quantile, random, where"
   ]
  },
  {
   "cell_type": "code",
   "execution_count": null,
   "id": "4be0f6cf",
   "metadata": {},
   "outputs": [],
   "source": [
    "contamination=float(.01) #specifichiamo la percentuale di outliers che si presume ci sia"
   ]
  },
  {
   "cell_type": "code",
   "execution_count": null,
   "id": "e3527207",
   "metadata": {},
   "outputs": [],
   "source": [
    "%%time\n",
    "IF = IsolationForest(n_estimators = 100, random_state=42)\n",
    "IF.fit(X_train)"
   ]
  },
  {
   "cell_type": "code",
   "execution_count": null,
   "id": "da864bbd",
   "metadata": {},
   "outputs": [],
   "source": [
    "outliers = IF.predict(X_train)\n",
    "np.unique(outliers, return_counts=True)"
   ]
  },
  {
   "cell_type": "code",
   "execution_count": null,
   "id": "5968c5e8",
   "metadata": {},
   "outputs": [],
   "source": [
    "my_array=IF.decision_function(X_train) #score\n",
    "my_array2=IF.predict(X_train) #label"
   ]
  },
  {
   "cell_type": "code",
   "execution_count": null,
   "id": "dd70b8a1",
   "metadata": {},
   "outputs": [],
   "source": [
    "#creo un dataset in cui vado ad inserire tutte le anomalie con lo score corrispondente\n",
    "X[\"IF_score\"] = my_array\n",
    "X[\"IF_label\"] = my_array2"
   ]
  },
  {
   "cell_type": "code",
   "execution_count": null,
   "id": "db75584c",
   "metadata": {},
   "outputs": [],
   "source": [
    "#se vogliamo printare le anomalie o la riga corrispondente\n",
    "anomaly=X.loc[X['IF_label']==-1]\n",
    "anomaly_index=list(anomaly.index)"
   ]
  },
  {
   "cell_type": "code",
   "execution_count": null,
   "id": "8eadfc33",
   "metadata": {},
   "outputs": [],
   "source": [
    "X_train.iloc[anomaly_index]"
   ]
  },
  {
   "cell_type": "markdown",
   "id": "998fb3d3",
   "metadata": {},
   "source": [
    "## ABOD"
   ]
  },
  {
   "cell_type": "code",
   "execution_count": null,
   "id": "c5edcf65",
   "metadata": {},
   "outputs": [],
   "source": [
    "#!pip install pyod\n",
    "from pyod.models.abod import ABOD\n",
    "from pyod.models.knn import KNN\n",
    "from pyod.models.lof import LOF\n",
    "from pyod.models.loci import LOCI\n",
    "#from pyod.models.auto_encoder import AutoEncoder"
   ]
  },
  {
   "cell_type": "code",
   "execution_count": null,
   "id": "a52dac26",
   "metadata": {},
   "outputs": [],
   "source": [
    "abod = ABOD(n_neighbors=17)\n",
    "abod.fit(X_train)"
   ]
  },
  {
   "cell_type": "code",
   "execution_count": null,
   "id": "c32ed43a",
   "metadata": {},
   "outputs": [],
   "source": [
    "abod_score= abod.decision_scores_"
   ]
  },
  {
   "cell_type": "code",
   "execution_count": null,
   "id": "1cf68c68",
   "metadata": {},
   "outputs": [],
   "source": [
    "outliers = abod.predict(X_train)\n",
    "np.unique(outliers, return_counts=True)"
   ]
  },
  {
   "cell_type": "code",
   "execution_count": null,
   "id": "8bfaaa39",
   "metadata": {},
   "outputs": [],
   "source": [
    "X[\"ABOD_score\"] = abod_score\n",
    "X[\"ABOD_label\"] = outliers"
   ]
  },
  {
   "cell_type": "code",
   "execution_count": null,
   "id": "f1f7abce",
   "metadata": {},
   "outputs": [],
   "source": [
    "plt.hist(abod.decision_scores_, bins=20)\n",
    "plt.axvline(np.min(abod.decision_scores_[np.where(outliers==1)]), c='k')\n",
    "plt.show()"
   ]
  },
  {
   "cell_type": "markdown",
   "id": "403e4dcd",
   "metadata": {},
   "source": [
    "## KNN"
   ]
  },
  {
   "cell_type": "markdown",
   "id": "9e298676",
   "metadata": {},
   "source": [
    "## Find best K"
   ]
  },
  {
   "cell_type": "code",
   "execution_count": null,
   "id": "1e41c2b6",
   "metadata": {},
   "outputs": [],
   "source": [
    "from sklearn.neighbors import KNeighborsClassifier\n",
    "\n",
    "error_rate = []\n",
    "for i in range(1,20):\n",
    "    knn = KNeighborsClassifier(n_neighbors=i)\n",
    "    knn.fit(X_train,y_train.values.ravel())\n",
    "    pred_i = knn.predict(X_test)\n",
    "    error_rate.append(np.mean(pred_i != np.ravel(y_test)))\n",
    "#print(pred_i)\n",
    "plt.figure(figsize=(10,6))\n",
    "plt.plot(range(1,20),error_rate,color='blue', linestyle='dashed', \n",
    "         marker='o',markerfacecolor='red', markersize=10)\n",
    "plt.title('Error Rate vs. K Value')\n",
    "plt.xlabel('K')\n",
    "plt.ylabel('Error Rate')\n",
    "print(\"Minimum error:-\",min(error_rate),\"at K =\",error_rate.index(min(error_rate)))"
   ]
  },
  {
   "cell_type": "code",
   "execution_count": null,
   "id": "b4d8f364",
   "metadata": {},
   "outputs": [],
   "source": [
    "clf = KNN(n_neighbors=17, metric='euclidean')\n",
    "clf.fit(X_train)"
   ]
  },
  {
   "cell_type": "code",
   "execution_count": null,
   "id": "89d81ee4",
   "metadata": {},
   "outputs": [],
   "source": [
    "outliers = clf.predict(X_train)\n",
    "np.unique(outliers, return_counts=True)"
   ]
  },
  {
   "cell_type": "code",
   "execution_count": null,
   "id": "2d92dfd0",
   "metadata": {},
   "outputs": [],
   "source": [
    "anomlay_score = clf.decision_function(X_train)"
   ]
  },
  {
   "cell_type": "code",
   "execution_count": null,
   "id": "0bcfd244",
   "metadata": {},
   "outputs": [],
   "source": [
    "X[\"KNN_score\"]= anomlay_score\n",
    "X[\"KNN_label\"] = outliers"
   ]
  },
  {
   "cell_type": "code",
   "execution_count": null,
   "id": "2d42152d",
   "metadata": {},
   "outputs": [],
   "source": [
    "plt.hist(clf.decision_scores_, bins=20)\n",
    "plt.axvline(np.min(clf.decision_scores_[np.where(outliers==1)]), c='k')\n",
    "plt.show()"
   ]
  },
  {
   "cell_type": "markdown",
   "id": "1001c4b3",
   "metadata": {},
   "source": [
    "## Dataset completo degli outliers\n"
   ]
  },
  {
   "cell_type": "code",
   "execution_count": null,
   "id": "e124d03e",
   "metadata": {},
   "outputs": [],
   "source": [
    "#Impostiamo un unica label di -1 outlier e 1 inlier\n",
    "classe = { 1 : -1 , 0 : 1}\n",
    "X[\"ABOD_label\"] = X[\"ABOD_label\"].map(classe)\n",
    "X[\"KNN_label\"] = X[\"KNN_label\"].map(classe)"
   ]
  },
  {
   "cell_type": "code",
   "execution_count": null,
   "id": "a9e5d4ef",
   "metadata": {},
   "outputs": [],
   "source": [
    "X"
   ]
  },
  {
   "cell_type": "markdown",
   "id": "625407a9",
   "metadata": {},
   "source": [
    "## TOP 10 outliers KNN vs Rest"
   ]
  },
  {
   "cell_type": "code",
   "execution_count": null,
   "id": "fd69a215",
   "metadata": {},
   "outputs": [],
   "source": [
    "#KNN\n",
    "a=X[\"KNN_score\"].tolist()\n",
    "a.sort(reverse=True)\n",
    "#a"
   ]
  },
  {
   "cell_type": "code",
   "execution_count": null,
   "id": "94d5c260",
   "metadata": {},
   "outputs": [],
   "source": [
    "b=[]   #lista in cui salvo la top 1% di outlier\n",
    "k=0\n",
    "for i in a:\n",
    "    b.append(i)\n",
    "    k+=1\n",
    "    if(k==10):\n",
    "        break\n",
    "#b  #top 10     "
   ]
  },
  {
   "cell_type": "code",
   "execution_count": null,
   "id": "1cdbbb96",
   "metadata": {},
   "outputs": [],
   "source": [
    "indx1=[]\n",
    "for i in range(len(X)):\n",
    "    for j in b:\n",
    "        if(j==X.iloc[i][\"KNN_score\"]):\n",
    "            indx1.append(i)\n",
    "indx1"
   ]
  },
  {
   "cell_type": "code",
   "execution_count": null,
   "id": "2ab6effb",
   "metadata": {},
   "outputs": [],
   "source": [
    "X.iloc[indx1].sort_values(by=['KNN_score'],  ascending=False).round(6)    #+ alto è lo score + \"outlier\" è"
   ]
  },
  {
   "cell_type": "markdown",
   "id": "b0564023",
   "metadata": {},
   "source": [
    "## TOP 10 outliers ABOD vs Rest"
   ]
  },
  {
   "cell_type": "code",
   "execution_count": null,
   "id": "2f35415a",
   "metadata": {},
   "outputs": [],
   "source": [
    "a=X[\"ABOD_score\"].tolist()\n",
    "a.sort(reverse=True)\n",
    "#a"
   ]
  },
  {
   "cell_type": "code",
   "execution_count": null,
   "id": "6bdf49c8",
   "metadata": {},
   "outputs": [],
   "source": [
    "b=[]\n",
    "k=0\n",
    "for i in a:\n",
    "    b.append(i)\n",
    "    k+=1\n",
    "    if(k==10):\n",
    "        break\n",
    "#b  #top 10     "
   ]
  },
  {
   "cell_type": "code",
   "execution_count": null,
   "id": "5755f523",
   "metadata": {},
   "outputs": [],
   "source": [
    "indx2=[]\n",
    "for i in range(len(X)):\n",
    "    for j in b:\n",
    "        if(j==X.iloc[i][\"ABOD_score\"]):\n",
    "            indx2.append(i)\n",
    "indx2"
   ]
  },
  {
   "cell_type": "code",
   "execution_count": null,
   "id": "9c1e12a4",
   "metadata": {},
   "outputs": [],
   "source": [
    "X.iloc[indx2].sort_values(by=['ABOD_score'],  ascending=False).round(6)   #+ piccolo è lo score + \"outlier\" è"
   ]
  },
  {
   "cell_type": "markdown",
   "id": "8bc31bbc",
   "metadata": {},
   "source": [
    "## TOP 10 outliers IF_score vs Rest"
   ]
  },
  {
   "cell_type": "code",
   "execution_count": null,
   "id": "6fef86dc",
   "metadata": {},
   "outputs": [],
   "source": [
    "a=X[\"IF_score\"].tolist()\n",
    "a.sort(reverse=False)\n",
    "#a"
   ]
  },
  {
   "cell_type": "code",
   "execution_count": null,
   "id": "d426b81c",
   "metadata": {},
   "outputs": [],
   "source": [
    "b=[]\n",
    "k=0\n",
    "for i in a:\n",
    "    b.append(i)\n",
    "    k+=1\n",
    "    if(k==10):\n",
    "        break\n",
    "#b  #top 10     "
   ]
  },
  {
   "cell_type": "code",
   "execution_count": null,
   "id": "df5259d3",
   "metadata": {},
   "outputs": [],
   "source": [
    "indx3=[]\n",
    "for i in range(len(X)):\n",
    "    for j in b:\n",
    "        if(j==X.iloc[i][\"IF_score\"]):\n",
    "            indx3.append(i)\n",
    "indx3"
   ]
  },
  {
   "cell_type": "code",
   "execution_count": null,
   "id": "ae10d347",
   "metadata": {},
   "outputs": [],
   "source": [
    "X.iloc[indx3].sort_values(by=['IF_score'],  ascending=True).round(6)    #+ piccolo è lo score + \"outlier\" è"
   ]
  },
  {
   "cell_type": "markdown",
   "id": "ad8de212",
   "metadata": {},
   "source": [
    "## TOP 10 outliers LOF vs Rest"
   ]
  },
  {
   "cell_type": "code",
   "execution_count": null,
   "id": "dfc45aae",
   "metadata": {},
   "outputs": [],
   "source": [
    "a=X[\"LOF_score\"].tolist()\n",
    "a.sort(reverse=False)\n",
    "#a"
   ]
  },
  {
   "cell_type": "code",
   "execution_count": null,
   "id": "881b76a0",
   "metadata": {},
   "outputs": [],
   "source": [
    "b=[]\n",
    "k=0\n",
    "for i in a:\n",
    "    b.append(i)\n",
    "    k+=1\n",
    "    if(k==len(lista_lofs_index)):\n",
    "        break\n",
    "#b  #top 10   "
   ]
  },
  {
   "cell_type": "code",
   "execution_count": null,
   "id": "9a56a24f",
   "metadata": {},
   "outputs": [],
   "source": [
    "indx4=[]\n",
    "for i in range(len(X)):\n",
    "    for j in b:\n",
    "        if(j==X.iloc[i][\"LOF_score\"]):\n",
    "            indx4.append(i)\n",
    "indx4"
   ]
  },
  {
   "cell_type": "code",
   "execution_count": null,
   "id": "504b9c85",
   "metadata": {},
   "outputs": [],
   "source": [
    "X.iloc[indx4].sort_values(by=['LOF_score'],  ascending=True)    #+ negativi sono gli score + \"outlier\" è"
   ]
  },
  {
   "cell_type": "code",
   "execution_count": null,
   "id": "e2e073d3",
   "metadata": {},
   "outputs": [],
   "source": [
    "#TOP 10 OUTLIERS IN COMUNE TRA ABOD, KNN, ISOL_FOR!!!!! oppure guardare i top 10 di un metodo con gli scores degli altri\n",
    "index1 = indx1\n",
    "index2 = indx2\n",
    "index3 = indx3\n",
    "index4 = indx4\n",
    "\n",
    "indx1 = set(indx1)    #KNN\n",
    "indx2 = set(indx2)    #ABOD\n",
    "indx3 = set(indx3)    #IF _FOREST\n",
    "indx4 = set(indx4)    #LOF E' quello che si comporta in maniera differente dagli altri, trovando soltanto 9 outlier rispetto ai circa 600 degli altri 3, ed inoltre e' quello che identifica il minor numero di outlier in comune con gli altri. soltano 2 elementi in comune di cui uno con un metodo ed il restante con l'altro metodo. per questo motivo abbiamo deciso di eliminare gli outlier in comune a KNN e isolation forestw\n",
    "\n",
    "intersect =  indx1 & indx3 & indx4    #i + simili sono indx1 e indx 3 con 7 top 10 outlier in comune, (KNN-Isol_Forest)\n",
    "intersect\n",
    "mylist = [x for x in intersect] #converto intersect in lista\n",
    "mylist"
   ]
  },
  {
   "cell_type": "code",
   "execution_count": null,
   "id": "12763973",
   "metadata": {},
   "outputs": [],
   "source": [
    "X[\"Subject\"] = subjects.iloc[mylist][0]\n",
    "X[\"Activity\"] = y_train.iloc[mylist][0]"
   ]
  },
  {
   "cell_type": "code",
   "execution_count": null,
   "id": "aa69379f",
   "metadata": {},
   "outputs": [],
   "source": [
    "#Outliers da eliminare\n",
    "X.iloc[mylist].round(6)"
   ]
  },
  {
   "cell_type": "code",
   "execution_count": null,
   "id": "bfda7084",
   "metadata": {},
   "outputs": [],
   "source": [
    "#vediamo a quale attività corrispondono\n",
    "y_train.iloc[mylist]"
   ]
  },
  {
   "cell_type": "code",
   "execution_count": null,
   "id": "a8d9201e",
   "metadata": {},
   "outputs": [],
   "source": [
    "#vediamo a quale soggetto corrispondo\n",
    "subject.iloc[mylist]"
   ]
  },
  {
   "cell_type": "markdown",
   "id": "4c3632ff",
   "metadata": {},
   "source": [
    "## Outliers totali in comune"
   ]
  },
  {
   "cell_type": "code",
   "execution_count": null,
   "id": "3c98660d",
   "metadata": {},
   "outputs": [],
   "source": [
    "#Salvo l'indice di tutti gli outlier\n",
    "anomaly_IF=X.loc[X['IF_label']==-1]\n",
    "anomaly_IF_index=list(anomaly_IF.index)\n",
    "anomaly_KNN=X.loc[X['KNN_label']==-1]\n",
    "anomaly_KNN_index=list(anomaly_KNN.index)\n",
    "anomaly_LOF=X.loc[X['LOF_label']==-1]\n",
    "anomaly_LOF_index=list(anomaly_LOF.index)\n",
    "anomaly_ABOD=X.loc[X['ABOD_label']==-1]\n",
    "anomaly_ABOD_index=list(anomaly_ABOD.index)"
   ]
  },
  {
   "cell_type": "code",
   "execution_count": null,
   "id": "9134dcfa",
   "metadata": {},
   "outputs": [],
   "source": [
    "#Intersezione per vedere quali outlier sono in comune tra i metodi\n",
    "anomaly_IF_index = set(anomaly_IF_index)\n",
    "anomaly_KNN_index = set(anomaly_KNN_index)\n",
    "anomaly_LOF_index = set(anomaly_LOF_index)\n",
    "anomaly_ABOD_index  = set(anomaly_ABOD_index)\n",
    "\n",
    "intersezione = anomaly_IF_index & anomaly_KNN_index  & anomaly_ABOD_index\n",
    "len(intersezione)"
   ]
  },
  {
   "cell_type": "code",
   "execution_count": null,
   "id": "6cea2fef",
   "metadata": {},
   "outputs": [],
   "source": [
    "#OUTLIERS IN COMUNE TRA I DIVERSI METODI TRANNE LOF\n",
    "len(intersezione)"
   ]
  },
  {
   "cell_type": "markdown",
   "id": "b4f55e2a",
   "metadata": {},
   "source": [
    "## Grubbs Test"
   ]
  },
  {
   "cell_type": "code",
   "execution_count": null,
   "id": "c9728815",
   "metadata": {},
   "outputs": [],
   "source": [
    "# https://pypi.org/project/outlier_utils/"
   ]
  },
  {
   "cell_type": "code",
   "execution_count": null,
   "id": "cec269e5",
   "metadata": {},
   "outputs": [],
   "source": [
    "import numpy as np\n",
    "from scipy import stats"
   ]
  },
  {
   "cell_type": "code",
   "execution_count": null,
   "id": "df99a3dd",
   "metadata": {},
   "outputs": [],
   "source": [
    "data = np.array([5, 14, 15, 15, 14, 19, 17, 16, 20, 22, 8, 21, 28, 11, 9])\n",
    "alpha = 0.95\n",
    "n = len(data)"
   ]
  },
  {
   "cell_type": "code",
   "execution_count": null,
   "id": "7e9fbd5f",
   "metadata": {},
   "outputs": [],
   "source": [
    "significance_level = alpha / (2*n)  #alpha / n"
   ]
  },
  {
   "cell_type": "code",
   "execution_count": null,
   "id": "af209f71",
   "metadata": {},
   "outputs": [],
   "source": [
    "1-significance_level"
   ]
  },
  {
   "cell_type": "code",
   "execution_count": null,
   "id": "b7a0882e",
   "metadata": {},
   "outputs": [],
   "source": [
    "t = stats.t.isf(significance_level, n-2, 2)"
   ]
  },
  {
   "cell_type": "code",
   "execution_count": null,
   "id": "a7056698",
   "metadata": {},
   "outputs": [],
   "source": [
    "g_test = ((n-1) / np.sqrt(n)) * (np.sqrt(t**2 / (n-2 + t**2)))"
   ]
  },
  {
   "cell_type": "code",
   "execution_count": null,
   "id": "1488ce00",
   "metadata": {},
   "outputs": [],
   "source": [
    "relative_values = abs(data - data.mean())\n",
    "index = relative_values.argmax()\n",
    "value = relative_values[index]"
   ]
  },
  {
   "cell_type": "code",
   "execution_count": null,
   "id": "e7c1b93f",
   "metadata": {},
   "outputs": [],
   "source": [
    "index, value"
   ]
  },
  {
   "cell_type": "code",
   "execution_count": null,
   "id": "c229e8fb",
   "metadata": {},
   "outputs": [],
   "source": [
    "g = value / data.std()"
   ]
  },
  {
   "cell_type": "code",
   "execution_count": null,
   "id": "e873f431",
   "metadata": {},
   "outputs": [],
   "source": [
    "g, g_test"
   ]
  },
  {
   "cell_type": "code",
   "execution_count": null,
   "id": "218ab163",
   "metadata": {},
   "outputs": [],
   "source": [
    "if g > g_test:\n",
    "    print('outlier')\n",
    "else:\n",
    "    print('inlier')"
   ]
  },
  {
   "cell_type": "code",
   "execution_count": null,
   "id": "a1a8b575",
   "metadata": {},
   "outputs": [],
   "source": [
    "stats.t.isf(0.01, 10)"
   ]
  },
  {
   "cell_type": "code",
   "execution_count": null,
   "id": "5f672d4c",
   "metadata": {},
   "outputs": [],
   "source": [
    "stats.t.isf(0.01, 100)"
   ]
  },
  {
   "cell_type": "code",
   "execution_count": null,
   "id": "193ee4a5",
   "metadata": {},
   "outputs": [],
   "source": [
    "stats.t.isf(0.01, 1000)"
   ]
  },
  {
   "cell_type": "markdown",
   "id": "a951f279",
   "metadata": {},
   "source": [
    "## PCA for top10 outliers visualization"
   ]
  },
  {
   "cell_type": "code",
   "execution_count": null,
   "id": "961c1561",
   "metadata": {},
   "outputs": [],
   "source": [
    "from sklearn.decomposition import PCA\n",
    "\n",
    "pca=PCA(n_components=2)\n",
    "principal_components = pca.fit_transform(X_train)\n",
    "principal_df = pd.DataFrame(data = principal_components)\n",
    "\n",
    "print(principal_df.shape)"
   ]
  },
  {
   "cell_type": "code",
   "execution_count": null,
   "id": "f22c3731",
   "metadata": {},
   "outputs": [],
   "source": [
    "#estraggo il subset dell'IF per poi plottarlo \n",
    "outliers_iso_for = principal_df.iloc[index3]"
   ]
  },
  {
   "cell_type": "code",
   "execution_count": null,
   "id": "4dc3647d",
   "metadata": {},
   "outputs": [],
   "source": [
    "# plot outlier values of IF\n",
    "plt.figure(figsize=(8,5))\n",
    "plt.scatter(principal_df[0], principal_df[1], color = \"b\", s = 20, edgecolor='black')\n",
    "plt.scatter(outliers_iso_for[0], outliers_iso_for[1], s=40, color = \"r\", edgecolor='black')\n",
    "plt.title(\"Scatter Plot PCA con Outliers IF\", fontsize=14)\n",
    "plt.xlabel(\"Principal component 1\", fontsize=13)\n",
    "plt.ylabel(\"Principal component 2\", fontsize=13)\n",
    "plt.show()"
   ]
  },
  {
   "cell_type": "code",
   "execution_count": null,
   "id": "468f3bfe",
   "metadata": {},
   "outputs": [],
   "source": [
    "#estraggo il subset del KNN per poi plottarlo \n",
    "outliers_KNN = principal_df.iloc[index1]"
   ]
  },
  {
   "cell_type": "code",
   "execution_count": null,
   "id": "01b2a578",
   "metadata": {},
   "outputs": [],
   "source": [
    "# plot outlier values of KNN\n",
    "plt.figure(figsize=(8,5))\n",
    "plt.scatter(principal_df[0], principal_df[1], color = \"b\", s = 20, edgecolor='black')\n",
    "plt.scatter(outliers_KNN[0], outliers_KNN[1], s=40, color = \"r\", edgecolor='black')\n",
    "plt.title(\"Scatter Plot PCA con Outliers KNN\", fontsize=14)\n",
    "plt.xlabel(\"Principal component 1\", fontsize=13)\n",
    "plt.ylabel(\"Principal component 2\", fontsize=13)\n",
    "plt.show()"
   ]
  },
  {
   "cell_type": "code",
   "execution_count": null,
   "id": "6d9dfec6",
   "metadata": {},
   "outputs": [],
   "source": [
    "#estraggo il subset del ABOD per poi plottarlo \n",
    "outliers_ABOD = principal_df.iloc[index2]"
   ]
  },
  {
   "cell_type": "code",
   "execution_count": null,
   "id": "3dd64432",
   "metadata": {},
   "outputs": [],
   "source": [
    "# plot outlier values of ABOD\n",
    "plt.figure(figsize=(8,5))\n",
    "plt.scatter(principal_df[0], principal_df[1], color = \"b\", s = 20, edgecolor='black')\n",
    "plt.scatter(outliers_ABOD[0], outliers_ABOD[1],s=40, color = \"r\", edgecolor='black' )\n",
    "plt.title(\"Scatter Plot PCA con Outliers ABOD\", fontsize=14)\n",
    "plt.xlabel(\"Principal component 1\", fontsize=13)\n",
    "plt.ylabel(\"Principal component 2\", fontsize=13)\n",
    "plt.show()"
   ]
  }
 ],
 "metadata": {
  "kernelspec": {
   "display_name": "Python 3 (ipykernel)",
   "language": "python",
   "name": "python3"
  },
  "language_info": {
   "codemirror_mode": {
    "name": "ipython",
    "version": 3
   },
   "file_extension": ".py",
   "mimetype": "text/x-python",
   "name": "python",
   "nbconvert_exporter": "python",
   "pygments_lexer": "ipython3",
   "version": "3.9.12"
  }
 },
 "nbformat": 4,
 "nbformat_minor": 5
}
