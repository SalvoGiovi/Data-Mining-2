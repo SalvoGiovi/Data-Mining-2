{
 "cells": [
  {
   "cell_type": "markdown",
   "id": "1a5a5134",
   "metadata": {},
   "source": [
    "# Imbalanced_Learning"
   ]
  },
  {
   "cell_type": "code",
   "execution_count": null,
   "id": "b2150802",
   "metadata": {},
   "outputs": [],
   "source": [
    "%matplotlib inline\n",
    "\n",
    "import numpy as np\n",
    "import pandas as pd\n",
    "import matplotlib.pyplot as plt\n",
    "\n",
    "from collections import Counter\n",
    "from collections import defaultdict"
   ]
  },
  {
   "cell_type": "code",
   "execution_count": null,
   "id": "2eeed37c",
   "metadata": {},
   "outputs": [],
   "source": [
    "X_train = pd.read_csv(\"X_train.txt\", header=None,  delim_whitespace=True)\n",
    "y_train = pd.read_csv(\"y_train.txt\", header=None, delim_whitespace=True )\n",
    "X_test = pd.read_csv(\"X_test.txt\", header=None, delim_whitespace=True )\n",
    "y_test = pd.read_csv(\"y_test.txt\", header=None, delim_whitespace=True )\n",
    "features = pd.read_csv(\"features.txt\", header=None, delim_whitespace=True )\n",
    "subject = pd.read_csv(\"subject_train.txt\", header=None, delim_whitespace=True )"
   ]
  },
  {
   "cell_type": "code",
   "execution_count": null,
   "id": "58ac5729",
   "metadata": {},
   "outputs": [],
   "source": [
    "feature = features\n",
    "subjects = subject\n",
    "feature.drop(0,inplace=True, axis=1)"
   ]
  },
  {
   "cell_type": "code",
   "execution_count": null,
   "id": "b0a925eb",
   "metadata": {},
   "outputs": [],
   "source": [
    "#inseriamo l'intestazione al dataset\n",
    "lista=[]\n",
    "feat_transpa = feature.transpose()\n",
    "for i in range(561):\n",
    "    lista.append(feat_transpa.iloc[0][i])\n",
    "X_test.columns=lista    \n",
    "X_train.columns=lista"
   ]
  },
  {
   "cell_type": "code",
   "execution_count": null,
   "id": "654087b2",
   "metadata": {},
   "outputs": [],
   "source": [
    "# eliminiamo le colonne che contengono la stima mad in quanto quasi uguale a dev.std\n",
    "stringa=\"mad()\"\n",
    "for col in X_train.columns:\n",
    "    if(stringa in col):\n",
    "        X_train.drop(labels=col, axis=1, inplace=True)\n",
    "for col in X_teast.columns:\n",
    "    if(stringa in col):\n",
    "        X_test.drop(labels=col, axis=1, inplace=True)        "
   ]
  },
  {
   "cell_type": "code",
   "execution_count": null,
   "id": "32871f41",
   "metadata": {},
   "outputs": [],
   "source": [
    "np.unique(y_train, return_counts=True)"
   ]
  },
  {
   "cell_type": "markdown",
   "id": "502e4372",
   "metadata": {},
   "source": [
    "## Undersampling"
   ]
  },
  {
   "cell_type": "code",
   "execution_count": null,
   "id": "83e689a5",
   "metadata": {},
   "outputs": [],
   "source": [
    "#Inseriamo gli indici dei record delle classi da eliminare in una lista"
   ]
  },
  {
   "cell_type": "code",
   "execution_count": null,
   "id": "a8cc366a",
   "metadata": {},
   "outputs": [],
   "source": [
    "#inserisco in una lista gli indici delle classi che vorremmo togliere; TEST\n",
    "prova_test1=[]\n",
    "for i in range(len(y_test)):\n",
    "    if( y_test.iloc[i][0]== 5 ):\n",
    "        prova_test1.append(i)\n",
    "#prova_test        "
   ]
  },
  {
   "cell_type": "code",
   "execution_count": null,
   "id": "37f30d9e",
   "metadata": {},
   "outputs": [],
   "source": [
    "#inserisco in una lista gli indici delle classi che vorremmo togliere; TEST\n",
    "prova_test2=[]\n",
    "for i in range(len(y_test)):\n",
    "    if( y_test.iloc[i][0]== 2 ):\n",
    "        prova_test2.append(i)\n",
    "#prova_test        "
   ]
  },
  {
   "cell_type": "code",
   "execution_count": null,
   "id": "62ad52bc",
   "metadata": {},
   "outputs": [],
   "source": [
    "#inserisco in una lista gli indici delle classi che vorremmo togliere; TRAIN\n",
    "prova_train1=[]\n",
    "for i in range(len(y_train)):\n",
    "    if(y_train.iloc[i][0]==5 ):\n",
    "        prova_train1.append(i)\n",
    "#prova_train     "
   ]
  },
  {
   "cell_type": "code",
   "execution_count": null,
   "id": "ef1c38d0",
   "metadata": {},
   "outputs": [],
   "source": [
    "#inserisco in una lista gli indici delle classi che vorremmo togliere; TRAIN\n",
    "prova_train2=[]\n",
    "for i in range(len(y_train)):\n",
    "    if(y_train.iloc[i][0]== 2):\n",
    "        prova_train2.append(i)\n",
    "#prova_train  "
   ]
  },
  {
   "cell_type": "code",
   "execution_count": null,
   "id": "b73abf8a",
   "metadata": {},
   "outputs": [],
   "source": [
    "y_test1 = pd.Series(prova_test1, copy=False) #5\n",
    "y_test2 = pd.Series(prova_test2, copy=False) #2\n",
    "len(y_test1),len(y_test2)"
   ]
  },
  {
   "cell_type": "code",
   "execution_count": null,
   "id": "465012c5",
   "metadata": {},
   "outputs": [],
   "source": [
    "y_train1 = pd.Series(prova_train1, copy=False)\n",
    "y_train2 = pd.Series(prova_train2, copy=False)\n",
    "len(y_train1), len(y_train2)"
   ]
  },
  {
   "cell_type": "markdown",
   "id": "2053bdd6",
   "metadata": {},
   "source": [
    "### leviamo gli indici della classe da sbilanciare nel TRAIN (1/10)"
   ]
  },
  {
   "cell_type": "code",
   "execution_count": null,
   "id": "77da06a5",
   "metadata": {},
   "outputs": [],
   "source": [
    "#TRAIN\n",
    "rows2remove_tr1 = np.random.choice((y_train1), 1374 - 137, replace=False) #1/10\n",
    "#rows2remove_tr1"
   ]
  },
  {
   "cell_type": "code",
   "execution_count": null,
   "id": "5e0c1271",
   "metadata": {},
   "outputs": [],
   "source": [
    "rows2remove_tr2 = np.random.choice((y_train2), 1073 - 107, replace=False) #1/10"
   ]
  },
  {
   "cell_type": "code",
   "execution_count": null,
   "id": "219b9354",
   "metadata": {},
   "outputs": [],
   "source": [
    "#unisco i due array in modo da avere un unico array con gli indici delle classi da levare\n",
    "rows2remove_tr=np.concatenate((rows2remove_tr1, rows2remove_tr2), axis=None)"
   ]
  },
  {
   "cell_type": "code",
   "execution_count": null,
   "id": "5d3739aa",
   "metadata": {},
   "outputs": [],
   "source": [
    "rows2remove_tr"
   ]
  },
  {
   "cell_type": "markdown",
   "id": "9968ffb2",
   "metadata": {},
   "source": [
    "### Eliminiamo gli indici delle classi da sbilanciare nel TEST (1/10)"
   ]
  },
  {
   "cell_type": "code",
   "execution_count": null,
   "id": "f096e427",
   "metadata": {},
   "outputs": [],
   "source": [
    "#TEST\n",
    "rows2remove_tes1 = np.random.choice((y_test1), 532 - 53, replace=False) # 1/10"
   ]
  },
  {
   "cell_type": "code",
   "execution_count": null,
   "id": "dba4cab7",
   "metadata": {},
   "outputs": [],
   "source": [
    "rows2remove_tes2 = np.random.choice((y_test2), 471 - 47, replace=False) # 1/10"
   ]
  },
  {
   "cell_type": "code",
   "execution_count": null,
   "id": "ce65c76b",
   "metadata": {},
   "outputs": [],
   "source": [
    "rows2remove_tes = np.concatenate((rows2remove_tes1, rows2remove_tes2), axis=None)"
   ]
  },
  {
   "cell_type": "markdown",
   "id": "ed3062b1",
   "metadata": {},
   "source": [
    "### Osserviamo com'è cambiata la distribuzione"
   ]
  },
  {
   "cell_type": "code",
   "execution_count": null,
   "id": "736feb76",
   "metadata": {},
   "outputs": [],
   "source": [
    "X_test_sbilanciato = X_test.drop(rows2remove_tes, axis=0)\n",
    "y_test_sbilanciato = y_test.drop(rows2remove_tes, axis=0)\n",
    "\n",
    "X_train_sbilanciato = X_train.drop(rows2remove_tr, axis=0)\n",
    "y_train_sbilanciato = y_train.drop(rows2remove_tr, axis=0)\n",
    "\n"
   ]
  },
  {
   "cell_type": "code",
   "execution_count": null,
   "id": "fe72fa83",
   "metadata": {},
   "outputs": [],
   "source": [
    "#Originale\n",
    "np.unique(y_train, return_counts=True), np.unique(y_test, return_counts=True)"
   ]
  },
  {
   "cell_type": "code",
   "execution_count": null,
   "id": "875a2422",
   "metadata": {},
   "outputs": [],
   "source": [
    "#Sbilanciato\n",
    "np.unique(y_train_sbilanciato, return_counts=True), np.unique(y_test_sbilanciato, return_counts=True)"
   ]
  },
  {
   "cell_type": "markdown",
   "id": "19ea8263",
   "metadata": {},
   "source": [
    "## Classification"
   ]
  },
  {
   "cell_type": "code",
   "execution_count": null,
   "id": "2ba57fc1",
   "metadata": {},
   "outputs": [],
   "source": [
    "from sklearn.model_selection import train_test_split, cross_val_score \n",
    "from sklearn.metrics import accuracy_score, f1_score, classification_report\n",
    "from sklearn.metrics import roc_curve, auc, roc_auc_score\n",
    "from sklearn.neighbors import KNeighborsClassifier\n",
    "from sklearn.tree import DecisionTreeClassifier\n",
    "from sklearn.model_selection import GridSearchCV\n"
   ]
  },
  {
   "cell_type": "markdown",
   "id": "5dd12f8c",
   "metadata": {},
   "source": [
    "### DecisionTree"
   ]
  },
  {
   "cell_type": "code",
   "execution_count": null,
   "id": "f5098bdc",
   "metadata": {},
   "outputs": [],
   "source": [
    "param_list = {'max_depth': [None],    \n",
    "             'min_samples_split': [2, 4, 5, 10, 20, 30],\n",
    "             'min_samples_leaf': [1, 4, 5, 10, 20, 30], \n",
    "             'criterion': [ 'entropy']\n",
    "             }"
   ]
  },
  {
   "cell_type": "code",
   "execution_count": null,
   "id": "ad839a33",
   "metadata": {},
   "outputs": [],
   "source": [
    "clf_search = DecisionTreeClassifier() \n",
    "clf_search.fit(X_train_sbilanciato, y_train_sbilanciato)"
   ]
  },
  {
   "cell_type": "code",
   "execution_count": null,
   "id": "8a83026a",
   "metadata": {},
   "outputs": [],
   "source": [
    "grid_search = GridSearchCV(clf_search, param_grid=param_list)\n",
    "grid_search.fit(X_train_sbilanciato, y_train_sbilanciato) ##### ASK !!\n",
    "res = grid_search.cv_results_"
   ]
  },
  {
   "cell_type": "code",
   "execution_count": null,
   "id": "b3bfc059",
   "metadata": {},
   "outputs": [],
   "source": [
    "grid_search.best_params_"
   ]
  },
  {
   "cell_type": "code",
   "execution_count": null,
   "id": "946e3159",
   "metadata": {},
   "outputs": [],
   "source": [
    "clf = DecisionTreeClassifier(random_state=42)\n",
    "clf.fit(X_train_sbilanciato, y_train_sbilanciato)\n",
    "y_pred0 = clf.predict(X_test_sbilanciato)\n",
    "\n",
    "print('Accuracy %s' % accuracy_score(y_test_sbilanciato, y_pred0))\n",
    "print('F1-score %s' % f1_score(y_test_sbilanciato, y_pred0, average=None))\n",
    "print(classification_report(y_test_sbilanciato, y_pred0))"
   ]
  },
  {
   "cell_type": "markdown",
   "id": "02132f3f",
   "metadata": {},
   "source": [
    "### KNN"
   ]
  },
  {
   "cell_type": "code",
   "execution_count": null,
   "id": "06b5da4e",
   "metadata": {},
   "outputs": [],
   "source": [
    "from sklearn.neighbors import KNeighborsClassifier\n",
    "\n",
    "error_rate = []\n",
    "for i in range(1,30):\n",
    "    knn = KNeighborsClassifier(n_neighbors=i)\n",
    "    knn.fit(X_train_sbilanciato,y_train_sbilanciato.values.ravel())\n",
    "    pred_i = knn.predict(X_test_sbilanciato)\n",
    "    error_rate.append(np.mean(pred_i != np.ravel(y_test_sbilanciato)))\n",
    "#print(pred_i)\n",
    "plt.figure(figsize=(10,6))\n",
    "plt.plot(range(1,30),error_rate,color='blue', linestyle='dashed', \n",
    "         marker='o',markerfacecolor='red', markersize=10)\n",
    "plt.title('Error Rate vs. K Value')\n",
    "plt.xlabel('K')\n",
    "plt.ylabel('Error Rate')\n",
    "print(\"Minimum error:-\",min(error_rate),\"at K =\",error_rate.index(min(error_rate)))"
   ]
  },
  {
   "cell_type": "code",
   "execution_count": null,
   "id": "6300b502",
   "metadata": {},
   "outputs": [],
   "source": [
    "clf_knn = KNeighborsClassifier(n_neighbors=17, weights='uniform') # 26 vicini\n",
    "clf_knn.fit(X_train_sbilanciato, np.ravel(y_train_sbilanciato)) #df3\n",
    "y_pred_knn = clf_knn.predict(X_test_sbilanciato)"
   ]
  },
  {
   "cell_type": "code",
   "execution_count": null,
   "id": "42831005",
   "metadata": {},
   "outputs": [],
   "source": [
    "print('Accuracy %s' % accuracy_score(y_test_sbilanciato, y_pred_knn))\n",
    "print('F1-score %s' % f1_score(y_test_sbilanciato, y_pred_knn, average=None))\n",
    "print(classification_report(y_test_sbilanciato, y_pred_knn))"
   ]
  },
  {
   "cell_type": "markdown",
   "id": "30187659",
   "metadata": {},
   "source": [
    "## OutOfProject"
   ]
  },
  {
   "cell_type": "markdown",
   "id": "c352ba72",
   "metadata": {},
   "source": [
    "### RandomUnderSampler"
   ]
  },
  {
   "cell_type": "code",
   "execution_count": null,
   "id": "99dda4e3",
   "metadata": {},
   "outputs": [],
   "source": [
    "from imblearn.under_sampling import RandomUnderSampler\n",
    "from imblearn.under_sampling import CondensedNearestNeighbour"
   ]
  },
  {
   "cell_type": "code",
   "execution_count": null,
   "id": "3c0feb65",
   "metadata": {},
   "outputs": [],
   "source": [
    "rus = RandomUnderSampler(random_state=42)\n",
    "X_res, y_res = rus.fit_resample(X_train, y_train)\n",
    "print('Resampled dataset shape %s' % Counter(y_res))"
   ]
  },
  {
   "cell_type": "code",
   "execution_count": null,
   "id": "aee5f814",
   "metadata": {},
   "outputs": [],
   "source": [
    "pca = PCA(n_components=2)\n",
    "pca.fit(X_train)\n",
    "X_pca = pca.transform(X_res)\n",
    "\n",
    "plt.scatter(X_pca[:, 0], X_pca[:, 1], c=y_res, cmap=plt.cm.prism, edgecolor='k', alpha=0.7)\n",
    "plt.show()"
   ]
  },
  {
   "cell_type": "code",
   "execution_count": null,
   "id": "831ddf2f",
   "metadata": {},
   "outputs": [],
   "source": [
    "clf = DecisionTreeClassifier(min_samples_leaf=3, random_state=42)\n",
    "clf.fit(X_res, y_res)\n",
    "\n",
    "y_pred = clf.predict(X_test)\n",
    "\n",
    "print('Accuracy %s' % accuracy_score(y_test, y_pred))\n",
    "print('F1-score %s' % f1_score(y_test, y_pred, average=None))\n",
    "print(classification_report(y_test, y_pred))\n",
    "\n",
    "y_score = clf.predict_proba(X_test)\n",
    "fpr, tpr, _ = roc_curve(y_test, y_score[:, 1])\n",
    "roc_auc = auc(fpr, tpr)\n",
    "\n",
    "plt.plot(fpr0, tpr0, color='darkorange', lw=3, label='$AUC_0$ = %.3f' % (roc_auc0))\n",
    "plt.plot(fpr, tpr, color='green', lw=3, label='$AUC_1$ = %.3f' % (roc_auc))\n",
    "\n",
    "plt.plot([0, 1], [0, 1], color='navy', lw=2, linestyle='--')\n",
    "plt.xlim([0.0, 1.0])\n",
    "plt.ylim([0.0, 1.05])\n",
    "plt.xlabel('False Positive Rate', fontsize=16)\n",
    "plt.ylabel('True Positive Rate', fontsize=16)\n",
    "plt.title('ROC curve', fontsize=16)\n",
    "plt.legend(loc=\"lower right\", fontsize=14, frameon=False)\n",
    "plt.tick_params(axis='both', which='major', labelsize=16)\n",
    "plt.show()"
   ]
  },
  {
   "cell_type": "markdown",
   "id": "81d8b102",
   "metadata": {},
   "source": [
    "### CondensedNearestNeighbour"
   ]
  },
  {
   "cell_type": "code",
   "execution_count": null,
   "id": "6a711a10",
   "metadata": {},
   "outputs": [],
   "source": [
    "import warnings\n",
    "warnings.simplefilter(\"ignore\")"
   ]
  },
  {
   "cell_type": "code",
   "execution_count": null,
   "id": "aedb5830",
   "metadata": {},
   "outputs": [],
   "source": [
    "cnn = CondensedNearestNeighbour(random_state=42, n_jobs=10)\n",
    "X_res, y_res = cnn.fit_resample(X_train, y_train)\n",
    "print('Resampled dataset shape %s' % Counter(y_res))"
   ]
  },
  {
   "cell_type": "code",
   "execution_count": null,
   "id": "5f1891fd",
   "metadata": {},
   "outputs": [],
   "source": [
    "pca = PCA(n_components=2)\n",
    "pca.fit(X_train)\n",
    "X_pca = pca.transform(X_res)\n",
    "\n",
    "plt.scatter(X_pca[:, 0], X_pca[:, 1], c=y_res, cmap=plt.cm.prism, edgecolor='k', alpha=0.7)\n",
    "plt.show()"
   ]
  },
  {
   "cell_type": "code",
   "execution_count": null,
   "id": "9112450e",
   "metadata": {},
   "outputs": [],
   "source": [
    "clf = DecisionTreeClassifier(min_samples_leaf=3, random_state=42)\n",
    "clf.fit(X_res, y_res)\n",
    "\n",
    "y_pred = clf.predict(X_test)\n",
    "\n",
    "print('Accuracy %s' % accuracy_score(y_test, y_pred))\n",
    "print('F1-score %s' % f1_score(y_test, y_pred, average=None))\n",
    "print(classification_report(y_test, y_pred))\n",
    "\n",
    "y_score = clf.predict_proba(X_test)\n",
    "fpr, tpr, _ = roc_curve(y_test, y_score[:, 1])\n",
    "roc_auc = auc(fpr, tpr)\n",
    "\n",
    "plt.plot(fpr0, tpr0, color='darkorange', lw=3, label='$AUC_0$ = %.3f' % (roc_auc0))\n",
    "plt.plot(fpr, tpr, color='green', lw=3, label='$AUC_1$ = %.3f' % (roc_auc))\n",
    "\n",
    "plt.plot([0, 1], [0, 1], color='navy', lw=2, linestyle='--')\n",
    "plt.xlim([0.0, 1.0])\n",
    "plt.ylim([0.0, 1.05])\n",
    "plt.xlabel('False Positive Rate', fontsize=16)\n",
    "plt.ylabel('True Positive Rate', fontsize=16)\n",
    "plt.title('ROC curve', fontsize=16)\n",
    "plt.legend(loc=\"lower right\", fontsize=14, frameon=False)\n",
    "plt.tick_params(axis='both', which='major', labelsize=16)\n",
    "plt.show()"
   ]
  },
  {
   "cell_type": "markdown",
   "id": "443c70f3",
   "metadata": {},
   "source": [
    "## Oversampling"
   ]
  },
  {
   "cell_type": "code",
   "execution_count": null,
   "id": "80d3b7ad",
   "metadata": {},
   "outputs": [],
   "source": [
    "from imblearn.over_sampling import RandomOverSampler\n",
    "from imblearn.over_sampling import SMOTE"
   ]
  },
  {
   "cell_type": "markdown",
   "id": "94656256",
   "metadata": {},
   "source": [
    "### RandomOverSampler"
   ]
  },
  {
   "cell_type": "code",
   "execution_count": null,
   "id": "82cc3e44",
   "metadata": {},
   "outputs": [],
   "source": [
    "ros = RandomOverSampler(random_state=42)\n",
    "X_res, y_res = ros.fit_resample(X_train, y_train)\n",
    "print('Resampled dataset shape %s' % Counter(y_res))"
   ]
  },
  {
   "cell_type": "code",
   "execution_count": null,
   "id": "67be6070",
   "metadata": {},
   "outputs": [],
   "source": [
    "pca = PCA(n_components=2)\n",
    "pca.fit(X_train)\n",
    "X_pca = pca.transform(X_res)\n",
    "\n",
    "plt.scatter(X_pca[:, 0], X_pca[:, 1], c=y_res, cmap=plt.cm.prism, edgecolor='k', alpha=0.7)\n",
    "plt.show()"
   ]
  },
  {
   "cell_type": "code",
   "execution_count": null,
   "id": "bc51fb70",
   "metadata": {},
   "outputs": [],
   "source": [
    "clf = DecisionTreeClassifier(min_samples_leaf=3, random_state=42)\n",
    "clf.fit(X_res, y_res)\n",
    "\n",
    "y_pred = clf.predict(X_test)\n",
    "\n",
    "print('Accuracy %s' % accuracy_score(y_test, y_pred))\n",
    "print('F1-score %s' % f1_score(y_test, y_pred, average=None))\n",
    "print(classification_report(y_test, y_pred))\n",
    "\n",
    "y_score = clf.predict_proba(X_test)\n",
    "fpr, tpr, _ = roc_curve(y_test, y_score[:, 1])\n",
    "roc_auc = auc(fpr, tpr)\n",
    "\n",
    "plt.plot(fpr0, tpr0, color='darkorange', lw=3, label='$AUC_0$ = %.3f' % (roc_auc0))\n",
    "plt.plot(fpr, tpr, color='green', lw=3, label='$AUC_1$ = %.3f' % (roc_auc))\n",
    "\n",
    "plt.plot([0, 1], [0, 1], color='navy', lw=2, linestyle='--')\n",
    "plt.xlim([0.0, 1.0])\n",
    "plt.ylim([0.0, 1.05])\n",
    "plt.xlabel('False Positive Rate', fontsize=16)\n",
    "plt.ylabel('True Positive Rate', fontsize=16)\n",
    "plt.title('ROC curve', fontsize=16)\n",
    "plt.legend(loc=\"lower right\", fontsize=14, frameon=False)\n",
    "plt.tick_params(axis='both', which='major', labelsize=16)\n",
    "plt.show()"
   ]
  },
  {
   "cell_type": "markdown",
   "id": "5543e9b8",
   "metadata": {},
   "source": [
    "### SMOTE"
   ]
  },
  {
   "cell_type": "code",
   "execution_count": null,
   "id": "9b9cf33d",
   "metadata": {},
   "outputs": [],
   "source": [
    "sm = SMOTE(random_state=42)\n",
    "X_res, y_res = sm.fit_resample(X_train, y_train)\n",
    "print('Resampled dataset shape %s' % Counter(y_res))"
   ]
  },
  {
   "cell_type": "code",
   "execution_count": null,
   "id": "152ccaea",
   "metadata": {},
   "outputs": [],
   "source": [
    "pca = PCA(n_components=2)\n",
    "pca.fit(X_train)\n",
    "X_pca = pca.transform(X_res)\n",
    "\n",
    "plt.scatter(X_pca[:, 0], X_pca[:, 1], c=y_res, cmap=plt.cm.prism, edgecolor='k', alpha=0.7)\n",
    "plt.show()"
   ]
  },
  {
   "cell_type": "code",
   "execution_count": null,
   "id": "b14fde0a",
   "metadata": {},
   "outputs": [],
   "source": [
    "clf = DecisionTreeClassifier(min_samples_leaf=3, random_state=42)\n",
    "clf.fit(X_res, y_res)\n",
    "\n",
    "y_pred = clf.predict(X_test)\n",
    "\n",
    "print('Accuracy %s' % accuracy_score(y_test, y_pred))\n",
    "print('F1-score %s' % f1_score(y_test, y_pred, average=None))\n",
    "print(classification_report(y_test, y_pred))\n",
    "\n",
    "y_score = clf.predict_proba(X_test)\n",
    "fpr, tpr, _ = roc_curve(y_test, y_score[:, 1])\n",
    "roc_auc = auc(fpr, tpr)\n",
    "\n",
    "plt.plot(fpr0, tpr0, color='darkorange', lw=3, label='$AUC_0$ = %.3f' % (roc_auc0))\n",
    "plt.plot(fpr, tpr, color='green', lw=3, label='$AUC_1$ = %.3f' % (roc_auc))\n",
    "\n",
    "plt.plot([0, 1], [0, 1], color='navy', lw=2, linestyle='--')\n",
    "plt.xlim([0.0, 1.0])\n",
    "plt.ylim([0.0, 1.05])\n",
    "plt.xlabel('False Positive Rate', fontsize=16)\n",
    "plt.ylabel('True Positive Rate', fontsize=16)\n",
    "plt.title('ROC curve', fontsize=16)\n",
    "plt.legend(loc=\"lower right\", fontsize=14, frameon=False)\n",
    "plt.tick_params(axis='both', which='major', labelsize=16)\n",
    "plt.show()"
   ]
  },
  {
   "cell_type": "code",
   "execution_count": null,
   "id": "0ba93909",
   "metadata": {},
   "outputs": [],
   "source": []
  },
  {
   "cell_type": "code",
   "execution_count": null,
   "id": "c5c21e41",
   "metadata": {},
   "outputs": [],
   "source": []
  },
  {
   "cell_type": "code",
   "execution_count": null,
   "id": "f5260502",
   "metadata": {},
   "outputs": [],
   "source": []
  },
  {
   "cell_type": "code",
   "execution_count": null,
   "id": "99d03410",
   "metadata": {},
   "outputs": [],
   "source": []
  }
 ],
 "metadata": {
  "kernelspec": {
   "display_name": "Python 3 (ipykernel)",
   "language": "python",
   "name": "python3"
  },
  "language_info": {
   "codemirror_mode": {
    "name": "ipython",
    "version": 3
   },
   "file_extension": ".py",
   "mimetype": "text/x-python",
   "name": "python",
   "nbconvert_exporter": "python",
   "pygments_lexer": "ipython3",
   "version": "3.9.12"
  }
 },
 "nbformat": 4,
 "nbformat_minor": 5
}
