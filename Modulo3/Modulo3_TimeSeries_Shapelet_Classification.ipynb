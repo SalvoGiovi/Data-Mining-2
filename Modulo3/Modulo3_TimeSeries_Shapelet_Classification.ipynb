{
 "cells": [
  {
   "cell_type": "markdown",
   "id": "f179bb8b",
   "metadata": {},
   "source": [
    "# Time Series Shapelet_Motif_Classification"
   ]
  },
  {
   "cell_type": "code",
   "execution_count": null,
   "id": "a1737330",
   "metadata": {},
   "outputs": [],
   "source": [
    "%matplotlib inline\n",
    "\n",
    "import numpy as np\n",
    "import pandas as pd\n",
    "import matplotlib.pyplot as plt\n",
    "from tslearn.preprocessing import TimeSeriesScalerMinMax\n",
    "from collections import defaultdict"
   ]
  },
  {
   "cell_type": "code",
   "execution_count": null,
   "id": "1a014979",
   "metadata": {},
   "outputs": [],
   "source": [
    "y_train = pd.read_csv(\"y_train.txt\", header=None, delim_whitespace=True )\n",
    "body_gyro_z_train = pd.read_csv(\"body_gyro_z_train.txt\", header=None,  delim_whitespace=True)\n",
    "body_gyro_z_test = pd.read_csv(\"body_gyro_z_test.txt\", header=None,  delim_whitespace=True)"
   ]
  },
  {
   "cell_type": "markdown",
   "id": "70b3b9e2",
   "metadata": {},
   "source": [
    "## Shaplet Classifiers"
   ]
  },
  {
   "cell_type": "code",
   "execution_count": null,
   "id": "51a7fd2d",
   "metadata": {},
   "outputs": [],
   "source": [
    "#!pip install pyts"
   ]
  },
  {
   "cell_type": "code",
   "execution_count": null,
   "id": "ceea0502",
   "metadata": {},
   "outputs": [],
   "source": [
    "from pyts.transformation import ShapeletTransform\n",
    "from sklearn.metrics import accuracy_score"
   ]
  },
  {
   "cell_type": "code",
   "execution_count": null,
   "id": "84ad8fdf",
   "metadata": {},
   "outputs": [],
   "source": [
    "X_train=body_gyro_z_train.copy(deep=True)\n",
    "X_test=body_gyro_z_test.copy(deep=True)"
   ]
  },
  {
   "cell_type": "code",
   "execution_count": null,
   "id": "2b90ae30",
   "metadata": {},
   "outputs": [],
   "source": [
    "from tslearn.preprocessing import TimeSeriesScalerMeanVariance\n",
    "scaler = TimeSeriesScalerMeanVariance(mu=0., std=1.)  # Rescale time series"
   ]
  },
  {
   "cell_type": "code",
   "execution_count": null,
   "id": "1b103fce",
   "metadata": {},
   "outputs": [],
   "source": [
    "X_train_norm= scaler.fit_transform(X_train).reshape(X_train.shape[0], X_train.shape[1])\n",
    "X_test_norm= scaler.fit_transform(X_test).reshape(X_test.shape[0], X_test.shape[1])\n",
    "X_train_norm.shape"
   ]
  },
  {
   "cell_type": "code",
   "execution_count": null,
   "id": "4315f42c",
   "metadata": {},
   "outputs": [],
   "source": [
    "#plt.plot(X_train.T[0])\n",
    "plt.plot(X_train_norm[0])\n",
    "plt.show()"
   ]
  },
  {
   "cell_type": "code",
   "execution_count": null,
   "id": "efb9c626",
   "metadata": {},
   "outputs": [],
   "source": [
    "from sklearn.tree import DecisionTreeClassifier"
   ]
  },
  {
   "cell_type": "code",
   "execution_count": null,
   "id": "c85b9fa7",
   "metadata": {},
   "outputs": [],
   "source": [
    "clf_1 = DecisionTreeClassifier(min_samples_split=33, min_samples_leaf =33 , random_state=42)\n",
    "clf_1.fit(X_train, y_train)\n",
    "\n",
    "y_pred_dt1 = clf_1.predict(X_test)\n",
    "\n",
    "print('Accuracy %s' % accuracy_score(y_test, y_pred_dt1))\n",
    "print('F1-score %s' % f1_score(y_test, y_pred_dt1, average=None))\n",
    "print(classification_report(y_test, y_pred_dt1))"
   ]
  },
  {
   "cell_type": "code",
   "execution_count": null,
   "id": "09a86516",
   "metadata": {},
   "outputs": [],
   "source": [
    "from sklearn.neighbors import KNeighborsClassifier"
   ]
  },
  {
   "cell_type": "code",
   "execution_count": null,
   "id": "bed942ac",
   "metadata": {},
   "outputs": [],
   "source": [
    "clf_knn_1 = KNeighborsClassifier(n_neighbors=5, weights='uniform', metric='euclidean')\n",
    "clf_knn_1.fit(X_train, np.ravel(y_train))\n",
    "\n",
    "y_pred_Knn1 = clf_knn_1.predict(X_test)\n",
    "\n",
    "print('Accuracy %s' % accuracy_score(y_test, y_pred_Knn1))\n",
    "print('F1-score %s' % f1_score(y_test, y_pred_Knn1, average=None))\n",
    "print(classification_report(y_test, y_pred_Knn1))"
   ]
  },
  {
   "cell_type": "markdown",
   "id": "60e7a6d5",
   "metadata": {},
   "source": [
    "## ShapeletModel"
   ]
  },
  {
   "cell_type": "code",
   "execution_count": null,
   "id": "289ab6ee",
   "metadata": {},
   "outputs": [],
   "source": [
    "#!pip install tensorflow"
   ]
  },
  {
   "cell_type": "code",
   "execution_count": 1,
   "id": "53141ec7",
   "metadata": {},
   "outputs": [],
   "source": [
    "import tensorflow as tf\n",
    "from tslearn.shapelets import ShapeletModel\n",
    "from tslearn.shapelets import grabocka_params_to_shapelet_size_dict\n",
    "from tslearn.preprocessing import TimeSeriesScalerMinMax\n",
    "from sklearn.metrics import accuracy_score, f1_score, classification_report\n",
    "from tslearn.preprocessing import TimeSeriesScalerMeanVariance"
   ]
  },
  {
   "cell_type": "code",
   "execution_count": null,
   "id": "13523c93",
   "metadata": {},
   "outputs": [],
   "source": [
    "n_ts, ts_sz = X_train.shape\n",
    "n_classes = 6\n",
    "\n",
    "shapelet_sizes = grabocka_params_to_shapelet_size_dict(n_ts=n_ts, ts_sz=ts_sz, n_classes=n_classes, l=0.1, r=1)\n",
    "\n",
    "print('Number of time series:', n_ts)\n",
    "print('Time series size:', ts_sz)\n",
    "print('n_classes:', n_classes)\n",
    "print('shapelet_sizes:', shapelet_sizes)"
   ]
  },
  {
   "cell_type": "code",
   "execution_count": null,
   "id": "06b9fe1c",
   "metadata": {},
   "outputs": [],
   "source": [
    "shp_clf = ShapeletModel(n_shapelets_per_size=shapelet_sizes,\n",
    "                        optimizer=\"sgd\",\n",
    "                        weight_regularizer=.01,\n",
    "                        max_iter=200,\n",
    "                        verbose=0,\n",
    "                        random_state=0)\n",
    "\n",
    "shp_clf.fit(X_train, np.ravel(y_train))"
   ]
  },
  {
   "cell_type": "code",
   "execution_count": null,
   "id": "3cff4684",
   "metadata": {},
   "outputs": [],
   "source": [
    "#Location Shapelet in X_train\n",
    "predicted_locations = shp_clf.locate(X_train)\n",
    "\n",
    "ts_id = 2528\n",
    "plt.figure(figsize=(10,4))\n",
    "n_shapelets = sum(shapelet_sizes.values())\n",
    "plt.title(\"Locations of shapelet matches in body_gyro_z_train[1846]\") \n",
    "plt.plot(X_train.iloc[ts_id,:])\n",
    "plt.xlim([0,127])\n",
    "for idx_shp, shp in enumerate(shp_clf.shapelets_):\n",
    "    t0 = predicted_locations[ts_id, idx_shp]\n",
    "    plt.plot(np.arange(t0, t0 + len(shp)), shp, linewidth=2, label = 'Shapelet {}'.format(idx_shp))\n",
    "    plt.legend(bbox_to_anchor=(1, 1), loc=2, borderaxespad=0.5)\n",
    "#plt.savefig('FigXX-Shapelets.png', dpi=600,bbox_inches = 'tight') \n",
    "plt.show()"
   ]
  },
  {
   "cell_type": "code",
   "execution_count": null,
   "id": "1d677e1a",
   "metadata": {},
   "outputs": [],
   "source": [
    "shp_clf.fit(X_train, np.ravel(y_train))"
   ]
  },
  {
   "cell_type": "code",
   "execution_count": null,
   "id": "440830c2",
   "metadata": {},
   "outputs": [],
   "source": [
    "shp_clf.shapelets_"
   ]
  },
  {
   "cell_type": "code",
   "execution_count": null,
   "id": "001e33c3",
   "metadata": {},
   "outputs": [],
   "source": [
    "predicted_labels = shp_clf.predict(X_test)\n",
    "print(\"Correct classification rate:\", accuracy_score(y_test, predicted_labels))"
   ]
  },
  {
   "cell_type": "code",
   "execution_count": null,
   "id": "177bf352",
   "metadata": {},
   "outputs": [],
   "source": [
    "predicted_locations = shp_clf.locate(X_test)"
   ]
  },
  {
   "cell_type": "code",
   "execution_count": null,
   "id": "94bf048f",
   "metadata": {},
   "outputs": [],
   "source": [
    "## ALTERNATIVA ##\n",
    "# Author: Romain Tavenard\n",
    "# License: BSD 3 clause\n",
    "\n",
    "import numpy\n",
    "from sklearn.metrics import accuracy_score\n",
    "import tensorflow as tf\n",
    "import matplotlib.pyplot as plt\n",
    "\n",
    "from tslearn.datasets import CachedDatasets\n",
    "from tslearn.preprocessing import TimeSeriesScalerMinMax\n",
    "from tslearn.shapelets import LearningShapelets, \\\n",
    "    grabocka_params_to_shapelet_size_dict\n",
    "from tslearn.utils import ts_size\n",
    "\n",
    "# Get statistics of the dataset\n",
    "n_ts, ts_sz = body_gyro_z_train.shape\n",
    "n_classes = 6 # len(set(y_train))\n",
    "\n",
    "# Set the number of shapelets per size as done in the original paper\n",
    "shapelet_sizes = grabocka_params_to_shapelet_size_dict(n_ts=n_ts,\n",
    "                                                       ts_sz=ts_sz,\n",
    "                                                       n_classes=n_classes,\n",
    "                                                       l=0.1,\n",
    "                                                       r=1)\n",
    "\n",
    "# Define the model using parameters provided by the authors (except that we\n",
    "# use fewer iterations here)\n",
    "shp_clf = LearningShapelets(n_shapelets_per_size=shapelet_sizes,\n",
    "                            optimizer=\"sgd\", #tf.optimizers.Adam(.01),\n",
    "                            #batch_size=16,\n",
    "                            weight_regularizer=.01,\n",
    "                            max_iter=100,\n",
    "                            random_state=42,\n",
    "                            verbose=0)\n",
    "shp_clf.fit(X_train, np.ravel(y_train))\n",
    "\n",
    "# Make predictions and calculate accuracy score\n",
    "pred_labels = shp_clf.predict(X_test)\n",
    "print(\"Correct classification rate:\", accuracy_score(y_test, pred_labels))\n",
    "\n",
    "# Plot the different discovered shapelets\n",
    "plt.figure()\n",
    "for i, sz in enumerate(shapelet_sizes.keys()):\n",
    "    plt.subplot(len(shapelet_sizes), 1, i + 1)\n",
    "    plt.title(\"%d shapelets of size %d\" % (shapelet_sizes[sz], sz))\n",
    "    for shp in shp_clf.shapelets_:\n",
    "        if ts_size(shp) == sz:\n",
    "            plt.plot(shp.ravel())\n",
    "    plt.xlim([0, max(shapelet_sizes.keys()) - 1])\n",
    "\n",
    "plt.tight_layout()\n",
    "plt.show()\n",
    "\n",
    "# The loss history is accessible via the `model_` that is a keras model\n",
    "plt.figure()\n",
    "plt.plot(numpy.arange(1, shp_clf.n_iter_ + 1), shp_clf.history_[\"loss\"])\n",
    "plt.title(\"Evolution of cross-entropy loss during training\")\n",
    "plt.xlabel(\"Epochs\")\n",
    "plt.show()"
   ]
  },
  {
   "cell_type": "markdown",
   "id": "01939281",
   "metadata": {},
   "source": [
    "## Shaplet-distances-based Classifier"
   ]
  },
  {
   "cell_type": "code",
   "execution_count": null,
   "id": "48eb0044",
   "metadata": {},
   "outputs": [],
   "source": [
    "X_train2 = shp_clf.transform(X_train)\n",
    "X_train2.shape"
   ]
  },
  {
   "cell_type": "code",
   "execution_count": null,
   "id": "d87df3b3",
   "metadata": {},
   "outputs": [],
   "source": [
    "X_test2 = shp_clf.transform(X_test)\n",
    "X_test2.shape"
   ]
  },
  {
   "cell_type": "code",
   "execution_count": null,
   "id": "e39ef92b",
   "metadata": {},
   "outputs": [],
   "source": [
    "X_train_norm2 = shp_clf.transform(X_train_norm)\n",
    "X_test_norm2 = shp_clf.transform(X_test_norm)"
   ]
  },
  {
   "cell_type": "code",
   "execution_count": null,
   "id": "e65e0f13",
   "metadata": {},
   "outputs": [],
   "source": [
    "from sklearn.neighbors import KNeighborsClassifier"
   ]
  },
  {
   "cell_type": "code",
   "execution_count": null,
   "id": "92e70fcb",
   "metadata": {},
   "outputs": [],
   "source": [
    "%%time\n",
    "error_rate = []\n",
    "for i in range(1,55):\n",
    "    knn = KNeighborsClassifier(n_neighbors=i)\n",
    "    knn.fit(X_train2,np.ravel(y_train))\n",
    "    pred_i = knn.predict(X_test2)\n",
    "    error_rate.append(np.mean(pred_i != np.ravel(y_test)))\n",
    "#print(pred_i)\n",
    "plt.figure(figsize=(10,6))\n",
    "plt.plot(range(1,55),error_rate,color='blue', linestyle='dashed', \n",
    "         marker='o',markerfacecolor='red', markersize=10)\n",
    "plt.title('Error Rate vs. K Value')\n",
    "plt.xlabel('K')\n",
    "plt.ylabel('Error Rate')\n",
    "print(\"Minimum error:-\",min(error_rate),\"at K =\",error_rate.index(min(error_rate)))"
   ]
  },
  {
   "cell_type": "code",
   "execution_count": null,
   "id": "29719a8b",
   "metadata": {},
   "outputs": [],
   "source": [
    "# Knn: mon normalizzato\n",
    "clf_knn = KNeighborsClassifier(n_neighbors=28, weights='uniform')\n",
    "clf_knn.fit(X_train2, np.ravel(y_train))\n",
    "y_pred_knn = clf_knn.predict(X_test2)\n",
    "\n",
    "print('Accuracy %s' % accuracy_score(y_test, y_pred_knn))\n",
    "print('F1-score %s' % f1_score(y_test, y_pred_knn, average=None))\n",
    "print(classification_report(y_test, y_pred_knn))"
   ]
  },
  {
   "cell_type": "code",
   "execution_count": null,
   "id": "bff4f164",
   "metadata": {},
   "outputs": [],
   "source": [
    "# Knn: normalizzato\n",
    "clf_knn_norm = KNeighborsClassifier(n_neighbors=28, weights='uniform')\n",
    "clf_knn_norm.fit(X_train_norm2, np.ravel(y_train))\n",
    "y_pred_knn_norm = clf_knn_norm.predict(X_test_norm2)\n",
    "\n",
    "print('Accuracy %s' % accuracy_score(y_test, y_pred_knn_norm))\n",
    "print('F1-score %s' % f1_score(y_test, y_pred_knn_norm, average=None))\n",
    "print(classification_report(y_test, y_pred_knn_norm))"
   ]
  },
  {
   "cell_type": "code",
   "execution_count": null,
   "id": "4f45452a",
   "metadata": {},
   "outputs": [],
   "source": [
    "from sklearn.tree import DecisionTreeClassifier\n",
    "from sklearn.model_selection import GridSearchCV"
   ]
  },
  {
   "cell_type": "code",
   "execution_count": null,
   "id": "c925066a",
   "metadata": {},
   "outputs": [],
   "source": [
    "params = { \"max_depth\" : [None,2,4,8,12,16,22], \n",
    "          \"min_samples_split\" : np.arange(2,50,2),\n",
    "          \"min_samples_leaf\" : np.arange(1,50,2)   \n",
    "}"
   ]
  },
  {
   "cell_type": "code",
   "execution_count": null,
   "id": "c86a80dc",
   "metadata": {},
   "outputs": [],
   "source": [
    "%%time\n",
    "grid = GridSearchCV(DecisionTreeClassifier(), params,cv=10, scoring='accuracy', n_jobs=-1)\n",
    "grid.fit(X_train2, y_train)"
   ]
  },
  {
   "cell_type": "code",
   "execution_count": null,
   "id": "6584aab0",
   "metadata": {},
   "outputs": [],
   "source": [
    "grid.best_params_"
   ]
  },
  {
   "cell_type": "code",
   "execution_count": null,
   "id": "8785ad6d",
   "metadata": {},
   "outputs": [],
   "source": [
    "# Decision Tree: non normalizzato\n",
    "clf_dt = DecisionTreeClassifier( max_depth=8, min_samples_leaf=15, min_samples_split=4, random_state=42)\n",
    "clf_dt.fit(X_train2, y_train)\n",
    "\n",
    "y_pred_dt = clf_dt.predict(X_test2)\n",
    "\n",
    "print('Accuracy %s' % accuracy_score(y_test, y_pred_dt))\n",
    "print('F1-score %s' % f1_score(y_test, y_pred_dt, average=None))\n",
    "print(classification_report(y_test, y_pred_dt))"
   ]
  },
  {
   "cell_type": "code",
   "execution_count": null,
   "id": "f3b97342",
   "metadata": {},
   "outputs": [],
   "source": [
    "# Decision Tree: normalizzato\n",
    "clf_dt_norm = DecisionTreeClassifier(min_samples_split=50, min_samples_leaf =50 , random_state=42)\n",
    "clf_dt_norm.fit(X_train_norm2, y_train)\n",
    "\n",
    "y_pred_dt_norm = clf_dt_norm.predict(X_test_norm2)\n",
    "\n",
    "print('Accuracy %s' % accuracy_score(y_test, y_pred_dt_norm))\n",
    "print('F1-score %s' % f1_score(y_test, y_pred_dt_norm, average=None))\n",
    "print(classification_report(y_test, y_pred_dt_norm))"
   ]
  },
  {
   "cell_type": "markdown",
   "id": "0b1a3310",
   "metadata": {},
   "source": [
    "## Univariate Time Series Classifiers\n"
   ]
  },
  {
   "cell_type": "code",
   "execution_count": null,
   "id": "0ac82b00",
   "metadata": {},
   "outputs": [],
   "source": [
    "from pyts.datasets import load_basic_motions\n",
    "from sktime.classification.distance_based import KNeighborsTimeSeriesClassifier\n",
    "from tslearn.preprocessing import TimeSeriesScalerMinMax\n",
    "from sklearn.model_selection import train_test_split, cross_val_score \n",
    "from sklearn.preprocessing import LabelEncoder\n",
    "from sklearn.metrics import accuracy_score, f1_score, classification_report\n",
    "from sklearn.metrics import roc_curve, auc, roc_auc_score\n",
    "import numpy as np\n",
    "from sklearn.metrics import classification_report\n",
    "from sktime.utils.plotting import plot_series\n",
    "from pyts.datasets import fetch_uea_dataset\n",
    "from sktime.datatypes._panel._convert import from_3d_numpy_to_nested"
   ]
  },
  {
   "cell_type": "code",
   "execution_count": null,
   "id": "5c3adeb7",
   "metadata": {},
   "outputs": [],
   "source": [
    "X_train=body_gyro_z_train.copy(deep=True)\n",
    "X_test=body_gyro_z_test.copy(deep=True)"
   ]
  },
  {
   "cell_type": "code",
   "execution_count": null,
   "id": "504bbb41",
   "metadata": {},
   "outputs": [],
   "source": [
    "# trasformare il dataset in una colonna sola con cella contente l'intera time series\n",
    "X_train_uni=from_3d_numpy_to_nested(X_train_norm.reshape(7352,1,128))\n",
    "X_test_uni=from_3d_numpy_to_nested(X_test_norm.reshape(2947,1,128))"
   ]
  },
  {
   "cell_type": "code",
   "execution_count": null,
   "id": "f089b0b9",
   "metadata": {},
   "outputs": [],
   "source": [
    "clf_uni = KNeighborsTimeSeriesClassifier()\n",
    "clf_uni.fit(X_train_uni, np.ravel(y_train))"
   ]
  },
  {
   "cell_type": "code",
   "execution_count": null,
   "id": "066a5415",
   "metadata": {},
   "outputs": [],
   "source": [
    "%%time\n",
    "y_pred_uni = clf_uni.predict(X_test_uni)\n",
    "print(classification_report(y_test, y_pred_uni))"
   ]
  },
  {
   "cell_type": "markdown",
   "id": "f650218a",
   "metadata": {},
   "source": [
    "### ROCKET"
   ]
  },
  {
   "cell_type": "code",
   "execution_count": null,
   "id": "6331815f",
   "metadata": {},
   "outputs": [],
   "source": [
    "from sklearn.linear_model import RidgeClassifierCV\n",
    "from sktime.transformations.panel.rocket import Rocket"
   ]
  },
  {
   "cell_type": "code",
   "execution_count": null,
   "id": "99d75c2c",
   "metadata": {},
   "outputs": [],
   "source": [
    "%%time\n",
    "rocket_1 = Rocket()  # by default, MiniRocket uses ~10,000 kernels\n",
    "rocket_1.fit(X_train_uni)\n",
    "X_train_transform_ro1 = rocket.transform(X_train_uni)\n",
    "clf_ridge = RidgeClassifierCV(alphas=np.logspace(-3, 3, 10))\n",
    "clf_ridge.fit(X_train_transform_ro1.values, y_train)"
   ]
  },
  {
   "cell_type": "code",
   "execution_count": null,
   "id": "132b76da",
   "metadata": {},
   "outputs": [],
   "source": [
    "X_test_transform_ro1 = rocket.transform(X_test_uni)\n",
    "y_pred_rocket1 = clf_ridge.predict(X_test_transform_ro1.values)\n",
    "print(classification_report(y_test, y_pred_rocket1))"
   ]
  },
  {
   "cell_type": "markdown",
   "id": "e4d4ff70",
   "metadata": {},
   "source": [
    "### MINI-ROCKET\n"
   ]
  },
  {
   "cell_type": "code",
   "execution_count": null,
   "id": "32033a94",
   "metadata": {},
   "outputs": [],
   "source": [
    "from sklearn.linear_model import RidgeClassifierCV\n",
    "from sktime.transformations.panel.rocket import MiniRocket"
   ]
  },
  {
   "cell_type": "code",
   "execution_count": null,
   "id": "176951ae",
   "metadata": {},
   "outputs": [],
   "source": [
    "%%time\n",
    "minirocket_mini1 = MiniRocket()  # by default, MiniRocket uses ~10,000 kernels\n",
    "minirocket_mini1.fit(X_train_uni)\n",
    "X_train_transform_min1 = minirocket_mini1.transform(X_train_uni)\n",
    "clf_ridge_min = RidgeClassifierCV(alphas=np.logspace(-3, 3, 10))\n",
    "clf_ridge_min.fit(X_train_transform_min1.values, y_train)"
   ]
  },
  {
   "cell_type": "code",
   "execution_count": null,
   "id": "69f15194",
   "metadata": {},
   "outputs": [],
   "source": [
    "X_test_transform_min1 = minirocket_mini1.transform(X_test_uni)\n",
    "y_pred_min1 = clf_ridge_min.predict(X_test_transform_min1.values)\n",
    "print(classification_report(y_test, y_pred_min1))"
   ]
  },
  {
   "cell_type": "markdown",
   "id": "b6baab55",
   "metadata": {},
   "source": [
    "### Canonical Interval Forest (CIF)"
   ]
  },
  {
   "cell_type": "code",
   "execution_count": null,
   "id": "75d7d7f7",
   "metadata": {},
   "outputs": [],
   "source": [
    "from sktime.classification.interval_based import CanonicalIntervalForest"
   ]
  },
  {
   "cell_type": "code",
   "execution_count": null,
   "id": "4aa036ae",
   "metadata": {},
   "outputs": [],
   "source": [
    "%%time\n",
    "clf_canon = CanonicalIntervalForest(n_estimators=30)\n",
    "clf_canon.fit(X_train_uni, y_train)"
   ]
  },
  {
   "cell_type": "code",
   "execution_count": null,
   "id": "6535cf29",
   "metadata": {},
   "outputs": [],
   "source": [
    "y_pred_canon = clf_canon.predict(X_test_uni)\n",
    "print(classification_report(y_test, y_pred_canon))"
   ]
  },
  {
   "cell_type": "markdown",
   "id": "8d05105e",
   "metadata": {},
   "source": [
    "## MULTIVARIATE"
   ]
  },
  {
   "cell_type": "code",
   "execution_count": 2,
   "id": "1b7f1d9e",
   "metadata": {},
   "outputs": [
    {
     "ename": "NameError",
     "evalue": "name 'body_gyro_x_train' is not defined",
     "output_type": "error",
     "traceback": [
      "\u001b[1;31m---------------------------------------------------------------------------\u001b[0m",
      "\u001b[1;31mNameError\u001b[0m                                 Traceback (most recent call last)",
      "Input \u001b[1;32mIn [2]\u001b[0m, in \u001b[0;36m<cell line: 1>\u001b[1;34m()\u001b[0m\n\u001b[1;32m----> 1\u001b[0m X_train\u001b[38;5;241m=\u001b[39m\u001b[43mbody_gyro_x_train\u001b[49m\u001b[38;5;241m.\u001b[39mcopy(deep\u001b[38;5;241m=\u001b[39m\u001b[38;5;28;01mTrue\u001b[39;00m)\n\u001b[0;32m      2\u001b[0m Y_train\u001b[38;5;241m=\u001b[39mbody_gyro_y_train\u001b[38;5;241m.\u001b[39mcopy(deep\u001b[38;5;241m=\u001b[39m\u001b[38;5;28;01mTrue\u001b[39;00m)\n\u001b[0;32m      3\u001b[0m Z_train\u001b[38;5;241m=\u001b[39mbody_gyro_z_train\u001b[38;5;241m.\u001b[39mcopy(deep\u001b[38;5;241m=\u001b[39m\u001b[38;5;28;01mTrue\u001b[39;00m)\n",
      "\u001b[1;31mNameError\u001b[0m: name 'body_gyro_x_train' is not defined"
     ]
    }
   ],
   "source": [
    "X_train=body_gyro_x_train.copy(deep=True)\n",
    "Y_train=body_gyro_y_train.copy(deep=True)\n",
    "Z_train=body_gyro_z_train.copy(deep=True)\n",
    "\n",
    "X_test=body_gyro_x_test.copy(deep=True)\n",
    "Y_test=body_gyro_y_test.copy(deep=True)\n",
    "Z_test=body_gyro_z_test.copy(deep=True)"
   ]
  },
  {
   "cell_type": "code",
   "execution_count": null,
   "id": "a7eeee63",
   "metadata": {},
   "outputs": [],
   "source": [
    "X_train_norm= scaler.fit_transform(X_train).reshape(X_train.shape[0], X_train.shape[1])\n",
    "X_test_norm= scaler.fit_transform(X_test).reshape(X_test.shape[0], X_test.shape[1])\n",
    "\n",
    "Y_train_norm= scaler.fit_transform(Y_train).reshape(Y_train.shape[0], Y_train.shape[1])\n",
    "Y_test_norm= scaler.fit_transform(Y_test).reshape(Y_test.shape[0], Y_test.shape[1])\n",
    "\n",
    "Z_train_norm= scaler.fit_transform(Z_train).reshape(Z_train.shape[0], Z_train.shape[1])\n",
    "Z_test_norm= scaler.fit_transform(Z_test).reshape(Z_test.shape[0], Z_test.shape[1])"
   ]
  },
  {
   "cell_type": "code",
   "execution_count": null,
   "id": "36e4fa9a",
   "metadata": {},
   "outputs": [],
   "source": [
    "X_train_uni=from_3d_numpy_to_nested(X_train_norm.reshape(7352,1,128))\n",
    "Y_train_uni=from_3d_numpy_to_nested(Y_train_norm.reshape(7352,1,128))\n",
    "Z_train_uni=from_3d_numpy_to_nested(Z_train_norm.reshape(7352,1,128))\n",
    "\n",
    "\n",
    "X_test_uni=from_3d_numpy_to_nested(X_test_norm.reshape(2947,1,128))\n",
    "Y_test_uni=from_3d_numpy_to_nested(Y_test_norm.reshape(2947,1,128))\n",
    "Z_test_uni=from_3d_numpy_to_nested(Z_test_norm.reshape(2947,1,128))"
   ]
  },
  {
   "cell_type": "code",
   "execution_count": null,
   "id": "2fbc47af",
   "metadata": {},
   "outputs": [],
   "source": [
    "XY_train_uni=pd.merge(left=X_train_uni, right=Y_train_uni,right_index=True, left_index=True)"
   ]
  },
  {
   "cell_type": "code",
   "execution_count": null,
   "id": "102f72fb",
   "metadata": {},
   "outputs": [],
   "source": [
    "XYZ_train_uni=pd.merge(left=XY_train_uni, right=Z_train_uni,right_index=True, left_index=True)"
   ]
  },
  {
   "cell_type": "code",
   "execution_count": null,
   "id": "4d6823f8",
   "metadata": {},
   "outputs": [],
   "source": [
    "XYZ_train_uni.columns"
   ]
  },
  {
   "cell_type": "code",
   "execution_count": null,
   "id": "c861cff0",
   "metadata": {},
   "outputs": [],
   "source": [
    "XY_test_uni=pd.merge(left=X_test_uni, right=Y_test_uni,right_index=True, left_index=True)"
   ]
  },
  {
   "cell_type": "code",
   "execution_count": null,
   "id": "fd587bff",
   "metadata": {},
   "outputs": [],
   "source": [
    "XYZ_test_uni=pd.merge(left=XY_test_uni, right=Z_test_uni,right_index=True, left_index=True)"
   ]
  },
  {
   "cell_type": "code",
   "execution_count": null,
   "id": "f256f506",
   "metadata": {},
   "outputs": [],
   "source": [
    "plot_series(XYZ_train_uni['var_0_x'][0])\n",
    "plot_series(XYZ_train_uni['var_0_y'][0])\n",
    "plot_series(XYZ_train_uni['var_0'][0])\n",
    "plt.show()"
   ]
  },
  {
   "cell_type": "markdown",
   "id": "a688879c",
   "metadata": {},
   "source": [
    "### 1-NN with DTW (baseline)"
   ]
  },
  {
   "cell_type": "code",
   "execution_count": null,
   "id": "65f47525",
   "metadata": {},
   "outputs": [],
   "source": [
    "from sktime.classification.distance_based import KNeighborsTimeSeriesClassifier"
   ]
  },
  {
   "cell_type": "code",
   "execution_count": null,
   "id": "d44e3dd7",
   "metadata": {},
   "outputs": [],
   "source": [
    "%%time\n",
    "clf_multi = KNeighborsTimeSeriesClassifier()\n",
    "clf_multi.fit(XYZ_train_uni, np.ravel(y_train))"
   ]
  },
  {
   "cell_type": "code",
   "execution_count": null,
   "id": "393f5d66",
   "metadata": {},
   "outputs": [],
   "source": [
    "%%time\n",
    "y_pred_2 = clf_multi.predict(XYZ_test_uni)\n",
    "print(classification_report(y_test, y_pred_2))"
   ]
  },
  {
   "cell_type": "markdown",
   "id": "f229136c",
   "metadata": {},
   "source": [
    "### Rocket"
   ]
  },
  {
   "cell_type": "code",
   "execution_count": null,
   "id": "1a4c0c18",
   "metadata": {},
   "outputs": [],
   "source": [
    "from sklearn.linear_model import RidgeClassifierCV\n",
    "from sktime.transformations.panel.rocket import Rocket"
   ]
  },
  {
   "cell_type": "code",
   "execution_count": null,
   "id": "0c00d622",
   "metadata": {},
   "outputs": [],
   "source": [
    "%%time\n",
    "rocket_multi = Rocket()\n",
    "rocket_multi.fit(XYZ_train_uni)\n",
    "XYZ_train_transform_ro2 = rocket_multi.transform(XYZ_train_uni)\n",
    "clf_ro2 = RidgeClassifierCV(alphas=np.logspace(-3, 3, 10), normalize=True)\n",
    "clf_ro2.fit(XYZ_train_transform_ro2.values, y_train)"
   ]
  },
  {
   "cell_type": "code",
   "execution_count": null,
   "id": "b23233af",
   "metadata": {},
   "outputs": [],
   "source": [
    "XYZ_test_transform_ro2 = rocket_multi.transform(XYZ_test_uni)\n",
    "y_pred_ro2 = clf_ro2.predict(XYZ_test_transform_ro2.values)\n",
    "print(classification_report(y_test, y_pred_ro2))"
   ]
  },
  {
   "cell_type": "markdown",
   "id": "942cf7c0",
   "metadata": {},
   "source": [
    "### MINI-ROCKET\n"
   ]
  },
  {
   "cell_type": "code",
   "execution_count": null,
   "id": "a7b8c8de",
   "metadata": {},
   "outputs": [],
   "source": [
    "from sklearn.linear_model import RidgeClassifierCV\n",
    "from sktime.transformations.panel.rocket import MiniRocketMultivariate"
   ]
  },
  {
   "cell_type": "code",
   "execution_count": null,
   "id": "6d32c338",
   "metadata": {},
   "outputs": [],
   "source": [
    "from sklearn.linear_model import RidgeClassifierCV\n",
    "from sktime.transformations.panel.rocket import MiniRocketMultivariate"
   ]
  },
  {
   "cell_type": "code",
   "execution_count": null,
   "id": "3e4587e4",
   "metadata": {},
   "outputs": [],
   "source": [
    "XYZ_test_transform_mini2 = minirocket_multi.transform(XYZ_test_uni)\n",
    "y_pred_mini2 = clf_mini2.predict(XYZ_test_transform_mini2.values)\n",
    "print(classification_report(y_test, y_pred_mini2))"
   ]
  }
 ],
 "metadata": {
  "kernelspec": {
   "display_name": "Python 3 (ipykernel)",
   "language": "python",
   "name": "python3"
  },
  "language_info": {
   "codemirror_mode": {
    "name": "ipython",
    "version": 3
   },
   "file_extension": ".py",
   "mimetype": "text/x-python",
   "name": "python",
   "nbconvert_exporter": "python",
   "pygments_lexer": "ipython3",
   "version": "3.9.12"
  }
 },
 "nbformat": 4,
 "nbformat_minor": 5
}
