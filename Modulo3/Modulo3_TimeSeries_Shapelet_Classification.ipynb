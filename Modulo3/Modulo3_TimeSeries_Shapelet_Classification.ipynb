{
 "cells": [
  {
   "attachments": {},
   "cell_type": "markdown",
   "id": "f179bb8b",
   "metadata": {},
   "source": [
    "# Time Series Shapelet_Motif_Classification"
   ]
  },
  {
   "cell_type": "code",
   "execution_count": 10,
   "id": "a1737330",
   "metadata": {},
   "outputs": [],
   "source": [
    "%matplotlib inline\n",
    "\n",
    "import numpy as np\n",
    "import pandas as pd\n",
    "import matplotlib.pyplot as plt\n",
    "from tslearn.preprocessing import TimeSeriesScalerMinMax\n",
    "from collections import defaultdict\n",
    "from sklearn.model_selection import train_test_split, cross_val_score \n",
    "from sklearn.tree import DecisionTreeClassifier\n",
    "from sklearn.metrics import accuracy_score, f1_score, classification_report\n",
    "from sklearn.metrics import roc_curve, auc, roc_auc_score\n",
    "from pyts.transformation import ShapeletTransform\n",
    "from sklearn.metrics import accuracy_score\n",
    "from sklearn.neighbors import KNeighborsClassifier"
   ]
  },
  {
   "cell_type": "code",
   "execution_count": 67,
   "id": "1a014979",
   "metadata": {},
   "outputs": [],
   "source": [
    "y_train = pd.read_csv(\"/Users/salvu/Desktop/DM2Git/3Modulo/Dataset/y_train.txt\", header=None, delim_whitespace=True )\n",
    "y_test = pd.read_csv(\"/Users/salvu/Desktop/DM2Git/3Modulo/Dataset/y_test.txt\", header=None, delim_whitespace=True )\n",
    "\n",
    "body_gyro_x_train = pd.read_csv(\"/Users/salvu/Desktop/DM2Git/3Modulo/Dataset/body_gyro_x_train.txt\", header=None,  delim_whitespace=True)\n",
    "body_gyro_y_train = pd.read_csv(\"/Users/salvu/Desktop/DM2Git/3Modulo/Dataset/body_gyro_y_train.txt\", header=None,  delim_whitespace=True)\n",
    "body_gyro_x_test = pd.read_csv(\"/Users/salvu/Desktop/DM2Git/3Modulo/Dataset/body_gyro_x_test.txt\", header=None,  delim_whitespace=True)\n",
    "body_gyro_y_test = pd.read_csv(\"/Users/salvu/Desktop/DM2Git/3Modulo/Dataset/body_gyro_y_test.txt\", header=None,  delim_whitespace=True)\n",
    "body_acc_x_train = pd.read_csv(\"/Users/salvu/Desktop/DM2Git/3Modulo/Dataset/body_acc_x_train.txt\", header=None,  delim_whitespace=True)\n",
    "body_gyro_z_train = pd.read_csv(\"/Users/salvu/Desktop/DM2Git/3Modulo/Dataset/body_gyro_z_train.txt\", header=None,  delim_whitespace=True)\n",
    "body_gyro_z_test = pd.read_csv(\"/Users/salvu/Desktop/DM2Git/3Modulo/Dataset/body_gyro_z_test.txt\", header=None,  delim_whitespace=True)"
   ]
  },
  {
   "attachments": {},
   "cell_type": "markdown",
   "id": "70b3b9e2",
   "metadata": {},
   "source": [
    "## Shaplet Classifiers"
   ]
  },
  {
   "cell_type": "code",
   "execution_count": 14,
   "id": "51a7fd2d",
   "metadata": {},
   "outputs": [],
   "source": [
    "#!pip install pyts"
   ]
  },
  {
   "cell_type": "code",
   "execution_count": 15,
   "id": "84ad8fdf",
   "metadata": {},
   "outputs": [],
   "source": [
    "X_train=body_gyro_z_train.copy(deep=True)\n",
    "X_test=body_gyro_z_test.copy(deep=True)"
   ]
  },
  {
   "cell_type": "code",
   "execution_count": 16,
   "id": "d35e7548",
   "metadata": {},
   "outputs": [],
   "source": [
    "#X_train, X_test, y_train, y_test = train_test_split(X, y, test_size=0.3, random_state=100, stratify=y)"
   ]
  },
  {
   "cell_type": "code",
   "execution_count": 17,
   "id": "2b90ae30",
   "metadata": {},
   "outputs": [],
   "source": [
    "from tslearn.preprocessing import TimeSeriesScalerMeanVariance\n",
    "scaler = TimeSeriesScalerMeanVariance(mu=0., std=1.)  # Rescale time series"
   ]
  },
  {
   "cell_type": "code",
   "execution_count": 18,
   "id": "1b103fce",
   "metadata": {},
   "outputs": [
    {
     "data": {
      "text/plain": [
       "(7352, 128)"
      ]
     },
     "execution_count": 18,
     "metadata": {},
     "output_type": "execute_result"
    }
   ],
   "source": [
    "X_train_norm= scaler.fit_transform(X_train).reshape(X_train.shape[0], X_train.shape[1])\n",
    "X_test_norm= scaler.fit_transform(X_test).reshape(X_test.shape[0], X_test.shape[1])\n",
    "X_train_norm.shape"
   ]
  },
  {
   "cell_type": "code",
   "execution_count": 19,
   "id": "4315f42c",
   "metadata": {},
   "outputs": [
    {
     "data": {
      "image/png": "[encoded data removed]",
      "text/plain": [
       "<Figure size 432x288 with 1 Axes>"
      ]
     },
     "metadata": {
      "needs_background": "light"
     },
     "output_type": "display_data"
    }
   ],
   "source": [
    "#plt.plot(X_train.T[0])\n",
    "plt.plot(X_train_norm[0])\n",
    "plt.show()"
   ]
  },
  {
   "cell_type": "code",
   "execution_count": 20,
   "id": "c85b9fa7",
   "metadata": {},
   "outputs": [
    {
     "name": "stdout",
     "output_type": "stream",
     "text": [
      "Accuracy 0.4628435697319308\n",
      "F1-score [0.50799624 0.5536105  0.38047559 0.38669439 0.43313201 0.50551655]\n",
      "              precision    recall  f1-score   support\n",
      "\n",
      "           1       0.48      0.54      0.51       496\n",
      "           2       0.57      0.54      0.55       471\n",
      "           3       0.40      0.36      0.38       420\n",
      "           4       0.39      0.38      0.39       491\n",
      "           5       0.40      0.47      0.43       532\n",
      "           6       0.55      0.47      0.51       537\n",
      "\n",
      "    accuracy                           0.46      2947\n",
      "   macro avg       0.47      0.46      0.46      2947\n",
      "weighted avg       0.47      0.46      0.46      2947\n",
      "\n"
     ]
    }
   ],
   "source": [
    "clf_1 = DecisionTreeClassifier(min_samples_split=33, min_samples_leaf =33 , random_state=42)\n",
    "clf_1.fit(X_train, y_train)\n",
    "\n",
    "y_pred_dt1 = clf_1.predict(X_test)\n",
    "\n",
    "print('Accuracy %s' % accuracy_score(y_test, y_pred_dt1))\n",
    "print('F1-score %s' % f1_score(y_test, y_pred_dt1, average=None))\n",
    "print(classification_report(y_test, y_pred_dt1))"
   ]
  },
  {
   "cell_type": "code",
   "execution_count": 21,
   "id": "bed942ac",
   "metadata": {},
   "outputs": [
    {
     "name": "stdout",
     "output_type": "stream",
     "text": [
      "Accuracy 0.5310485239226331\n",
      "F1-score [0.69184891 0.80089485 0.30708661 0.44934641 0.33730835 0.56617647]\n",
      "              precision    recall  f1-score   support\n",
      "\n",
      "           1       0.68      0.70      0.69       496\n",
      "           2       0.85      0.76      0.80       471\n",
      "           3       0.89      0.19      0.31       420\n",
      "           4       0.38      0.56      0.45       491\n",
      "           5       0.31      0.37      0.34       532\n",
      "           6       0.56      0.57      0.57       537\n",
      "\n",
      "    accuracy                           0.53      2947\n",
      "   macro avg       0.61      0.53      0.53      2947\n",
      "weighted avg       0.60      0.53      0.53      2947\n",
      "\n"
     ]
    }
   ],
   "source": [
    "clf_knn_1 = KNeighborsClassifier(n_neighbors=5, weights='uniform', metric='euclidean')\n",
    "clf_knn_1.fit(X_train, np.ravel(y_train))\n",
    "\n",
    "y_pred_Knn1 = clf_knn_1.predict(X_test)\n",
    "\n",
    "print('Accuracy %s' % accuracy_score(y_test, y_pred_Knn1))\n",
    "print('F1-score %s' % f1_score(y_test, y_pred_Knn1, average=None))\n",
    "print(classification_report(y_test, y_pred_Knn1))"
   ]
  },
  {
   "attachments": {},
   "cell_type": "markdown",
   "id": "60e7a6d5",
   "metadata": {},
   "source": [
    "## ShapeletModel"
   ]
  },
  {
   "cell_type": "code",
   "execution_count": 22,
   "id": "289ab6ee",
   "metadata": {},
   "outputs": [],
   "source": [
    "#!pip install tensorflow"
   ]
  },
  {
   "cell_type": "code",
   "execution_count": 23,
   "id": "53141ec7",
   "metadata": {},
   "outputs": [],
   "source": [
    "import tensorflow as tf\n",
    "from tslearn.shapelets import ShapeletModel\n",
    "from tslearn.shapelets import grabocka_params_to_shapelet_size_dict\n",
    "from tslearn.preprocessing import TimeSeriesScalerMinMax\n",
    "from sklearn.metrics import accuracy_score, f1_score, classification_report\n",
    "from tslearn.preprocessing import TimeSeriesScalerMeanVariance"
   ]
  },
  {
   "cell_type": "code",
   "execution_count": 24,
   "id": "13523c93",
   "metadata": {},
   "outputs": [
    {
     "name": "stdout",
     "output_type": "stream",
     "text": [
      "Number of time series: 7352\n",
      "Time series size: 128\n",
      "n_classes: 6\n",
      "shapelet_sizes: {12: 6}\n"
     ]
    }
   ],
   "source": [
    "n_ts, ts_sz = X_train.shape\n",
    "n_classes = 6\n",
    "\n",
    "shapelet_sizes = grabocka_params_to_shapelet_size_dict(n_ts=n_ts, ts_sz=ts_sz, n_classes=n_classes, l=0.1, r=1)\n",
    "\n",
    "print('Number of time series:', n_ts)\n",
    "print('Time series size:', ts_sz)\n",
    "print('n_classes:', n_classes)\n",
    "print('shapelet_sizes:', shapelet_sizes)"
   ]
  },
  {
   "cell_type": "code",
   "execution_count": 25,
   "id": "06b9fe1c",
   "metadata": {},
   "outputs": [
    {
     "name": "stderr",
     "output_type": "stream",
     "text": [
      "c:\\anaconda3n\\lib\\site-packages\\tslearn\\shapelets\\shapelets.py:354: FutureWarning: The default value for 'scale' is set to False in version 0.4 to ensure backward compatibility, but is likely to change in a future version.\n",
      "  warnings.warn(\"The default value for 'scale' is set to False \"\n"
     ]
    },
    {
     "data": {
      "text/html": [
       "<style>#sk-container-id-1 {color: black;background-color: white;}#sk-container-id-1 pre{padding: 0;}#sk-container-id-1 div.sk-toggleable {background-color: white;}#sk-container-id-1 label.sk-toggleable__label {cursor: pointer;display: block;width: 100%;margin-bottom: 0;padding: 0.3em;box-sizing: border-box;text-align: center;}#sk-container-id-1 label.sk-toggleable__label-arrow:before {content: \"▸\";float: left;margin-right: 0.25em;color: #696969;}#sk-container-id-1 label.sk-toggleable__label-arrow:hover:before {color: black;}#sk-container-id-1 div.sk-estimator:hover label.sk-toggleable__label-arrow:before {color: black;}#sk-container-id-1 div.sk-toggleable__content {max-height: 0;max-width: 0;overflow: hidden;text-align: left;background-color: #f0f8ff;}#sk-container-id-1 div.sk-toggleable__content pre {margin: 0.2em;color: black;border-radius: 0.25em;background-color: #f0f8ff;}#sk-container-id-1 input.sk-toggleable__control:checked~div.sk-toggleable__content {max-height: 200px;max-width: 100%;overflow: auto;}#sk-container-id-1 input.sk-toggleable__control:checked~label.sk-toggleable__label-arrow:before {content: \"▾\";}#sk-container-id-1 div.sk-estimator input.sk-toggleable__control:checked~label.sk-toggleable__label {background-color: #d4ebff;}#sk-container-id-1 div.sk-label input.sk-toggleable__control:checked~label.sk-toggleable__label {background-color: #d4ebff;}#sk-container-id-1 input.sk-hidden--visually {border: 0;clip: rect(1px 1px 1px 1px);clip: rect(1px, 1px, 1px, 1px);height: 1px;margin: -1px;overflow: hidden;padding: 0;position: absolute;width: 1px;}#sk-container-id-1 div.sk-estimator {font-family: monospace;background-color: #f0f8ff;border: 1px dotted black;border-radius: 0.25em;box-sizing: border-box;margin-bottom: 0.5em;}#sk-container-id-1 div.sk-estimator:hover {background-color: #d4ebff;}#sk-container-id-1 div.sk-parallel-item::after {content: \"\";width: 100%;border-bottom: 1px solid gray;flex-grow: 1;}#sk-container-id-1 div.sk-label:hover label.sk-toggleable__label {background-color: #d4ebff;}#sk-container-id-1 div.sk-serial::before {content: \"\";position: absolute;border-left: 1px solid gray;box-sizing: border-box;top: 0;bottom: 0;left: 50%;z-index: 0;}#sk-container-id-1 div.sk-serial {display: flex;flex-direction: column;align-items: center;background-color: white;padding-right: 0.2em;padding-left: 0.2em;position: relative;}#sk-container-id-1 div.sk-item {position: relative;z-index: 1;}#sk-container-id-1 div.sk-parallel {display: flex;align-items: stretch;justify-content: center;background-color: white;position: relative;}#sk-container-id-1 div.sk-item::before, #sk-container-id-1 div.sk-parallel-item::before {content: \"\";position: absolute;border-left: 1px solid gray;box-sizing: border-box;top: 0;bottom: 0;left: 50%;z-index: -1;}#sk-container-id-1 div.sk-parallel-item {display: flex;flex-direction: column;z-index: 1;position: relative;background-color: white;}#sk-container-id-1 div.sk-parallel-item:first-child::after {align-self: flex-end;width: 50%;}#sk-container-id-1 div.sk-parallel-item:last-child::after {align-self: flex-start;width: 50%;}#sk-container-id-1 div.sk-parallel-item:only-child::after {width: 0;}#sk-container-id-1 div.sk-dashed-wrapped {border: 1px dashed gray;margin: 0 0.4em 0.5em 0.4em;box-sizing: border-box;padding-bottom: 0.4em;background-color: white;}#sk-container-id-1 div.sk-label label {font-family: monospace;font-weight: bold;display: inline-block;line-height: 1.2em;}#sk-container-id-1 div.sk-label-container {text-align: center;}#sk-container-id-1 div.sk-container {/* jupyter's `normalize.less` sets `[hidden] { display: none; }` but bootstrap.min.css set `[hidden] { display: none !important; }` so we also need the `!important` here to be able to override the default hidden behavior on the sphinx rendered scikit-learn.org. See: https://github.com/scikit-learn/scikit-learn/issues/21755 */display: inline-block !important;position: relative;}#sk-container-id-1 div.sk-text-repr-fallback {display: none;}</style><div id=\"sk-container-id-1\" class=\"sk-top-container\"><div class=\"sk-text-repr-fallback\"><pre>LearningShapelets(max_iter=200, n_shapelets_per_size={12: 6}, random_state=0,\n",
       "                  weight_regularizer=0.01)</pre><b>In a Jupyter environment, please rerun this cell to show the HTML representation or trust the notebook. <br />On GitHub, the HTML representation is unable to render, please try loading this page with nbviewer.org.</b></div><div class=\"sk-container\" hidden><div class=\"sk-item\"><div class=\"sk-estimator sk-toggleable\"><input class=\"sk-toggleable__control sk-hidden--visually\" id=\"sk-estimator-id-1\" type=\"checkbox\" checked><label for=\"sk-estimator-id-1\" class=\"sk-toggleable__label sk-toggleable__label-arrow\">LearningShapelets</label><div class=\"sk-toggleable__content\"><pre>LearningShapelets(max_iter=200, n_shapelets_per_size={12: 6}, random_state=0,\n",
       "                  weight_regularizer=0.01)</pre></div></div></div></div></div>"
      ],
      "text/plain": [
       "LearningShapelets(max_iter=200, n_shapelets_per_size={12: 6}, random_state=0,\n",
       "                  weight_regularizer=0.01)"
      ]
     },
     "execution_count": 25,
     "metadata": {},
     "output_type": "execute_result"
    }
   ],
   "source": [
    "shp_clf = ShapeletModel(n_shapelets_per_size=shapelet_sizes,\n",
    "                        optimizer=\"sgd\",\n",
    "                        weight_regularizer=.01,\n",
    "                        max_iter=200,\n",
    "                        verbose=0,\n",
    "                        random_state=0)\n",
    "\n",
    "shp_clf.fit(X_train, np.ravel(y_train))"
   ]
  },
  {
   "cell_type": "code",
   "execution_count": 26,
   "id": "3cff4684",
   "metadata": {},
   "outputs": [
    {
     "data": {
      "image/png": "[encoded data removed]",
      "text/plain": [
       "<Figure size 720x288 with 1 Axes>"
      ]
     },
     "metadata": {
      "needs_background": "light"
     },
     "output_type": "display_data"
    }
   ],
   "source": [
    "#Location Shapelet in X_train\n",
    "predicted_locations = shp_clf.locate(X_train)\n",
    "\n",
    "ts_id = 2528\n",
    "plt.figure(figsize=(10,4))\n",
    "n_shapelets = sum(shapelet_sizes.values())\n",
    "plt.title(\"Locations of shapelet matches in body_gyro_z_train[1846]\") \n",
    "plt.plot(X_train.iloc[ts_id,:])\n",
    "plt.xlim([0,127])\n",
    "for idx_shp, shp in enumerate(shp_clf.shapelets_):\n",
    "    t0 = predicted_locations[ts_id, idx_shp]\n",
    "    plt.plot(np.arange(t0, t0 + len(shp)), shp, linewidth=2, label = 'Shapelet {}'.format(idx_shp))\n",
    "    plt.legend(bbox_to_anchor=(1, 1), loc=2, borderaxespad=0.5)\n",
    "#plt.savefig('FigXX-Shapelets.png', dpi=600,bbox_inches = 'tight') \n",
    "plt.show()"
   ]
  },
  {
   "cell_type": "code",
   "execution_count": 27,
   "id": "1d677e1a",
   "metadata": {},
   "outputs": [
    {
     "data": {
      "text/html": [
       "<style>#sk-container-id-2 {color: black;background-color: white;}#sk-container-id-2 pre{padding: 0;}#sk-container-id-2 div.sk-toggleable {background-color: white;}#sk-container-id-2 label.sk-toggleable__label {cursor: pointer;display: block;width: 100%;margin-bottom: 0;padding: 0.3em;box-sizing: border-box;text-align: center;}#sk-container-id-2 label.sk-toggleable__label-arrow:before {content: \"▸\";float: left;margin-right: 0.25em;color: #696969;}#sk-container-id-2 label.sk-toggleable__label-arrow:hover:before {color: black;}#sk-container-id-2 div.sk-estimator:hover label.sk-toggleable__label-arrow:before {color: black;}#sk-container-id-2 div.sk-toggleable__content {max-height: 0;max-width: 0;overflow: hidden;text-align: left;background-color: #f0f8ff;}#sk-container-id-2 div.sk-toggleable__content pre {margin: 0.2em;color: black;border-radius: 0.25em;background-color: #f0f8ff;}#sk-container-id-2 input.sk-toggleable__control:checked~div.sk-toggleable__content {max-height: 200px;max-width: 100%;overflow: auto;}#sk-container-id-2 input.sk-toggleable__control:checked~label.sk-toggleable__label-arrow:before {content: \"▾\";}#sk-container-id-2 div.sk-estimator input.sk-toggleable__control:checked~label.sk-toggleable__label {background-color: #d4ebff;}#sk-container-id-2 div.sk-label input.sk-toggleable__control:checked~label.sk-toggleable__label {background-color: #d4ebff;}#sk-container-id-2 input.sk-hidden--visually {border: 0;clip: rect(1px 1px 1px 1px);clip: rect(1px, 1px, 1px, 1px);height: 1px;margin: -1px;overflow: hidden;padding: 0;position: absolute;width: 1px;}#sk-container-id-2 div.sk-estimator {font-family: monospace;background-color: #f0f8ff;border: 1px dotted black;border-radius: 0.25em;box-sizing: border-box;margin-bottom: 0.5em;}#sk-container-id-2 div.sk-estimator:hover {background-color: #d4ebff;}#sk-container-id-2 div.sk-parallel-item::after {content: \"\";width: 100%;border-bottom: 1px solid gray;flex-grow: 1;}#sk-container-id-2 div.sk-label:hover label.sk-toggleable__label {background-color: #d4ebff;}#sk-container-id-2 div.sk-serial::before {content: \"\";position: absolute;border-left: 1px solid gray;box-sizing: border-box;top: 0;bottom: 0;left: 50%;z-index: 0;}#sk-container-id-2 div.sk-serial {display: flex;flex-direction: column;align-items: center;background-color: white;padding-right: 0.2em;padding-left: 0.2em;position: relative;}#sk-container-id-2 div.sk-item {position: relative;z-index: 1;}#sk-container-id-2 div.sk-parallel {display: flex;align-items: stretch;justify-content: center;background-color: white;position: relative;}#sk-container-id-2 div.sk-item::before, #sk-container-id-2 div.sk-parallel-item::before {content: \"\";position: absolute;border-left: 1px solid gray;box-sizing: border-box;top: 0;bottom: 0;left: 50%;z-index: -1;}#sk-container-id-2 div.sk-parallel-item {display: flex;flex-direction: column;z-index: 1;position: relative;background-color: white;}#sk-container-id-2 div.sk-parallel-item:first-child::after {align-self: flex-end;width: 50%;}#sk-container-id-2 div.sk-parallel-item:last-child::after {align-self: flex-start;width: 50%;}#sk-container-id-2 div.sk-parallel-item:only-child::after {width: 0;}#sk-container-id-2 div.sk-dashed-wrapped {border: 1px dashed gray;margin: 0 0.4em 0.5em 0.4em;box-sizing: border-box;padding-bottom: 0.4em;background-color: white;}#sk-container-id-2 div.sk-label label {font-family: monospace;font-weight: bold;display: inline-block;line-height: 1.2em;}#sk-container-id-2 div.sk-label-container {text-align: center;}#sk-container-id-2 div.sk-container {/* jupyter's `normalize.less` sets `[hidden] { display: none; }` but bootstrap.min.css set `[hidden] { display: none !important; }` so we also need the `!important` here to be able to override the default hidden behavior on the sphinx rendered scikit-learn.org. See: https://github.com/scikit-learn/scikit-learn/issues/21755 */display: inline-block !important;position: relative;}#sk-container-id-2 div.sk-text-repr-fallback {display: none;}</style><div id=\"sk-container-id-2\" class=\"sk-top-container\"><div class=\"sk-text-repr-fallback\"><pre>LearningShapelets(max_iter=200, n_shapelets_per_size={12: 6}, random_state=0,\n",
       "                  weight_regularizer=0.01)</pre><b>In a Jupyter environment, please rerun this cell to show the HTML representation or trust the notebook. <br />On GitHub, the HTML representation is unable to render, please try loading this page with nbviewer.org.</b></div><div class=\"sk-container\" hidden><div class=\"sk-item\"><div class=\"sk-estimator sk-toggleable\"><input class=\"sk-toggleable__control sk-hidden--visually\" id=\"sk-estimator-id-2\" type=\"checkbox\" checked><label for=\"sk-estimator-id-2\" class=\"sk-toggleable__label sk-toggleable__label-arrow\">LearningShapelets</label><div class=\"sk-toggleable__content\"><pre>LearningShapelets(max_iter=200, n_shapelets_per_size={12: 6}, random_state=0,\n",
       "                  weight_regularizer=0.01)</pre></div></div></div></div></div>"
      ],
      "text/plain": [
       "LearningShapelets(max_iter=200, n_shapelets_per_size={12: 6}, random_state=0,\n",
       "                  weight_regularizer=0.01)"
      ]
     },
     "execution_count": 27,
     "metadata": {},
     "output_type": "execute_result"
    }
   ],
   "source": [
    "shp_clf.fit(X_train, np.ravel(y_train))"
   ]
  },
  {
   "cell_type": "code",
   "execution_count": 28,
   "id": "440830c2",
   "metadata": {},
   "outputs": [
    {
     "data": {
      "text/plain": [
       "array([array([[0.01566566],\n",
       "              [0.01327516],\n",
       "              [0.00947569],\n",
       "              [0.00466648],\n",
       "              [0.00236332],\n",
       "              [0.00174773],\n",
       "              [0.00240174],\n",
       "              [0.00390619],\n",
       "              [0.00540646],\n",
       "              [0.00720967],\n",
       "              [0.00660653],\n",
       "              [0.00654833]]), array([[0.30386534],\n",
       "                                     [0.42205212],\n",
       "                                     [0.51119477],\n",
       "                                     [0.577779  ],\n",
       "                                     [0.61584461],\n",
       "                                     [0.62551814],\n",
       "                                     [0.60438114],\n",
       "                                     [0.55841756],\n",
       "                                     [0.49246183],\n",
       "                                     [0.40763694],\n",
       "                                     [0.31313962],\n",
       "                                     [0.2097825 ]]),\n",
       "       array([[-0.24173555],\n",
       "              [-0.43922883],\n",
       "              [-0.64279783],\n",
       "              [-0.84820884],\n",
       "              [-1.06673944],\n",
       "              [-1.28346932],\n",
       "              [-1.4648242 ],\n",
       "              [-1.56469774],\n",
       "              [-1.5280391 ],\n",
       "              [-1.35093462],\n",
       "              [-1.07681501],\n",
       "              [-0.7516669 ]]), array([[ 0.3345629 ],\n",
       "                                      [ 0.38221499],\n",
       "                                      [ 0.37100837],\n",
       "                                      [ 0.29970199],\n",
       "                                      [ 0.19337802],\n",
       "                                      [ 0.07296655],\n",
       "                                      [-0.05759004],\n",
       "                                      [-0.20304148],\n",
       "                                      [-0.33972812],\n",
       "                                      [-0.43555427],\n",
       "                                      [-0.47640276],\n",
       "                                      [-0.45670035]]),\n",
       "       array([[-0.41153151],\n",
       "              [-0.40185481],\n",
       "              [-0.31548253],\n",
       "              [-0.1780549 ],\n",
       "              [-0.01215158],\n",
       "              [ 0.15931509],\n",
       "              [ 0.30303776],\n",
       "              [ 0.42105058],\n",
       "              [ 0.51127589],\n",
       "              [ 0.54572225],\n",
       "              [ 0.51700634],\n",
       "              [ 0.42575264]]), array([[-0.27809706],\n",
       "                                      [-0.3454951 ],\n",
       "                                      [-0.39268225],\n",
       "                                      [-0.40297636],\n",
       "                                      [-0.37075886],\n",
       "                                      [-0.31095588],\n",
       "                                      [-0.23808384],\n",
       "                                      [-0.15594776],\n",
       "                                      [-0.07641387],\n",
       "                                      [-0.00505238],\n",
       "                                      [ 0.05472647],\n",
       "                                      [ 0.09537689]])], dtype=object)"
      ]
     },
     "execution_count": 28,
     "metadata": {},
     "output_type": "execute_result"
    }
   ],
   "source": [
    "shp_clf.shapelets_"
   ]
  },
  {
   "cell_type": "code",
   "execution_count": 29,
   "id": "001e33c3",
   "metadata": {},
   "outputs": [
    {
     "name": "stdout",
     "output_type": "stream",
     "text": [
      "Correct classification rate: 0.3169324737020699\n"
     ]
    }
   ],
   "source": [
    "predicted_labels = shp_clf.predict(X_test)\n",
    "print(\"Correct classification rate:\", accuracy_score(y_test, predicted_labels))"
   ]
  },
  {
   "cell_type": "code",
   "execution_count": 30,
   "id": "177bf352",
   "metadata": {},
   "outputs": [],
   "source": [
    "predicted_locations = shp_clf.locate(X_test)"
   ]
  },
  {
   "cell_type": "code",
   "execution_count": 31,
   "id": "94bf048f",
   "metadata": {},
   "outputs": [
    {
     "name": "stderr",
     "output_type": "stream",
     "text": [
      "c:\\anaconda3n\\lib\\site-packages\\tslearn\\shapelets\\shapelets.py:354: FutureWarning: The default value for 'scale' is set to False in version 0.4 to ensure backward compatibility, but is likely to change in a future version.\n",
      "  warnings.warn(\"The default value for 'scale' is set to False \"\n"
     ]
    },
    {
     "name": "stdout",
     "output_type": "stream",
     "text": [
      "Correct classification rate: 0.27078384798099764\n"
     ]
    },
    {
     "data": {
      "image/png": "[encoded data removed]",
      "text/plain": [
       "<Figure size 432x288 with 1 Axes>"
      ]
     },
     "metadata": {
      "needs_background": "light"
     },
     "output_type": "display_data"
    },
    {
     "data": {
      "image/png": "[encoded data removed]",
      "text/plain": [
       "<Figure size 432x288 with 1 Axes>"
      ]
     },
     "metadata": {
      "needs_background": "light"
     },
     "output_type": "display_data"
    }
   ],
   "source": [
    "## ALTERNATIVA ##\n",
    "# Author: Romain Tavenard\n",
    "# License: BSD 3 clause\n",
    "\n",
    "import numpy\n",
    "from sklearn.metrics import accuracy_score\n",
    "import tensorflow as tf\n",
    "import matplotlib.pyplot as plt\n",
    "\n",
    "from tslearn.datasets import CachedDatasets\n",
    "from tslearn.preprocessing import TimeSeriesScalerMinMax\n",
    "from tslearn.shapelets import LearningShapelets, \\\n",
    "    grabocka_params_to_shapelet_size_dict\n",
    "from tslearn.utils import ts_size\n",
    "\n",
    "# Get statistics of the dataset\n",
    "n_ts, ts_sz = body_gyro_z_train.shape\n",
    "n_classes = 6 # len(set(y_train))\n",
    "\n",
    "# Set the number of shapelets per size as done in the original paper\n",
    "shapelet_sizes = grabocka_params_to_shapelet_size_dict(n_ts=n_ts,\n",
    "                                                       ts_sz=ts_sz,\n",
    "                                                       n_classes=n_classes,\n",
    "                                                       l=0.1,\n",
    "                                                       r=1)\n",
    "\n",
    "# Define the model using parameters provided by the authors (except that we\n",
    "# use fewer iterations here)\n",
    "shp_clf = LearningShapelets(n_shapelets_per_size=shapelet_sizes,\n",
    "                            optimizer=\"sgd\", #tf.optimizers.Adam(.01),\n",
    "                            #batch_size=16,\n",
    "                            weight_regularizer=.01,\n",
    "                            max_iter=100,\n",
    "                            random_state=42,\n",
    "                            verbose=0)\n",
    "shp_clf.fit(X_train, np.ravel(y_train))\n",
    "\n",
    "# Make predictions and calculate accuracy score\n",
    "pred_labels = shp_clf.predict(X_test)\n",
    "print(\"Correct classification rate:\", accuracy_score(y_test, pred_labels))\n",
    "\n",
    "# Plot the different discovered shapelets\n",
    "plt.figure()\n",
    "for i, sz in enumerate(shapelet_sizes.keys()):\n",
    "    plt.subplot(len(shapelet_sizes), 1, i + 1)\n",
    "    plt.title(\"%d shapelets of size %d\" % (shapelet_sizes[sz], sz))\n",
    "    for shp in shp_clf.shapelets_:\n",
    "        if ts_size(shp) == sz:\n",
    "            plt.plot(shp.ravel())\n",
    "    plt.xlim([0, max(shapelet_sizes.keys()) - 1])\n",
    "\n",
    "plt.tight_layout()\n",
    "plt.show()\n",
    "\n",
    "# The loss history is accessible via the `model_` that is a keras model\n",
    "plt.figure()\n",
    "plt.plot(numpy.arange(1, shp_clf.n_iter_ + 1), shp_clf.history_[\"loss\"])\n",
    "plt.title(\"Evolution of cross-entropy loss during training\")\n",
    "plt.xlabel(\"Epochs\")\n",
    "plt.show()"
   ]
  },
  {
   "attachments": {},
   "cell_type": "markdown",
   "id": "01939281",
   "metadata": {},
   "source": [
    "## Shaplet-distances-based Classifier"
   ]
  },
  {
   "cell_type": "code",
   "execution_count": 32,
   "id": "48eb0044",
   "metadata": {},
   "outputs": [
    {
     "data": {
      "text/plain": [
       "(7352, 6)"
      ]
     },
     "execution_count": 32,
     "metadata": {},
     "output_type": "execute_result"
    }
   ],
   "source": [
    "X_train2 = shp_clf.transform(X_train)\n",
    "X_train2.shape"
   ]
  },
  {
   "cell_type": "code",
   "execution_count": 33,
   "id": "d87df3b3",
   "metadata": {},
   "outputs": [
    {
     "data": {
      "text/plain": [
       "(2947, 6)"
      ]
     },
     "execution_count": 33,
     "metadata": {},
     "output_type": "execute_result"
    }
   ],
   "source": [
    "X_test2 = shp_clf.transform(X_test)\n",
    "X_test2.shape"
   ]
  },
  {
   "cell_type": "code",
   "execution_count": 34,
   "id": "e39ef92b",
   "metadata": {},
   "outputs": [],
   "source": [
    "X_train_norm2 = shp_clf.transform(X_train_norm)\n",
    "X_test_norm2 = shp_clf.transform(X_test_norm)"
   ]
  },
  {
   "cell_type": "code",
   "execution_count": 35,
   "id": "e65e0f13",
   "metadata": {},
   "outputs": [],
   "source": [
    "from sklearn.neighbors import KNeighborsClassifier"
   ]
  },
  {
   "cell_type": "code",
   "execution_count": 36,
   "id": "92e70fcb",
   "metadata": {},
   "outputs": [
    {
     "name": "stdout",
     "output_type": "stream",
     "text": [
      "Minimum error:- 0.46080760095011875 at K = 25\n",
      "CPU times: total: 5.38 s\n",
      "Wall time: 5.37 s\n"
     ]
    },
    {
     "data": {
      "image/png": "[encoded data removed]",
      "text/plain": [
       "<Figure size 720x432 with 1 Axes>"
      ]
     },
     "metadata": {
      "needs_background": "light"
     },
     "output_type": "display_data"
    }
   ],
   "source": [
    "%%time\n",
    "error_rate = []\n",
    "for i in range(1,55):\n",
    "    knn = KNeighborsClassifier(n_neighbors=i)\n",
    "    knn.fit(X_train2,np.ravel(y_train))\n",
    "    pred_i = knn.predict(X_test2)\n",
    "    error_rate.append(np.mean(pred_i != np.ravel(y_test)))\n",
    "#print(pred_i)\n",
    "plt.figure(figsize=(10,6))\n",
    "plt.plot(range(1,55),error_rate,color='blue', linestyle='dashed', \n",
    "         marker='o',markerfacecolor='red', markersize=10)\n",
    "plt.title('Error Rate vs. K Value')\n",
    "plt.xlabel('K')\n",
    "plt.ylabel('Error Rate')\n",
    "print(\"Minimum error:-\",min(error_rate),\"at K =\",error_rate.index(min(error_rate)))"
   ]
  },
  {
   "cell_type": "code",
   "execution_count": 37,
   "id": "29719a8b",
   "metadata": {},
   "outputs": [
    {
     "name": "stdout",
     "output_type": "stream",
     "text": [
      "Accuracy 0.5337631489650492\n",
      "F1-score [0.58184765 0.64146621 0.41509434 0.4103139  0.5482866  0.55531453]\n",
      "              precision    recall  f1-score   support\n",
      "\n",
      "           1       0.49      0.72      0.58       496\n",
      "           2       0.70      0.59      0.64       471\n",
      "           3       0.53      0.34      0.42       420\n",
      "           4       0.46      0.37      0.41       491\n",
      "           5       0.47      0.66      0.55       532\n",
      "           6       0.66      0.48      0.56       537\n",
      "\n",
      "    accuracy                           0.53      2947\n",
      "   macro avg       0.55      0.53      0.53      2947\n",
      "weighted avg       0.55      0.53      0.53      2947\n",
      "\n"
     ]
    }
   ],
   "source": [
    "# Knn: mon normalizzato\n",
    "clf_knn = KNeighborsClassifier(n_neighbors=28, weights='uniform')\n",
    "clf_knn.fit(X_train2, np.ravel(y_train))\n",
    "y_pred_knn = clf_knn.predict(X_test2)\n",
    "\n",
    "print('Accuracy %s' % accuracy_score(y_test, y_pred_knn))\n",
    "print('F1-score %s' % f1_score(y_test, y_pred_knn, average=None))\n",
    "print(classification_report(y_test, y_pred_knn))"
   ]
  },
  {
   "cell_type": "code",
   "execution_count": 38,
   "id": "bff4f164",
   "metadata": {},
   "outputs": [
    {
     "name": "stdout",
     "output_type": "stream",
     "text": [
      "Accuracy 0.3243976925687139\n",
      "F1-score [0.45492142 0.30322581 0.18234443 0.25835189 0.36020583 0.302     ]\n",
      "              precision    recall  f1-score   support\n",
      "\n",
      "           1       0.39      0.55      0.45       496\n",
      "           2       0.31      0.30      0.30       471\n",
      "           3       0.23      0.15      0.18       420\n",
      "           4       0.29      0.24      0.26       491\n",
      "           5       0.33      0.39      0.36       532\n",
      "           6       0.33      0.28      0.30       537\n",
      "\n",
      "    accuracy                           0.32      2947\n",
      "   macro avg       0.31      0.32      0.31      2947\n",
      "weighted avg       0.31      0.32      0.31      2947\n",
      "\n"
     ]
    }
   ],
   "source": [
    "# Knn: normalizzato\n",
    "clf_knn_norm = KNeighborsClassifier(n_neighbors=28, weights='uniform')\n",
    "clf_knn_norm.fit(X_train_norm2, np.ravel(y_train))\n",
    "y_pred_knn_norm = clf_knn_norm.predict(X_test_norm2)\n",
    "\n",
    "print('Accuracy %s' % accuracy_score(y_test, y_pred_knn_norm))\n",
    "print('F1-score %s' % f1_score(y_test, y_pred_knn_norm, average=None))\n",
    "print(classification_report(y_test, y_pred_knn_norm))"
   ]
  },
  {
   "cell_type": "code",
   "execution_count": 39,
   "id": "4f45452a",
   "metadata": {},
   "outputs": [],
   "source": [
    "from sklearn.tree import DecisionTreeClassifier\n",
    "from sklearn.model_selection import GridSearchCV"
   ]
  },
  {
   "cell_type": "code",
   "execution_count": 40,
   "id": "c925066a",
   "metadata": {},
   "outputs": [],
   "source": [
    "params = { \"max_depth\" : [None,2,4,8,12,16,22], \n",
    "          \"min_samples_split\" : np.arange(2,50,2),\n",
    "          \"min_samples_leaf\" : np.arange(1,50,2)   \n",
    "}"
   ]
  },
  {
   "cell_type": "code",
   "execution_count": null,
   "id": "c86a80dc",
   "metadata": {},
   "outputs": [],
   "source": [
    "%%time\n",
    "grid = GridSearchCV(DecisionTreeClassifier(), params,cv=10, scoring='accuracy', n_jobs=-1)\n",
    "grid.fit(X_train2, y_train)"
   ]
  },
  {
   "cell_type": "code",
   "execution_count": null,
   "id": "6584aab0",
   "metadata": {},
   "outputs": [],
   "source": [
    "grid.best_params_"
   ]
  },
  {
   "cell_type": "code",
   "execution_count": 41,
   "id": "8785ad6d",
   "metadata": {},
   "outputs": [
    {
     "name": "stdout",
     "output_type": "stream",
     "text": [
      "Accuracy 0.5184933831014591\n",
      "F1-score [0.55143339 0.62459195 0.37554585 0.31523179 0.58060014 0.54704595]\n",
      "              precision    recall  f1-score   support\n",
      "\n",
      "           1       0.47      0.66      0.55       496\n",
      "           2       0.64      0.61      0.62       471\n",
      "           3       0.48      0.31      0.38       420\n",
      "           4       0.45      0.24      0.32       491\n",
      "           5       0.46      0.78      0.58       532\n",
      "           6       0.66      0.47      0.55       537\n",
      "\n",
      "    accuracy                           0.52      2947\n",
      "   macro avg       0.53      0.51      0.50      2947\n",
      "weighted avg       0.53      0.52      0.50      2947\n",
      "\n"
     ]
    }
   ],
   "source": [
    "# Decision Tree: non normalizzato\n",
    "clf_dt = DecisionTreeClassifier( max_depth=8, min_samples_leaf=15, min_samples_split=4, random_state=42)\n",
    "clf_dt.fit(X_train2, y_train)\n",
    "\n",
    "y_pred_dt = clf_dt.predict(X_test2)\n",
    "\n",
    "print('Accuracy %s' % accuracy_score(y_test, y_pred_dt))\n",
    "print('F1-score %s' % f1_score(y_test, y_pred_dt, average=None))\n",
    "print(classification_report(y_test, y_pred_dt))"
   ]
  },
  {
   "cell_type": "code",
   "execution_count": 42,
   "id": "f3b97342",
   "metadata": {},
   "outputs": [
    {
     "name": "stdout",
     "output_type": "stream",
     "text": [
      "Accuracy 0.30844927044451986\n",
      "F1-score [0.42575107 0.2964467  0.15781923 0.25922023 0.33854167 0.30021142]\n",
      "              precision    recall  f1-score   support\n",
      "\n",
      "           1       0.37      0.50      0.43       496\n",
      "           2       0.28      0.31      0.30       471\n",
      "           3       0.20      0.13      0.16       420\n",
      "           4       0.27      0.25      0.26       491\n",
      "           5       0.31      0.37      0.34       532\n",
      "           6       0.35      0.26      0.30       537\n",
      "\n",
      "    accuracy                           0.31      2947\n",
      "   macro avg       0.30      0.30      0.30      2947\n",
      "weighted avg       0.30      0.31      0.30      2947\n",
      "\n"
     ]
    }
   ],
   "source": [
    "# Decision Tree: normalizzato\n",
    "clf_dt_norm = DecisionTreeClassifier(min_samples_split=50, min_samples_leaf =50 , random_state=42)\n",
    "clf_dt_norm.fit(X_train_norm2, y_train)\n",
    "\n",
    "y_pred_dt_norm = clf_dt_norm.predict(X_test_norm2)\n",
    "\n",
    "print('Accuracy %s' % accuracy_score(y_test, y_pred_dt_norm))\n",
    "print('F1-score %s' % f1_score(y_test, y_pred_dt_norm, average=None))\n",
    "print(classification_report(y_test, y_pred_dt_norm))"
   ]
  },
  {
   "attachments": {},
   "cell_type": "markdown",
   "id": "0b1a3310",
   "metadata": {},
   "source": [
    "## Univariate Time Series Classifiers\n"
   ]
  },
  {
   "cell_type": "code",
   "execution_count": 44,
   "id": "0ac82b00",
   "metadata": {},
   "outputs": [],
   "source": [
    "#!pip install sktime\n",
    "from pyts.datasets import load_basic_motions\n",
    "from sktime.classification.distance_based import KNeighborsTimeSeriesClassifier\n",
    "from tslearn.preprocessing import TimeSeriesScalerMinMax\n",
    "from sklearn.model_selection import train_test_split, cross_val_score \n",
    "from sklearn.preprocessing import LabelEncoder\n",
    "from sklearn.metrics import accuracy_score, f1_score, classification_report\n",
    "from sklearn.metrics import roc_curve, auc, roc_auc_score\n",
    "import numpy as np\n",
    "from sklearn.metrics import classification_report\n",
    "from sktime.utils.plotting import plot_series\n",
    "from pyts.datasets import fetch_uea_dataset\n",
    "from sktime.datatypes._panel._convert import from_3d_numpy_to_nested"
   ]
  },
  {
   "cell_type": "code",
   "execution_count": 45,
   "id": "5c3adeb7",
   "metadata": {},
   "outputs": [],
   "source": [
    "X_train=body_gyro_z_train.copy(deep=True)\n",
    "X_test=body_gyro_z_test.copy(deep=True)"
   ]
  },
  {
   "cell_type": "code",
   "execution_count": 46,
   "id": "504bbb41",
   "metadata": {},
   "outputs": [],
   "source": [
    "# trasformare il dataset in una colonna sola con cella contente l'intera time series\n",
    "X_train_uni=from_3d_numpy_to_nested(X_train_norm.reshape(7352,1,128))\n",
    "X_test_uni=from_3d_numpy_to_nested(X_test_norm.reshape(2947,1,128))"
   ]
  },
  {
   "cell_type": "code",
   "execution_count": 47,
   "id": "f089b0b9",
   "metadata": {},
   "outputs": [
    {
     "data": {
      "text/html": [
       "<style>#sk-a9b6f1db-8106-45da-80bc-eadf266cc8da {color: black;background-color: white;}#sk-a9b6f1db-8106-45da-80bc-eadf266cc8da pre{padding: 0;}#sk-a9b6f1db-8106-45da-80bc-eadf266cc8da div.sk-toggleable {background-color: white;}#sk-a9b6f1db-8106-45da-80bc-eadf266cc8da label.sk-toggleable__label {cursor: pointer;display: block;width: 100%;margin-bottom: 0;padding: 0.3em;box-sizing: border-box;text-align: center;}#sk-a9b6f1db-8106-45da-80bc-eadf266cc8da label.sk-toggleable__label-arrow:before {content: \"▸\";float: left;margin-right: 0.25em;color: #696969;}#sk-a9b6f1db-8106-45da-80bc-eadf266cc8da label.sk-toggleable__label-arrow:hover:before {color: black;}#sk-a9b6f1db-8106-45da-80bc-eadf266cc8da div.sk-estimator:hover label.sk-toggleable__label-arrow:before {color: black;}#sk-a9b6f1db-8106-45da-80bc-eadf266cc8da div.sk-toggleable__content {max-height: 0;max-width: 0;overflow: hidden;text-align: left;background-color: #f0f8ff;}#sk-a9b6f1db-8106-45da-80bc-eadf266cc8da div.sk-toggleable__content pre {margin: 0.2em;color: black;border-radius: 0.25em;background-color: #f0f8ff;}#sk-a9b6f1db-8106-45da-80bc-eadf266cc8da input.sk-toggleable__control:checked~div.sk-toggleable__content {max-height: 200px;max-width: 100%;overflow: auto;}#sk-a9b6f1db-8106-45da-80bc-eadf266cc8da input.sk-toggleable__control:checked~label.sk-toggleable__label-arrow:before {content: \"▾\";}#sk-a9b6f1db-8106-45da-80bc-eadf266cc8da div.sk-estimator input.sk-toggleable__control:checked~label.sk-toggleable__label {background-color: #d4ebff;}#sk-a9b6f1db-8106-45da-80bc-eadf266cc8da div.sk-label input.sk-toggleable__control:checked~label.sk-toggleable__label {background-color: #d4ebff;}#sk-a9b6f1db-8106-45da-80bc-eadf266cc8da input.sk-hidden--visually {border: 0;clip: rect(1px 1px 1px 1px);clip: rect(1px, 1px, 1px, 1px);height: 1px;margin: -1px;overflow: hidden;padding: 0;position: absolute;width: 1px;}#sk-a9b6f1db-8106-45da-80bc-eadf266cc8da div.sk-estimator {font-family: monospace;background-color: #f0f8ff;border: 1px dotted black;border-radius: 0.25em;box-sizing: border-box;margin-bottom: 0.5em;}#sk-a9b6f1db-8106-45da-80bc-eadf266cc8da div.sk-estimator:hover {background-color: #d4ebff;}#sk-a9b6f1db-8106-45da-80bc-eadf266cc8da div.sk-parallel-item::after {content: \"\";width: 100%;border-bottom: 1px solid gray;flex-grow: 1;}#sk-a9b6f1db-8106-45da-80bc-eadf266cc8da div.sk-label:hover label.sk-toggleable__label {background-color: #d4ebff;}#sk-a9b6f1db-8106-45da-80bc-eadf266cc8da div.sk-serial::before {content: \"\";position: absolute;border-left: 1px solid gray;box-sizing: border-box;top: 2em;bottom: 0;left: 50%;}#sk-a9b6f1db-8106-45da-80bc-eadf266cc8da div.sk-serial {display: flex;flex-direction: column;align-items: center;background-color: white;padding-right: 0.2em;padding-left: 0.2em;}#sk-a9b6f1db-8106-45da-80bc-eadf266cc8da div.sk-item {z-index: 1;}#sk-a9b6f1db-8106-45da-80bc-eadf266cc8da div.sk-parallel {display: flex;align-items: stretch;justify-content: center;background-color: white;}#sk-a9b6f1db-8106-45da-80bc-eadf266cc8da div.sk-parallel::before {content: \"\";position: absolute;border-left: 1px solid gray;box-sizing: border-box;top: 2em;bottom: 0;left: 50%;}#sk-a9b6f1db-8106-45da-80bc-eadf266cc8da div.sk-parallel-item {display: flex;flex-direction: column;position: relative;background-color: white;}#sk-a9b6f1db-8106-45da-80bc-eadf266cc8da div.sk-parallel-item:first-child::after {align-self: flex-end;width: 50%;}#sk-a9b6f1db-8106-45da-80bc-eadf266cc8da div.sk-parallel-item:last-child::after {align-self: flex-start;width: 50%;}#sk-a9b6f1db-8106-45da-80bc-eadf266cc8da div.sk-parallel-item:only-child::after {width: 0;}#sk-a9b6f1db-8106-45da-80bc-eadf266cc8da div.sk-dashed-wrapped {border: 1px dashed gray;margin: 0 0.4em 0.5em 0.4em;box-sizing: border-box;padding-bottom: 0.4em;background-color: white;position: relative;}#sk-a9b6f1db-8106-45da-80bc-eadf266cc8da div.sk-label label {font-family: monospace;font-weight: bold;background-color: white;display: inline-block;line-height: 1.2em;}#sk-a9b6f1db-8106-45da-80bc-eadf266cc8da div.sk-label-container {position: relative;z-index: 2;text-align: center;}#sk-a9b6f1db-8106-45da-80bc-eadf266cc8da div.sk-container {/* jupyter's `normalize.less` sets `[hidden] { display: none; }` but bootstrap.min.css set `[hidden] { display: none !important; }` so we also need the `!important` here to be able to override the default hidden behavior on the sphinx rendered scikit-learn.org. See: https://github.com/scikit-learn/scikit-learn/issues/21755 */display: inline-block !important;position: relative;}#sk-a9b6f1db-8106-45da-80bc-eadf266cc8da div.sk-text-repr-fallback {display: none;}</style><div id='sk-a9b6f1db-8106-45da-80bc-eadf266cc8da' class=\"sk-top-container\"><div class=\"sk-text-repr-fallback\"><pre>KNeighborsTimeSeriesClassifier()</pre><b>Please rerun this cell to show the HTML repr or trust the notebook.</b></div><div class=\"sk-container\" hidden><div class='sk-item'><div class=\"sk-estimator sk-toggleable\"><input class=\"sk-toggleable__control sk-hidden--visually\" id=UUID('21b6d313-6971-4b8c-b5dc-5501ced0e906') type=\"checkbox\" checked><label for=UUID('21b6d313-6971-4b8c-b5dc-5501ced0e906') class='sk-toggleable__label sk-toggleable__label-arrow'>KNeighborsTimeSeriesClassifier</label><div class=\"sk-toggleable__content\"><pre>KNeighborsTimeSeriesClassifier()</pre></div></div></div></div></div>"
      ],
      "text/plain": [
       "KNeighborsTimeSeriesClassifier()"
      ]
     },
     "execution_count": 47,
     "metadata": {},
     "output_type": "execute_result"
    }
   ],
   "source": [
    "clf_uni = KNeighborsTimeSeriesClassifier()\n",
    "clf_uni.fit(X_train_uni, np.ravel(y_train))"
   ]
  },
  {
   "cell_type": "code",
   "execution_count": 48,
   "id": "066a5415",
   "metadata": {},
   "outputs": [
    {
     "name": "stdout",
     "output_type": "stream",
     "text": [
      "              precision    recall  f1-score   support\n",
      "\n",
      "           1       0.58      0.86      0.69       496\n",
      "           2       0.58      0.66      0.62       471\n",
      "           3       0.43      0.38      0.41       420\n",
      "           4       0.35      0.31      0.33       491\n",
      "           5       0.35      0.35      0.35       532\n",
      "           6       0.49      0.32      0.39       537\n",
      "\n",
      "    accuracy                           0.48      2947\n",
      "   macro avg       0.46      0.48      0.46      2947\n",
      "weighted avg       0.46      0.48      0.46      2947\n",
      "\n",
      "CPU times: total: 50min 35s\n",
      "Wall time: 50min 39s\n"
     ]
    }
   ],
   "source": [
    "%%time\n",
    "y_pred_uni = clf_uni.predict(X_test_uni)\n",
    "print(classification_report(y_test, y_pred_uni))"
   ]
  },
  {
   "attachments": {},
   "cell_type": "markdown",
   "id": "f650218a",
   "metadata": {},
   "source": [
    "### ROCKET"
   ]
  },
  {
   "cell_type": "code",
   "execution_count": 51,
   "id": "6331815f",
   "metadata": {},
   "outputs": [],
   "source": [
    "from sklearn.linear_model import RidgeClassifierCV\n",
    "from sktime.transformations.panel.rocket import Rocket"
   ]
  },
  {
   "cell_type": "code",
   "execution_count": 55,
   "id": "99d75c2c",
   "metadata": {},
   "outputs": [
    {
     "name": "stderr",
     "output_type": "stream",
     "text": [
      "c:\\anaconda3n\\lib\\site-packages\\sklearn\\linear_model\\_ridge.py:1178: DataConversionWarning: A column-vector y was passed when a 1d array was expected. Please change the shape of y to (n_samples, ), for example using ravel().\n",
      "  y = column_or_1d(y, warn=True)\n"
     ]
    },
    {
     "data": {
      "text/html": [
       "<style>#sk-container-id-3 {color: black;background-color: white;}#sk-container-id-3 pre{padding: 0;}#sk-container-id-3 div.sk-toggleable {background-color: white;}#sk-container-id-3 label.sk-toggleable__label {cursor: pointer;display: block;width: 100%;margin-bottom: 0;padding: 0.3em;box-sizing: border-box;text-align: center;}#sk-container-id-3 label.sk-toggleable__label-arrow:before {content: \"▸\";float: left;margin-right: 0.25em;color: #696969;}#sk-container-id-3 label.sk-toggleable__label-arrow:hover:before {color: black;}#sk-container-id-3 div.sk-estimator:hover label.sk-toggleable__label-arrow:before {color: black;}#sk-container-id-3 div.sk-toggleable__content {max-height: 0;max-width: 0;overflow: hidden;text-align: left;background-color: #f0f8ff;}#sk-container-id-3 div.sk-toggleable__content pre {margin: 0.2em;color: black;border-radius: 0.25em;background-color: #f0f8ff;}#sk-container-id-3 input.sk-toggleable__control:checked~div.sk-toggleable__content {max-height: 200px;max-width: 100%;overflow: auto;}#sk-container-id-3 input.sk-toggleable__control:checked~label.sk-toggleable__label-arrow:before {content: \"▾\";}#sk-container-id-3 div.sk-estimator input.sk-toggleable__control:checked~label.sk-toggleable__label {background-color: #d4ebff;}#sk-container-id-3 div.sk-label input.sk-toggleable__control:checked~label.sk-toggleable__label {background-color: #d4ebff;}#sk-container-id-3 input.sk-hidden--visually {border: 0;clip: rect(1px 1px 1px 1px);clip: rect(1px, 1px, 1px, 1px);height: 1px;margin: -1px;overflow: hidden;padding: 0;position: absolute;width: 1px;}#sk-container-id-3 div.sk-estimator {font-family: monospace;background-color: #f0f8ff;border: 1px dotted black;border-radius: 0.25em;box-sizing: border-box;margin-bottom: 0.5em;}#sk-container-id-3 div.sk-estimator:hover {background-color: #d4ebff;}#sk-container-id-3 div.sk-parallel-item::after {content: \"\";width: 100%;border-bottom: 1px solid gray;flex-grow: 1;}#sk-container-id-3 div.sk-label:hover label.sk-toggleable__label {background-color: #d4ebff;}#sk-container-id-3 div.sk-serial::before {content: \"\";position: absolute;border-left: 1px solid gray;box-sizing: border-box;top: 0;bottom: 0;left: 50%;z-index: 0;}#sk-container-id-3 div.sk-serial {display: flex;flex-direction: column;align-items: center;background-color: white;padding-right: 0.2em;padding-left: 0.2em;position: relative;}#sk-container-id-3 div.sk-item {position: relative;z-index: 1;}#sk-container-id-3 div.sk-parallel {display: flex;align-items: stretch;justify-content: center;background-color: white;position: relative;}#sk-container-id-3 div.sk-item::before, #sk-container-id-3 div.sk-parallel-item::before {content: \"\";position: absolute;border-left: 1px solid gray;box-sizing: border-box;top: 0;bottom: 0;left: 50%;z-index: -1;}#sk-container-id-3 div.sk-parallel-item {display: flex;flex-direction: column;z-index: 1;position: relative;background-color: white;}#sk-container-id-3 div.sk-parallel-item:first-child::after {align-self: flex-end;width: 50%;}#sk-container-id-3 div.sk-parallel-item:last-child::after {align-self: flex-start;width: 50%;}#sk-container-id-3 div.sk-parallel-item:only-child::after {width: 0;}#sk-container-id-3 div.sk-dashed-wrapped {border: 1px dashed gray;margin: 0 0.4em 0.5em 0.4em;box-sizing: border-box;padding-bottom: 0.4em;background-color: white;}#sk-container-id-3 div.sk-label label {font-family: monospace;font-weight: bold;display: inline-block;line-height: 1.2em;}#sk-container-id-3 div.sk-label-container {text-align: center;}#sk-container-id-3 div.sk-container {/* jupyter's `normalize.less` sets `[hidden] { display: none; }` but bootstrap.min.css set `[hidden] { display: none !important; }` so we also need the `!important` here to be able to override the default hidden behavior on the sphinx rendered scikit-learn.org. See: https://github.com/scikit-learn/scikit-learn/issues/21755 */display: inline-block !important;position: relative;}#sk-container-id-3 div.sk-text-repr-fallback {display: none;}</style><div id=\"sk-container-id-3\" class=\"sk-top-container\"><div class=\"sk-text-repr-fallback\"><pre>RidgeClassifierCV(alphas=array([1.00000000e-03, 4.64158883e-03, 2.15443469e-02, 1.00000000e-01,\n",
       "       4.64158883e-01, 2.15443469e+00, 1.00000000e+01, 4.64158883e+01,\n",
       "       2.15443469e+02, 1.00000000e+03]))</pre><b>In a Jupyter environment, please rerun this cell to show the HTML representation or trust the notebook. <br />On GitHub, the HTML representation is unable to render, please try loading this page with nbviewer.org.</b></div><div class=\"sk-container\" hidden><div class=\"sk-item\"><div class=\"sk-estimator sk-toggleable\"><input class=\"sk-toggleable__control sk-hidden--visually\" id=\"sk-estimator-id-3\" type=\"checkbox\" checked><label for=\"sk-estimator-id-3\" class=\"sk-toggleable__label sk-toggleable__label-arrow\">RidgeClassifierCV</label><div class=\"sk-toggleable__content\"><pre>RidgeClassifierCV(alphas=array([1.00000000e-03, 4.64158883e-03, 2.15443469e-02, 1.00000000e-01,\n",
       "       4.64158883e-01, 2.15443469e+00, 1.00000000e+01, 4.64158883e+01,\n",
       "       2.15443469e+02, 1.00000000e+03]))</pre></div></div></div></div></div>"
      ],
      "text/plain": [
       "RidgeClassifierCV(alphas=array([1.00000000e-03, 4.64158883e-03, 2.15443469e-02, 1.00000000e-01,\n",
       "       4.64158883e-01, 2.15443469e+00, 1.00000000e+01, 4.64158883e+01,\n",
       "       2.15443469e+02, 1.00000000e+03]))"
      ]
     },
     "execution_count": 55,
     "metadata": {},
     "output_type": "execute_result"
    }
   ],
   "source": [
    "#%%time\n",
    "\n",
    "rocket_1 = Rocket()  # by default, MiniRocket uses ~10,000 kernels\n",
    "rocket_1.fit(X_train_uni)\n",
    "X_train_transform_ro1 = rocket_1.transform(X_train_uni)\n",
    "clf_ridge = RidgeClassifierCV(alphas=np.logspace(-3, 3, 10))\n",
    "clf_ridge.fit(X_train_transform_ro1.values, y_train)"
   ]
  },
  {
   "cell_type": "code",
   "execution_count": 56,
   "id": "132b76da",
   "metadata": {},
   "outputs": [
    {
     "name": "stdout",
     "output_type": "stream",
     "text": [
      "              precision    recall  f1-score   support\n",
      "\n",
      "           1       0.88      0.69      0.77       496\n",
      "           2       0.78      0.83      0.80       471\n",
      "           3       0.70      0.66      0.68       420\n",
      "           4       0.34      0.35      0.35       491\n",
      "           5       0.42      0.49      0.45       532\n",
      "           6       0.53      0.53      0.53       537\n",
      "\n",
      "    accuracy                           0.59      2947\n",
      "   macro avg       0.61      0.59      0.60      2947\n",
      "weighted avg       0.60      0.59      0.59      2947\n",
      "\n"
     ]
    }
   ],
   "source": [
    "X_test_transform_ro1 = rocket_1.transform(X_test_uni)\n",
    "y_pred_rocket1 = clf_ridge.predict(X_test_transform_ro1.values)\n",
    "print(classification_report(y_test, y_pred_rocket1))"
   ]
  },
  {
   "attachments": {},
   "cell_type": "markdown",
   "id": "e4d4ff70",
   "metadata": {},
   "source": [
    "### MINI-ROCKET\n"
   ]
  },
  {
   "cell_type": "code",
   "execution_count": 57,
   "id": "32033a94",
   "metadata": {},
   "outputs": [],
   "source": [
    "from sklearn.linear_model import RidgeClassifierCV\n",
    "from sktime.transformations.panel.rocket import MiniRocket"
   ]
  },
  {
   "cell_type": "code",
   "execution_count": 58,
   "id": "176951ae",
   "metadata": {},
   "outputs": [
    {
     "name": "stderr",
     "output_type": "stream",
     "text": [
      "c:\\anaconda3n\\lib\\site-packages\\sklearn\\linear_model\\_ridge.py:1178: DataConversionWarning: A column-vector y was passed when a 1d array was expected. Please change the shape of y to (n_samples, ), for example using ravel().\n",
      "  y = column_or_1d(y, warn=True)\n"
     ]
    },
    {
     "name": "stdout",
     "output_type": "stream",
     "text": [
      "CPU times: total: 6min 2s\n",
      "Wall time: 1min 29s\n"
     ]
    },
    {
     "data": {
      "text/html": [
       "<style>#sk-container-id-4 {color: black;background-color: white;}#sk-container-id-4 pre{padding: 0;}#sk-container-id-4 div.sk-toggleable {background-color: white;}#sk-container-id-4 label.sk-toggleable__label {cursor: pointer;display: block;width: 100%;margin-bottom: 0;padding: 0.3em;box-sizing: border-box;text-align: center;}#sk-container-id-4 label.sk-toggleable__label-arrow:before {content: \"▸\";float: left;margin-right: 0.25em;color: #696969;}#sk-container-id-4 label.sk-toggleable__label-arrow:hover:before {color: black;}#sk-container-id-4 div.sk-estimator:hover label.sk-toggleable__label-arrow:before {color: black;}#sk-container-id-4 div.sk-toggleable__content {max-height: 0;max-width: 0;overflow: hidden;text-align: left;background-color: #f0f8ff;}#sk-container-id-4 div.sk-toggleable__content pre {margin: 0.2em;color: black;border-radius: 0.25em;background-color: #f0f8ff;}#sk-container-id-4 input.sk-toggleable__control:checked~div.sk-toggleable__content {max-height: 200px;max-width: 100%;overflow: auto;}#sk-container-id-4 input.sk-toggleable__control:checked~label.sk-toggleable__label-arrow:before {content: \"▾\";}#sk-container-id-4 div.sk-estimator input.sk-toggleable__control:checked~label.sk-toggleable__label {background-color: #d4ebff;}#sk-container-id-4 div.sk-label input.sk-toggleable__control:checked~label.sk-toggleable__label {background-color: #d4ebff;}#sk-container-id-4 input.sk-hidden--visually {border: 0;clip: rect(1px 1px 1px 1px);clip: rect(1px, 1px, 1px, 1px);height: 1px;margin: -1px;overflow: hidden;padding: 0;position: absolute;width: 1px;}#sk-container-id-4 div.sk-estimator {font-family: monospace;background-color: #f0f8ff;border: 1px dotted black;border-radius: 0.25em;box-sizing: border-box;margin-bottom: 0.5em;}#sk-container-id-4 div.sk-estimator:hover {background-color: #d4ebff;}#sk-container-id-4 div.sk-parallel-item::after {content: \"\";width: 100%;border-bottom: 1px solid gray;flex-grow: 1;}#sk-container-id-4 div.sk-label:hover label.sk-toggleable__label {background-color: #d4ebff;}#sk-container-id-4 div.sk-serial::before {content: \"\";position: absolute;border-left: 1px solid gray;box-sizing: border-box;top: 0;bottom: 0;left: 50%;z-index: 0;}#sk-container-id-4 div.sk-serial {display: flex;flex-direction: column;align-items: center;background-color: white;padding-right: 0.2em;padding-left: 0.2em;position: relative;}#sk-container-id-4 div.sk-item {position: relative;z-index: 1;}#sk-container-id-4 div.sk-parallel {display: flex;align-items: stretch;justify-content: center;background-color: white;position: relative;}#sk-container-id-4 div.sk-item::before, #sk-container-id-4 div.sk-parallel-item::before {content: \"\";position: absolute;border-left: 1px solid gray;box-sizing: border-box;top: 0;bottom: 0;left: 50%;z-index: -1;}#sk-container-id-4 div.sk-parallel-item {display: flex;flex-direction: column;z-index: 1;position: relative;background-color: white;}#sk-container-id-4 div.sk-parallel-item:first-child::after {align-self: flex-end;width: 50%;}#sk-container-id-4 div.sk-parallel-item:last-child::after {align-self: flex-start;width: 50%;}#sk-container-id-4 div.sk-parallel-item:only-child::after {width: 0;}#sk-container-id-4 div.sk-dashed-wrapped {border: 1px dashed gray;margin: 0 0.4em 0.5em 0.4em;box-sizing: border-box;padding-bottom: 0.4em;background-color: white;}#sk-container-id-4 div.sk-label label {font-family: monospace;font-weight: bold;display: inline-block;line-height: 1.2em;}#sk-container-id-4 div.sk-label-container {text-align: center;}#sk-container-id-4 div.sk-container {/* jupyter's `normalize.less` sets `[hidden] { display: none; }` but bootstrap.min.css set `[hidden] { display: none !important; }` so we also need the `!important` here to be able to override the default hidden behavior on the sphinx rendered scikit-learn.org. See: https://github.com/scikit-learn/scikit-learn/issues/21755 */display: inline-block !important;position: relative;}#sk-container-id-4 div.sk-text-repr-fallback {display: none;}</style><div id=\"sk-container-id-4\" class=\"sk-top-container\"><div class=\"sk-text-repr-fallback\"><pre>RidgeClassifierCV(alphas=array([1.00000000e-03, 4.64158883e-03, 2.15443469e-02, 1.00000000e-01,\n",
       "       4.64158883e-01, 2.15443469e+00, 1.00000000e+01, 4.64158883e+01,\n",
       "       2.15443469e+02, 1.00000000e+03]))</pre><b>In a Jupyter environment, please rerun this cell to show the HTML representation or trust the notebook. <br />On GitHub, the HTML representation is unable to render, please try loading this page with nbviewer.org.</b></div><div class=\"sk-container\" hidden><div class=\"sk-item\"><div class=\"sk-estimator sk-toggleable\"><input class=\"sk-toggleable__control sk-hidden--visually\" id=\"sk-estimator-id-4\" type=\"checkbox\" checked><label for=\"sk-estimator-id-4\" class=\"sk-toggleable__label sk-toggleable__label-arrow\">RidgeClassifierCV</label><div class=\"sk-toggleable__content\"><pre>RidgeClassifierCV(alphas=array([1.00000000e-03, 4.64158883e-03, 2.15443469e-02, 1.00000000e-01,\n",
       "       4.64158883e-01, 2.15443469e+00, 1.00000000e+01, 4.64158883e+01,\n",
       "       2.15443469e+02, 1.00000000e+03]))</pre></div></div></div></div></div>"
      ],
      "text/plain": [
       "RidgeClassifierCV(alphas=array([1.00000000e-03, 4.64158883e-03, 2.15443469e-02, 1.00000000e-01,\n",
       "       4.64158883e-01, 2.15443469e+00, 1.00000000e+01, 4.64158883e+01,\n",
       "       2.15443469e+02, 1.00000000e+03]))"
      ]
     },
     "execution_count": 58,
     "metadata": {},
     "output_type": "execute_result"
    }
   ],
   "source": [
    "%%time\n",
    "minirocket_mini1 = MiniRocket()  # by default, MiniRocket uses ~10,000 kernels\n",
    "minirocket_mini1.fit(X_train_uni)\n",
    "X_train_transform_min1 = minirocket_mini1.transform(X_train_uni)\n",
    "clf_ridge_min = RidgeClassifierCV(alphas=np.logspace(-3, 3, 10))\n",
    "clf_ridge_min.fit(X_train_transform_min1.values, y_train)"
   ]
  },
  {
   "cell_type": "code",
   "execution_count": 59,
   "id": "69f15194",
   "metadata": {},
   "outputs": [
    {
     "name": "stdout",
     "output_type": "stream",
     "text": [
      "              precision    recall  f1-score   support\n",
      "\n",
      "           1       0.87      0.67      0.76       496\n",
      "           2       0.82      0.90      0.86       471\n",
      "           3       0.69      0.73      0.71       420\n",
      "           4       0.37      0.36      0.36       491\n",
      "           5       0.46      0.52      0.49       532\n",
      "           6       0.58      0.57      0.57       537\n",
      "\n",
      "    accuracy                           0.62      2947\n",
      "   macro avg       0.63      0.63      0.63      2947\n",
      "weighted avg       0.63      0.62      0.62      2947\n",
      "\n"
     ]
    }
   ],
   "source": [
    "X_test_transform_min1 = minirocket_mini1.transform(X_test_uni)\n",
    "y_pred_min1 = clf_ridge_min.predict(X_test_transform_min1.values)\n",
    "print(classification_report(y_test, y_pred_min1))"
   ]
  },
  {
   "attachments": {},
   "cell_type": "markdown",
   "id": "b6baab55",
   "metadata": {},
   "source": [
    "### Canonical Interval Forest (CIF)"
   ]
  },
  {
   "cell_type": "code",
   "execution_count": 60,
   "id": "75d7d7f7",
   "metadata": {},
   "outputs": [],
   "source": [
    "from sktime.classification.interval_based import CanonicalIntervalForest"
   ]
  },
  {
   "cell_type": "code",
   "execution_count": 65,
   "id": "62ab111a",
   "metadata": {},
   "outputs": [
    {
     "data": {
      "text/html": [
       "<div>\n",
       "<style scoped>\n",
       "    .dataframe tbody tr th:only-of-type {\n",
       "        vertical-align: middle;\n",
       "    }\n",
       "\n",
       "    .dataframe tbody tr th {\n",
       "        vertical-align: top;\n",
       "    }\n",
       "\n",
       "    .dataframe thead th {\n",
       "        text-align: right;\n",
       "    }\n",
       "</style>\n",
       "<table border=\"1\" class=\"dataframe\">\n",
       "  <thead>\n",
       "    <tr style=\"text-align: right;\">\n",
       "      <th></th>\n",
       "      <th>0</th>\n",
       "    </tr>\n",
       "  </thead>\n",
       "  <tbody>\n",
       "    <tr>\n",
       "      <th>0</th>\n",
       "      <td>5</td>\n",
       "    </tr>\n",
       "    <tr>\n",
       "      <th>1</th>\n",
       "      <td>5</td>\n",
       "    </tr>\n",
       "    <tr>\n",
       "      <th>2</th>\n",
       "      <td>5</td>\n",
       "    </tr>\n",
       "    <tr>\n",
       "      <th>3</th>\n",
       "      <td>5</td>\n",
       "    </tr>\n",
       "    <tr>\n",
       "      <th>4</th>\n",
       "      <td>5</td>\n",
       "    </tr>\n",
       "    <tr>\n",
       "      <th>...</th>\n",
       "      <td>...</td>\n",
       "    </tr>\n",
       "    <tr>\n",
       "      <th>7347</th>\n",
       "      <td>2</td>\n",
       "    </tr>\n",
       "    <tr>\n",
       "      <th>7348</th>\n",
       "      <td>2</td>\n",
       "    </tr>\n",
       "    <tr>\n",
       "      <th>7349</th>\n",
       "      <td>2</td>\n",
       "    </tr>\n",
       "    <tr>\n",
       "      <th>7350</th>\n",
       "      <td>2</td>\n",
       "    </tr>\n",
       "    <tr>\n",
       "      <th>7351</th>\n",
       "      <td>2</td>\n",
       "    </tr>\n",
       "  </tbody>\n",
       "</table>\n",
       "<p>7352 rows × 1 columns</p>\n",
       "</div>"
      ],
      "text/plain": [
       "      0\n",
       "0     5\n",
       "1     5\n",
       "2     5\n",
       "3     5\n",
       "4     5\n",
       "...  ..\n",
       "7347  2\n",
       "7348  2\n",
       "7349  2\n",
       "7350  2\n",
       "7351  2\n",
       "\n",
       "[7352 rows x 1 columns]"
      ]
     },
     "execution_count": 65,
     "metadata": {},
     "output_type": "execute_result"
    }
   ],
   "source": [
    "y_train"
   ]
  },
  {
   "cell_type": "code",
   "execution_count": 66,
   "id": "4aa036ae",
   "metadata": {},
   "outputs": [
    {
     "name": "stdout",
     "output_type": "stream",
     "text": [
      "CPU times: total: 24min 39s\n",
      "Wall time: 24min 41s\n"
     ]
    },
    {
     "data": {
      "text/html": [
       "<style>#sk-87ef0b12-c922-4d1c-a99f-3604ab389c29 {color: black;background-color: white;}#sk-87ef0b12-c922-4d1c-a99f-3604ab389c29 pre{padding: 0;}#sk-87ef0b12-c922-4d1c-a99f-3604ab389c29 div.sk-toggleable {background-color: white;}#sk-87ef0b12-c922-4d1c-a99f-3604ab389c29 label.sk-toggleable__label {cursor: pointer;display: block;width: 100%;margin-bottom: 0;padding: 0.3em;box-sizing: border-box;text-align: center;}#sk-87ef0b12-c922-4d1c-a99f-3604ab389c29 label.sk-toggleable__label-arrow:before {content: \"▸\";float: left;margin-right: 0.25em;color: #696969;}#sk-87ef0b12-c922-4d1c-a99f-3604ab389c29 label.sk-toggleable__label-arrow:hover:before {color: black;}#sk-87ef0b12-c922-4d1c-a99f-3604ab389c29 div.sk-estimator:hover label.sk-toggleable__label-arrow:before {color: black;}#sk-87ef0b12-c922-4d1c-a99f-3604ab389c29 div.sk-toggleable__content {max-height: 0;max-width: 0;overflow: hidden;text-align: left;background-color: #f0f8ff;}#sk-87ef0b12-c922-4d1c-a99f-3604ab389c29 div.sk-toggleable__content pre {margin: 0.2em;color: black;border-radius: 0.25em;background-color: #f0f8ff;}#sk-87ef0b12-c922-4d1c-a99f-3604ab389c29 input.sk-toggleable__control:checked~div.sk-toggleable__content {max-height: 200px;max-width: 100%;overflow: auto;}#sk-87ef0b12-c922-4d1c-a99f-3604ab389c29 input.sk-toggleable__control:checked~label.sk-toggleable__label-arrow:before {content: \"▾\";}#sk-87ef0b12-c922-4d1c-a99f-3604ab389c29 div.sk-estimator input.sk-toggleable__control:checked~label.sk-toggleable__label {background-color: #d4ebff;}#sk-87ef0b12-c922-4d1c-a99f-3604ab389c29 div.sk-label input.sk-toggleable__control:checked~label.sk-toggleable__label {background-color: #d4ebff;}#sk-87ef0b12-c922-4d1c-a99f-3604ab389c29 input.sk-hidden--visually {border: 0;clip: rect(1px 1px 1px 1px);clip: rect(1px, 1px, 1px, 1px);height: 1px;margin: -1px;overflow: hidden;padding: 0;position: absolute;width: 1px;}#sk-87ef0b12-c922-4d1c-a99f-3604ab389c29 div.sk-estimator {font-family: monospace;background-color: #f0f8ff;border: 1px dotted black;border-radius: 0.25em;box-sizing: border-box;margin-bottom: 0.5em;}#sk-87ef0b12-c922-4d1c-a99f-3604ab389c29 div.sk-estimator:hover {background-color: #d4ebff;}#sk-87ef0b12-c922-4d1c-a99f-3604ab389c29 div.sk-parallel-item::after {content: \"\";width: 100%;border-bottom: 1px solid gray;flex-grow: 1;}#sk-87ef0b12-c922-4d1c-a99f-3604ab389c29 div.sk-label:hover label.sk-toggleable__label {background-color: #d4ebff;}#sk-87ef0b12-c922-4d1c-a99f-3604ab389c29 div.sk-serial::before {content: \"\";position: absolute;border-left: 1px solid gray;box-sizing: border-box;top: 2em;bottom: 0;left: 50%;}#sk-87ef0b12-c922-4d1c-a99f-3604ab389c29 div.sk-serial {display: flex;flex-direction: column;align-items: center;background-color: white;padding-right: 0.2em;padding-left: 0.2em;}#sk-87ef0b12-c922-4d1c-a99f-3604ab389c29 div.sk-item {z-index: 1;}#sk-87ef0b12-c922-4d1c-a99f-3604ab389c29 div.sk-parallel {display: flex;align-items: stretch;justify-content: center;background-color: white;}#sk-87ef0b12-c922-4d1c-a99f-3604ab389c29 div.sk-parallel::before {content: \"\";position: absolute;border-left: 1px solid gray;box-sizing: border-box;top: 2em;bottom: 0;left: 50%;}#sk-87ef0b12-c922-4d1c-a99f-3604ab389c29 div.sk-parallel-item {display: flex;flex-direction: column;position: relative;background-color: white;}#sk-87ef0b12-c922-4d1c-a99f-3604ab389c29 div.sk-parallel-item:first-child::after {align-self: flex-end;width: 50%;}#sk-87ef0b12-c922-4d1c-a99f-3604ab389c29 div.sk-parallel-item:last-child::after {align-self: flex-start;width: 50%;}#sk-87ef0b12-c922-4d1c-a99f-3604ab389c29 div.sk-parallel-item:only-child::after {width: 0;}#sk-87ef0b12-c922-4d1c-a99f-3604ab389c29 div.sk-dashed-wrapped {border: 1px dashed gray;margin: 0 0.4em 0.5em 0.4em;box-sizing: border-box;padding-bottom: 0.4em;background-color: white;position: relative;}#sk-87ef0b12-c922-4d1c-a99f-3604ab389c29 div.sk-label label {font-family: monospace;font-weight: bold;background-color: white;display: inline-block;line-height: 1.2em;}#sk-87ef0b12-c922-4d1c-a99f-3604ab389c29 div.sk-label-container {position: relative;z-index: 2;text-align: center;}#sk-87ef0b12-c922-4d1c-a99f-3604ab389c29 div.sk-container {/* jupyter's `normalize.less` sets `[hidden] { display: none; }` but bootstrap.min.css set `[hidden] { display: none !important; }` so we also need the `!important` here to be able to override the default hidden behavior on the sphinx rendered scikit-learn.org. See: https://github.com/scikit-learn/scikit-learn/issues/21755 */display: inline-block !important;position: relative;}#sk-87ef0b12-c922-4d1c-a99f-3604ab389c29 div.sk-text-repr-fallback {display: none;}</style><div id='sk-87ef0b12-c922-4d1c-a99f-3604ab389c29' class=\"sk-top-container\"><div class=\"sk-text-repr-fallback\"><pre>CanonicalIntervalForest(n_estimators=30)</pre><b>Please rerun this cell to show the HTML repr or trust the notebook.</b></div><div class=\"sk-container\" hidden><div class='sk-item'><div class=\"sk-estimator sk-toggleable\"><input class=\"sk-toggleable__control sk-hidden--visually\" id=UUID('e61d2c2f-2e32-4a15-a240-ec57f4638d29') type=\"checkbox\" checked><label for=UUID('e61d2c2f-2e32-4a15-a240-ec57f4638d29') class='sk-toggleable__label sk-toggleable__label-arrow'>CanonicalIntervalForest</label><div class=\"sk-toggleable__content\"><pre>CanonicalIntervalForest(n_estimators=30)</pre></div></div></div></div></div>"
      ],
      "text/plain": [
       "CanonicalIntervalForest(n_estimators=30)"
      ]
     },
     "execution_count": 66,
     "metadata": {},
     "output_type": "execute_result"
    }
   ],
   "source": [
    "%%time\n",
    "clf_canon = CanonicalIntervalForest(n_estimators=30)\n",
    "clf_canon.fit(X_train_uni, np.ravel(y_train))"
   ]
  },
  {
   "cell_type": "code",
   "execution_count": 68,
   "id": "6535cf29",
   "metadata": {},
   "outputs": [
    {
     "name": "stdout",
     "output_type": "stream",
     "text": [
      "              precision    recall  f1-score   support\n",
      "\n",
      "           1       0.58      0.74      0.65       496\n",
      "           2       0.73      0.65      0.69       471\n",
      "           3       0.48      0.40      0.43       420\n",
      "           4       0.42      0.32      0.37       491\n",
      "           5       0.42      0.47      0.44       532\n",
      "           6       0.53      0.56      0.54       537\n",
      "\n",
      "    accuracy                           0.53      2947\n",
      "   macro avg       0.53      0.52      0.52      2947\n",
      "weighted avg       0.52      0.53      0.52      2947\n",
      "\n"
     ]
    }
   ],
   "source": [
    "y_pred_canon = clf_canon.predict(X_test_uni)\n",
    "print(classification_report(y_test, y_pred_canon))"
   ]
  },
  {
   "attachments": {},
   "cell_type": "markdown",
   "id": "8d05105e",
   "metadata": {},
   "source": [
    "## MULTIVARIATE"
   ]
  },
  {
   "cell_type": "code",
   "execution_count": 69,
   "id": "1b7f1d9e",
   "metadata": {},
   "outputs": [],
   "source": [
    "X_train=body_gyro_x_train.copy(deep=True)\n",
    "Y_train=body_gyro_y_train.copy(deep=True)\n",
    "Z_train=body_gyro_z_train.copy(deep=True)\n",
    "\n",
    "X_test=body_gyro_x_test.copy(deep=True)\n",
    "Y_test=body_gyro_y_test.copy(deep=True)\n",
    "Z_test=body_gyro_z_test.copy(deep=True)"
   ]
  },
  {
   "cell_type": "code",
   "execution_count": 70,
   "id": "a7eeee63",
   "metadata": {},
   "outputs": [],
   "source": [
    "X_train_norm= scaler.fit_transform(X_train).reshape(X_train.shape[0], X_train.shape[1])\n",
    "X_test_norm= scaler.fit_transform(X_test).reshape(X_test.shape[0], X_test.shape[1])\n",
    "\n",
    "Y_train_norm= scaler.fit_transform(Y_train).reshape(Y_train.shape[0], Y_train.shape[1])\n",
    "Y_test_norm= scaler.fit_transform(Y_test).reshape(Y_test.shape[0], Y_test.shape[1])\n",
    "\n",
    "Z_train_norm= scaler.fit_transform(Z_train).reshape(Z_train.shape[0], Z_train.shape[1])\n",
    "Z_test_norm= scaler.fit_transform(Z_test).reshape(Z_test.shape[0], Z_test.shape[1])"
   ]
  },
  {
   "cell_type": "code",
   "execution_count": 71,
   "id": "36e4fa9a",
   "metadata": {},
   "outputs": [],
   "source": [
    "X_train_uni=from_3d_numpy_to_nested(X_train_norm.reshape(7352,1,128))\n",
    "Y_train_uni=from_3d_numpy_to_nested(Y_train_norm.reshape(7352,1,128))\n",
    "Z_train_uni=from_3d_numpy_to_nested(Z_train_norm.reshape(7352,1,128))\n",
    "\n",
    "\n",
    "X_test_uni=from_3d_numpy_to_nested(X_test_norm.reshape(2947,1,128))\n",
    "Y_test_uni=from_3d_numpy_to_nested(Y_test_norm.reshape(2947,1,128))\n",
    "Z_test_uni=from_3d_numpy_to_nested(Z_test_norm.reshape(2947,1,128))"
   ]
  },
  {
   "cell_type": "code",
   "execution_count": 72,
   "id": "2fbc47af",
   "metadata": {},
   "outputs": [],
   "source": [
    "XY_train_uni=pd.merge(left=X_train_uni, right=Y_train_uni,right_index=True, left_index=True)"
   ]
  },
  {
   "cell_type": "code",
   "execution_count": 73,
   "id": "102f72fb",
   "metadata": {},
   "outputs": [],
   "source": [
    "XYZ_train_uni=pd.merge(left=XY_train_uni, right=Z_train_uni,right_index=True, left_index=True)"
   ]
  },
  {
   "cell_type": "code",
   "execution_count": 74,
   "id": "4d6823f8",
   "metadata": {},
   "outputs": [
    {
     "data": {
      "text/plain": [
       "Index(['var_0_x', 'var_0_y', 'var_0'], dtype='object')"
      ]
     },
     "execution_count": 74,
     "metadata": {},
     "output_type": "execute_result"
    }
   ],
   "source": [
    "XYZ_train_uni.columns"
   ]
  },
  {
   "cell_type": "code",
   "execution_count": 75,
   "id": "c861cff0",
   "metadata": {},
   "outputs": [],
   "source": [
    "XY_test_uni=pd.merge(left=X_test_uni, right=Y_test_uni,right_index=True, left_index=True)"
   ]
  },
  {
   "cell_type": "code",
   "execution_count": 76,
   "id": "fd587bff",
   "metadata": {},
   "outputs": [],
   "source": [
    "XYZ_test_uni=pd.merge(left=XY_test_uni, right=Z_test_uni,right_index=True, left_index=True)"
   ]
  },
  {
   "cell_type": "code",
   "execution_count": 77,
   "id": "f256f506",
   "metadata": {},
   "outputs": [
    {
     "data": {
      "image/png": "[encoded data removed]",
      "text/plain": [
       "<Figure size 1152x288 with 1 Axes>"
      ]
     },
     "metadata": {
      "needs_background": "light"
     },
     "output_type": "display_data"
    },
    {
     "data": {
      "image/png": "[encoded data removed]",
      "text/plain": [
       "<Figure size 1152x288 with 1 Axes>"
      ]
     },
     "metadata": {
      "needs_background": "light"
     },
     "output_type": "display_data"
    },
    {
     "data": {
      "image/png": "[encoded data removed]",
      "text/plain": [
       "<Figure size 1152x288 with 1 Axes>"
      ]
     },
     "metadata": {
      "needs_background": "light"
     },
     "output_type": "display_data"
    }
   ],
   "source": [
    "plot_series(XYZ_train_uni['var_0_x'][0])\n",
    "plot_series(XYZ_train_uni['var_0_y'][0])\n",
    "plot_series(XYZ_train_uni['var_0'][0])\n",
    "plt.show()"
   ]
  },
  {
   "attachments": {},
   "cell_type": "markdown",
   "id": "a688879c",
   "metadata": {},
   "source": [
    "### 1-NN with DTW (baseline)"
   ]
  },
  {
   "cell_type": "code",
   "execution_count": 78,
   "id": "65f47525",
   "metadata": {},
   "outputs": [],
   "source": [
    "from sktime.classification.distance_based import KNeighborsTimeSeriesClassifier"
   ]
  },
  {
   "cell_type": "code",
   "execution_count": 79,
   "id": "d44e3dd7",
   "metadata": {},
   "outputs": [
    {
     "name": "stdout",
     "output_type": "stream",
     "text": [
      "CPU times: total: 17.9 s\n",
      "Wall time: 18 s\n"
     ]
    },
    {
     "data": {
      "text/html": [
       "<style>#sk-4a83796f-60f8-4be5-a814-51c6a0f04721 {color: black;background-color: white;}#sk-4a83796f-60f8-4be5-a814-51c6a0f04721 pre{padding: 0;}#sk-4a83796f-60f8-4be5-a814-51c6a0f04721 div.sk-toggleable {background-color: white;}#sk-4a83796f-60f8-4be5-a814-51c6a0f04721 label.sk-toggleable__label {cursor: pointer;display: block;width: 100%;margin-bottom: 0;padding: 0.3em;box-sizing: border-box;text-align: center;}#sk-4a83796f-60f8-4be5-a814-51c6a0f04721 label.sk-toggleable__label-arrow:before {content: \"▸\";float: left;margin-right: 0.25em;color: #696969;}#sk-4a83796f-60f8-4be5-a814-51c6a0f04721 label.sk-toggleable__label-arrow:hover:before {color: black;}#sk-4a83796f-60f8-4be5-a814-51c6a0f04721 div.sk-estimator:hover label.sk-toggleable__label-arrow:before {color: black;}#sk-4a83796f-60f8-4be5-a814-51c6a0f04721 div.sk-toggleable__content {max-height: 0;max-width: 0;overflow: hidden;text-align: left;background-color: #f0f8ff;}#sk-4a83796f-60f8-4be5-a814-51c6a0f04721 div.sk-toggleable__content pre {margin: 0.2em;color: black;border-radius: 0.25em;background-color: #f0f8ff;}#sk-4a83796f-60f8-4be5-a814-51c6a0f04721 input.sk-toggleable__control:checked~div.sk-toggleable__content {max-height: 200px;max-width: 100%;overflow: auto;}#sk-4a83796f-60f8-4be5-a814-51c6a0f04721 input.sk-toggleable__control:checked~label.sk-toggleable__label-arrow:before {content: \"▾\";}#sk-4a83796f-60f8-4be5-a814-51c6a0f04721 div.sk-estimator input.sk-toggleable__control:checked~label.sk-toggleable__label {background-color: #d4ebff;}#sk-4a83796f-60f8-4be5-a814-51c6a0f04721 div.sk-label input.sk-toggleable__control:checked~label.sk-toggleable__label {background-color: #d4ebff;}#sk-4a83796f-60f8-4be5-a814-51c6a0f04721 input.sk-hidden--visually {border: 0;clip: rect(1px 1px 1px 1px);clip: rect(1px, 1px, 1px, 1px);height: 1px;margin: -1px;overflow: hidden;padding: 0;position: absolute;width: 1px;}#sk-4a83796f-60f8-4be5-a814-51c6a0f04721 div.sk-estimator {font-family: monospace;background-color: #f0f8ff;border: 1px dotted black;border-radius: 0.25em;box-sizing: border-box;margin-bottom: 0.5em;}#sk-4a83796f-60f8-4be5-a814-51c6a0f04721 div.sk-estimator:hover {background-color: #d4ebff;}#sk-4a83796f-60f8-4be5-a814-51c6a0f04721 div.sk-parallel-item::after {content: \"\";width: 100%;border-bottom: 1px solid gray;flex-grow: 1;}#sk-4a83796f-60f8-4be5-a814-51c6a0f04721 div.sk-label:hover label.sk-toggleable__label {background-color: #d4ebff;}#sk-4a83796f-60f8-4be5-a814-51c6a0f04721 div.sk-serial::before {content: \"\";position: absolute;border-left: 1px solid gray;box-sizing: border-box;top: 2em;bottom: 0;left: 50%;}#sk-4a83796f-60f8-4be5-a814-51c6a0f04721 div.sk-serial {display: flex;flex-direction: column;align-items: center;background-color: white;padding-right: 0.2em;padding-left: 0.2em;}#sk-4a83796f-60f8-4be5-a814-51c6a0f04721 div.sk-item {z-index: 1;}#sk-4a83796f-60f8-4be5-a814-51c6a0f04721 div.sk-parallel {display: flex;align-items: stretch;justify-content: center;background-color: white;}#sk-4a83796f-60f8-4be5-a814-51c6a0f04721 div.sk-parallel::before {content: \"\";position: absolute;border-left: 1px solid gray;box-sizing: border-box;top: 2em;bottom: 0;left: 50%;}#sk-4a83796f-60f8-4be5-a814-51c6a0f04721 div.sk-parallel-item {display: flex;flex-direction: column;position: relative;background-color: white;}#sk-4a83796f-60f8-4be5-a814-51c6a0f04721 div.sk-parallel-item:first-child::after {align-self: flex-end;width: 50%;}#sk-4a83796f-60f8-4be5-a814-51c6a0f04721 div.sk-parallel-item:last-child::after {align-self: flex-start;width: 50%;}#sk-4a83796f-60f8-4be5-a814-51c6a0f04721 div.sk-parallel-item:only-child::after {width: 0;}#sk-4a83796f-60f8-4be5-a814-51c6a0f04721 div.sk-dashed-wrapped {border: 1px dashed gray;margin: 0 0.4em 0.5em 0.4em;box-sizing: border-box;padding-bottom: 0.4em;background-color: white;position: relative;}#sk-4a83796f-60f8-4be5-a814-51c6a0f04721 div.sk-label label {font-family: monospace;font-weight: bold;background-color: white;display: inline-block;line-height: 1.2em;}#sk-4a83796f-60f8-4be5-a814-51c6a0f04721 div.sk-label-container {position: relative;z-index: 2;text-align: center;}#sk-4a83796f-60f8-4be5-a814-51c6a0f04721 div.sk-container {/* jupyter's `normalize.less` sets `[hidden] { display: none; }` but bootstrap.min.css set `[hidden] { display: none !important; }` so we also need the `!important` here to be able to override the default hidden behavior on the sphinx rendered scikit-learn.org. See: https://github.com/scikit-learn/scikit-learn/issues/21755 */display: inline-block !important;position: relative;}#sk-4a83796f-60f8-4be5-a814-51c6a0f04721 div.sk-text-repr-fallback {display: none;}</style><div id='sk-4a83796f-60f8-4be5-a814-51c6a0f04721' class=\"sk-top-container\"><div class=\"sk-text-repr-fallback\"><pre>KNeighborsTimeSeriesClassifier()</pre><b>Please rerun this cell to show the HTML repr or trust the notebook.</b></div><div class=\"sk-container\" hidden><div class='sk-item'><div class=\"sk-estimator sk-toggleable\"><input class=\"sk-toggleable__control sk-hidden--visually\" id=UUID('bd40f1f7-d095-440b-9760-fbe4aaff3353') type=\"checkbox\" checked><label for=UUID('bd40f1f7-d095-440b-9760-fbe4aaff3353') class='sk-toggleable__label sk-toggleable__label-arrow'>KNeighborsTimeSeriesClassifier</label><div class=\"sk-toggleable__content\"><pre>KNeighborsTimeSeriesClassifier()</pre></div></div></div></div></div>"
      ],
      "text/plain": [
       "KNeighborsTimeSeriesClassifier()"
      ]
     },
     "execution_count": 79,
     "metadata": {},
     "output_type": "execute_result"
    }
   ],
   "source": [
    "%%time\n",
    "clf_multi = KNeighborsTimeSeriesClassifier()\n",
    "clf_multi.fit(XYZ_train_uni, np.ravel(y_train))"
   ]
  },
  {
   "cell_type": "code",
   "execution_count": 80,
   "id": "393f5d66",
   "metadata": {},
   "outputs": [
    {
     "name": "stdout",
     "output_type": "stream",
     "text": [
      "              precision    recall  f1-score   support\n",
      "\n",
      "           1       0.89      0.91      0.90       496\n",
      "           2       0.73      0.90      0.81       471\n",
      "           3       0.92      0.82      0.87       420\n",
      "           4       0.45      0.37      0.40       491\n",
      "           5       0.49      0.40      0.44       532\n",
      "           6       0.54      0.65      0.59       537\n",
      "\n",
      "    accuracy                           0.67      2947\n",
      "   macro avg       0.67      0.67      0.67      2947\n",
      "weighted avg       0.66      0.67      0.66      2947\n",
      "\n",
      "CPU times: total: 1h 7min 4s\n",
      "Wall time: 1h 7min 9s\n"
     ]
    }
   ],
   "source": [
    "%%time\n",
    "y_pred_2 = clf_multi.predict(XYZ_test_uni)\n",
    "print(classification_report(y_test, y_pred_2))"
   ]
  },
  {
   "attachments": {},
   "cell_type": "markdown",
   "id": "f229136c",
   "metadata": {},
   "source": [
    "### Rocket"
   ]
  },
  {
   "cell_type": "code",
   "execution_count": 81,
   "id": "1a4c0c18",
   "metadata": {},
   "outputs": [],
   "source": [
    "from sklearn.linear_model import RidgeClassifierCV\n",
    "from sktime.transformations.panel.rocket import Rocket"
   ]
  },
  {
   "cell_type": "code",
   "execution_count": 82,
   "id": "0c00d622",
   "metadata": {},
   "outputs": [
    {
     "name": "stderr",
     "output_type": "stream",
     "text": [
      "c:\\anaconda3n\\lib\\site-packages\\sklearn\\linear_model\\_ridge.py:1178: DataConversionWarning: A column-vector y was passed when a 1d array was expected. Please change the shape of y to (n_samples, ), for example using ravel().\n",
      "  y = column_or_1d(y, warn=True)\n",
      "c:\\anaconda3n\\lib\\site-packages\\sklearn\\linear_model\\_base.py:141: FutureWarning: 'normalize' was deprecated in version 1.0 and will be removed in 1.2.\n",
      "If you wish to scale the data, use Pipeline with a StandardScaler in a preprocessing stage. To reproduce the previous behavior:\n",
      "\n",
      "from sklearn.pipeline import make_pipeline\n",
      "\n",
      "model = make_pipeline(StandardScaler(with_mean=False), _RidgeGCV())\n",
      "\n",
      "If you wish to pass a sample_weight parameter, you need to pass it as a fit parameter to each step of the pipeline as follows:\n",
      "\n",
      "kwargs = {s[0] + '__sample_weight': sample_weight for s in model.steps}\n",
      "model.fit(X, y, **kwargs)\n",
      "\n",
      "Set parameter alphas to: original_alphas * n_samples. \n",
      "  warnings.warn(\n"
     ]
    },
    {
     "data": {
      "text/html": [
       "<style>#sk-container-id-5 {color: black;background-color: white;}#sk-container-id-5 pre{padding: 0;}#sk-container-id-5 div.sk-toggleable {background-color: white;}#sk-container-id-5 label.sk-toggleable__label {cursor: pointer;display: block;width: 100%;margin-bottom: 0;padding: 0.3em;box-sizing: border-box;text-align: center;}#sk-container-id-5 label.sk-toggleable__label-arrow:before {content: \"▸\";float: left;margin-right: 0.25em;color: #696969;}#sk-container-id-5 label.sk-toggleable__label-arrow:hover:before {color: black;}#sk-container-id-5 div.sk-estimator:hover label.sk-toggleable__label-arrow:before {color: black;}#sk-container-id-5 div.sk-toggleable__content {max-height: 0;max-width: 0;overflow: hidden;text-align: left;background-color: #f0f8ff;}#sk-container-id-5 div.sk-toggleable__content pre {margin: 0.2em;color: black;border-radius: 0.25em;background-color: #f0f8ff;}#sk-container-id-5 input.sk-toggleable__control:checked~div.sk-toggleable__content {max-height: 200px;max-width: 100%;overflow: auto;}#sk-container-id-5 input.sk-toggleable__control:checked~label.sk-toggleable__label-arrow:before {content: \"▾\";}#sk-container-id-5 div.sk-estimator input.sk-toggleable__control:checked~label.sk-toggleable__label {background-color: #d4ebff;}#sk-container-id-5 div.sk-label input.sk-toggleable__control:checked~label.sk-toggleable__label {background-color: #d4ebff;}#sk-container-id-5 input.sk-hidden--visually {border: 0;clip: rect(1px 1px 1px 1px);clip: rect(1px, 1px, 1px, 1px);height: 1px;margin: -1px;overflow: hidden;padding: 0;position: absolute;width: 1px;}#sk-container-id-5 div.sk-estimator {font-family: monospace;background-color: #f0f8ff;border: 1px dotted black;border-radius: 0.25em;box-sizing: border-box;margin-bottom: 0.5em;}#sk-container-id-5 div.sk-estimator:hover {background-color: #d4ebff;}#sk-container-id-5 div.sk-parallel-item::after {content: \"\";width: 100%;border-bottom: 1px solid gray;flex-grow: 1;}#sk-container-id-5 div.sk-label:hover label.sk-toggleable__label {background-color: #d4ebff;}#sk-container-id-5 div.sk-serial::before {content: \"\";position: absolute;border-left: 1px solid gray;box-sizing: border-box;top: 0;bottom: 0;left: 50%;z-index: 0;}#sk-container-id-5 div.sk-serial {display: flex;flex-direction: column;align-items: center;background-color: white;padding-right: 0.2em;padding-left: 0.2em;position: relative;}#sk-container-id-5 div.sk-item {position: relative;z-index: 1;}#sk-container-id-5 div.sk-parallel {display: flex;align-items: stretch;justify-content: center;background-color: white;position: relative;}#sk-container-id-5 div.sk-item::before, #sk-container-id-5 div.sk-parallel-item::before {content: \"\";position: absolute;border-left: 1px solid gray;box-sizing: border-box;top: 0;bottom: 0;left: 50%;z-index: -1;}#sk-container-id-5 div.sk-parallel-item {display: flex;flex-direction: column;z-index: 1;position: relative;background-color: white;}#sk-container-id-5 div.sk-parallel-item:first-child::after {align-self: flex-end;width: 50%;}#sk-container-id-5 div.sk-parallel-item:last-child::after {align-self: flex-start;width: 50%;}#sk-container-id-5 div.sk-parallel-item:only-child::after {width: 0;}#sk-container-id-5 div.sk-dashed-wrapped {border: 1px dashed gray;margin: 0 0.4em 0.5em 0.4em;box-sizing: border-box;padding-bottom: 0.4em;background-color: white;}#sk-container-id-5 div.sk-label label {font-family: monospace;font-weight: bold;display: inline-block;line-height: 1.2em;}#sk-container-id-5 div.sk-label-container {text-align: center;}#sk-container-id-5 div.sk-container {/* jupyter's `normalize.less` sets `[hidden] { display: none; }` but bootstrap.min.css set `[hidden] { display: none !important; }` so we also need the `!important` here to be able to override the default hidden behavior on the sphinx rendered scikit-learn.org. See: https://github.com/scikit-learn/scikit-learn/issues/21755 */display: inline-block !important;position: relative;}#sk-container-id-5 div.sk-text-repr-fallback {display: none;}</style><div id=\"sk-container-id-5\" class=\"sk-top-container\"><div class=\"sk-text-repr-fallback\"><pre>RidgeClassifierCV(alphas=array([1.00000000e-03, 4.64158883e-03, 2.15443469e-02, 1.00000000e-01,\n",
       "       4.64158883e-01, 2.15443469e+00, 1.00000000e+01, 4.64158883e+01,\n",
       "       2.15443469e+02, 1.00000000e+03]),\n",
       "                  normalize=True)</pre><b>In a Jupyter environment, please rerun this cell to show the HTML representation or trust the notebook. <br />On GitHub, the HTML representation is unable to render, please try loading this page with nbviewer.org.</b></div><div class=\"sk-container\" hidden><div class=\"sk-item\"><div class=\"sk-estimator sk-toggleable\"><input class=\"sk-toggleable__control sk-hidden--visually\" id=\"sk-estimator-id-5\" type=\"checkbox\" checked><label for=\"sk-estimator-id-5\" class=\"sk-toggleable__label sk-toggleable__label-arrow\">RidgeClassifierCV</label><div class=\"sk-toggleable__content\"><pre>RidgeClassifierCV(alphas=array([1.00000000e-03, 4.64158883e-03, 2.15443469e-02, 1.00000000e-01,\n",
       "       4.64158883e-01, 2.15443469e+00, 1.00000000e+01, 4.64158883e+01,\n",
       "       2.15443469e+02, 1.00000000e+03]),\n",
       "                  normalize=True)</pre></div></div></div></div></div>"
      ],
      "text/plain": [
       "RidgeClassifierCV(alphas=array([1.00000000e-03, 4.64158883e-03, 2.15443469e-02, 1.00000000e-01,\n",
       "       4.64158883e-01, 2.15443469e+00, 1.00000000e+01, 4.64158883e+01,\n",
       "       2.15443469e+02, 1.00000000e+03]),\n",
       "                  normalize=True)"
      ]
     },
     "execution_count": 82,
     "metadata": {},
     "output_type": "execute_result"
    }
   ],
   "source": [
    "rocket_multi = Rocket()\n",
    "rocket_multi.fit(XYZ_train_uni)\n",
    "XYZ_train_transform_ro2 = rocket_multi.transform(XYZ_train_uni)\n",
    "clf_ro2 = RidgeClassifierCV(alphas=np.logspace(-3, 3, 10), normalize=True)\n",
    "clf_ro2.fit(XYZ_train_transform_ro2.values, y_train)"
   ]
  },
  {
   "cell_type": "code",
   "execution_count": 83,
   "id": "b23233af",
   "metadata": {},
   "outputs": [
    {
     "name": "stdout",
     "output_type": "stream",
     "text": [
      "              precision    recall  f1-score   support\n",
      "\n",
      "           1       0.99      0.78      0.87       496\n",
      "           2       0.94      0.93      0.94       471\n",
      "           3       0.83      0.91      0.87       420\n",
      "           4       0.65      0.73      0.69       491\n",
      "           5       0.73      0.79      0.76       532\n",
      "           6       0.76      0.71      0.73       537\n",
      "\n",
      "    accuracy                           0.80      2947\n",
      "   macro avg       0.82      0.81      0.81      2947\n",
      "weighted avg       0.81      0.80      0.81      2947\n",
      "\n"
     ]
    }
   ],
   "source": [
    "XYZ_test_transform_ro2 = rocket_multi.transform(XYZ_test_uni)\n",
    "y_pred_ro2 = clf_ro2.predict(XYZ_test_transform_ro2.values)\n",
    "print(classification_report(y_test, y_pred_ro2))"
   ]
  },
  {
   "attachments": {},
   "cell_type": "markdown",
   "id": "942cf7c0",
   "metadata": {},
   "source": [
    "### MINI-ROCKET\n"
   ]
  },
  {
   "cell_type": "code",
   "execution_count": 84,
   "id": "a7b8c8de",
   "metadata": {},
   "outputs": [],
   "source": [
    "from sklearn.linear_model import RidgeClassifierCV\n",
    "from sktime.transformations.panel.rocket import MiniRocketMultivariate"
   ]
  },
  {
   "cell_type": "code",
   "execution_count": 85,
   "id": "6d32c338",
   "metadata": {},
   "outputs": [],
   "source": [
    "from sklearn.linear_model import RidgeClassifierCV\n",
    "from sktime.transformations.panel.rocket import MiniRocketMultivariate"
   ]
  },
  {
   "cell_type": "code",
   "execution_count": 88,
   "id": "3e4587e4",
   "metadata": {},
   "outputs": [],
   "source": [
    "minirocket_multi = Rocket()\n",
    "minirocket_multi.fit(XYZ_train_uni)\n",
    "XYZ_train_transform_ro2 = rocket_multi.transform(XYZ_train_uni)\n",
    "clf_miniro2 = RidgeClassifierCV(alphas=np.logspace(-3, 3, 10), normalize=True)\n",
    "clf_miniro2.fit(XYZ_train_transform_ro2.values, y_train)\n",
    "\n",
    "XYZ_test_transform_mini2 = minirocket_multi.transform(XYZ_test_uni)\n",
    "y_pred_mini2 = clf_miniro2.predict(XYZ_test_transform_mini2.values)\n",
    "print(classification_report(y_test, y_pred_mini2))"
   ]
  },
  {
   "cell_type": "code",
   "execution_count": null,
   "id": "d4ebe8a2",
   "metadata": {},
   "outputs": [],
   "source": []
  }
 ],
 "metadata": {
  "kernelspec": {
   "display_name": "Python 3 (ipykernel)",
   "language": "python",
   "name": "python3"
  },
  "language_info": {
   "codemirror_mode": {
    "name": "ipython",
    "version": 3
   },
   "file_extension": ".py",
   "mimetype": "text/x-python",
   "name": "python",
   "nbconvert_exporter": "python",
   "pygments_lexer": "ipython3",
   "version": "3.9.12"
  }
 },
 "nbformat": 4,
 "nbformat_minor": 5
}
