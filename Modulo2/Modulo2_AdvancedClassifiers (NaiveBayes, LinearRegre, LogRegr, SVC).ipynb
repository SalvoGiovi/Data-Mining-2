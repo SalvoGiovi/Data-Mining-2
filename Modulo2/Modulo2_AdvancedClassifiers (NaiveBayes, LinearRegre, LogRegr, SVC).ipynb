{
 "cells": [
  {
   "cell_type": "markdown",
   "id": "8a7fd399",
   "metadata": {},
   "source": [
    "# Advanced Classifiers"
   ]
  },
  {
   "cell_type": "code",
   "execution_count": null,
   "id": "0845f0ed",
   "metadata": {},
   "outputs": [],
   "source": [
    "%matplotlib inline\n",
    "\n",
    "import numpy as np\n",
    "import pandas as pd\n",
    "import matplotlib.pyplot as plt\n",
    "import seaborn as sns\n",
    "from collections import Counter\n",
    "from collections import defaultdict\n",
    "from itertools import cycle\n",
    "from sklearn import svm, datasets\n",
    "from sklearn.model_selection import train_test_split\n",
    "from sklearn.preprocessing import label_binarize\n",
    "from sklearn.multiclass import OneVsRestClassifier\n",
    "from sklearn.metrics import roc_auc_score\n",
    "# hyperparameter tuning ## To search for the most suitable parameters for the Decision Tree\n",
    "from sklearn.model_selection import RandomizedSearchCV, GridSearchCV\n",
    "from yellowbrick import ROCAUC\n",
    "from sklearn.model_selection import train_test_split, cross_val_score \n",
    "from sklearn.tree import DecisionTreeClassifier\n",
    "from sklearn.metrics import accuracy_score, f1_score, classification_report\n",
    "from sklearn.metrics import roc_curve, auc, roc_auc_score\n",
    "from sklearn import tree\n",
    "import pydotplus\n",
    "from IPython.display import Image"
   ]
  },
  {
   "cell_type": "code",
   "execution_count": null,
   "id": "80d101cc",
   "metadata": {},
   "outputs": [],
   "source": [
    "X_train = pd.read_csv(\"X_train.txt\", header=None,  delim_whitespace=True)\n",
    "y_train = pd.read_csv(\"y_train.txt\", header=None, delim_whitespace=True )\n",
    "X_test = pd.read_csv(\"X_test.txt\", header=None, delim_whitespace=True )\n",
    "y_test = pd.read_csv(\"y_test.txt\", header=None, delim_whitespace=True )\n",
    "subject_train = pd.read_csv(\"subject_train.txt\", header=None, delim_whitespace=True )\n",
    "features = pd.read_csv(\"features.txt\", header=None, delim_whitespace=True )"
   ]
  },
  {
   "cell_type": "code",
   "execution_count": null,
   "id": "c7f26ded",
   "metadata": {},
   "outputs": [],
   "source": [
    "feature = features\n",
    "feature.drop(0,inplace=True, axis=1)"
   ]
  },
  {
   "cell_type": "code",
   "execution_count": null,
   "id": "1f2b3e72",
   "metadata": {},
   "outputs": [],
   "source": [
    "#inseriamo l'intestazione al dataset\n",
    "lista=[]\n",
    "feat_transpa = feature.transpose()\n",
    "for i in range(561):\n",
    "    lista.append(feat_transpa.iloc[0][i])\n",
    "X_test.columns=lista    \n",
    "X_train.columns=lista"
   ]
  },
  {
   "cell_type": "code",
   "execution_count": null,
   "id": "bb32552c",
   "metadata": {},
   "outputs": [],
   "source": [
    "# eliminiamo le colonne che contengono la stima mad in quanto quasi uguale a dev.std\n",
    "stringa=\"mad()\"\n",
    "for col in X_train.columns:\n",
    "    if(stringa in col):\n",
    "        X_train.drop(labels=col, axis=1, inplace=True)\n",
    "for col in X_test.columns:\n",
    "    if(stringa in col):\n",
    "        X_test.drop(labels=col, axis=1, inplace=True)\n",
    "#for col in features:\n",
    "#    if (stringa in col):\n",
    "#        features.drop(labels=col,axis=1,inplace=True)"
   ]
  },
  {
   "cell_type": "markdown",
   "id": "9eb035e8",
   "metadata": {},
   "source": [
    "## NAIVE BAYES"
   ]
  },
  {
   "cell_type": "code",
   "execution_count": null,
   "id": "52060bcd",
   "metadata": {},
   "outputs": [],
   "source": [
    "from sklearn.naive_bayes import GaussianNB, CategoricalNB"
   ]
  },
  {
   "cell_type": "code",
   "execution_count": null,
   "id": "2423a986",
   "metadata": {},
   "outputs": [],
   "source": [
    "clf_nb = GaussianNB()\n",
    "clf_nb.fit(X_train, np.ravel(y_train))\n",
    "y_pred_nb = clf_nb.predict(X_test)\n",
    "y_pred_proba_nb = clf_nb.predict_proba(X_test)"
   ]
  },
  {
   "cell_type": "code",
   "execution_count": null,
   "id": "329e350a",
   "metadata": {},
   "outputs": [],
   "source": [
    "print('Accuracy %s' % accuracy_score(y_test, y_pred_nb))\n",
    "print('F1-score %s' % f1_score(y_test, y_pred_nb, average=None))\n",
    "print(classification_report(y_test, y_pred_nb))"
   ]
  },
  {
   "cell_type": "code",
   "execution_count": null,
   "id": "7cc18d00",
   "metadata": {},
   "outputs": [],
   "source": [
    "#Binarize FARE ATTENZIONE PERCHE' DOPO SBALLA LE CLASSI\n",
    "y_test1 = label_binarize(y_test, classes=[1,2,3,4,5,6])\n",
    "y_train1 = label_binarize(y_train, classes=[1,2,3,4,5,6])"
   ]
  },
  {
   "cell_type": "code",
   "execution_count": null,
   "id": "13eeafc0",
   "metadata": {},
   "outputs": [],
   "source": [
    "# Learn to predict each class against the other\n",
    "classifier_nb = OneVsRestClassifier(GaussianNB())\n",
    "classifier_nb.fit(X_train, y_train1)\n",
    "y_pred_nb_nb = classifier_nb.predict(X_test)\n",
    "y_pred_proba_nb = classifier_nb.predict_proba(X_test)"
   ]
  },
  {
   "cell_type": "code",
   "execution_count": null,
   "id": "2fa92c63",
   "metadata": {},
   "outputs": [],
   "source": [
    "# Compute ROC curve and ROC area for each class\n",
    "CLASS_LABELS = [ \"WALKING\" , \"WALKING_UPSTAIRS\", \"WALKING_DOWNSTAIRS\", \"SITTING\", \"STANDING\", \"LAYING\"]\n",
    "\n",
    "fpr = dict()\n",
    "tpr = dict()\n",
    "roc_auc = dict()\n",
    "for i in range(len(CLASS_LABELS)):\n",
    "    fpr[i], tpr[i], _ = roc_curve(y_test1[:, i], y_pred_proba_nb[:, i])\n",
    "    roc_auc[i] = auc(fpr[i], tpr[i])"
   ]
  },
  {
   "cell_type": "code",
   "execution_count": null,
   "id": "24203fb1",
   "metadata": {},
   "outputs": [],
   "source": [
    "#plot\n",
    "lw=2\n",
    "colors = cycle([\"aqua\", \"darkorange\", \"cornflowerblue\",\"navy\", \"deeppink\", \"gold\"])\n",
    "for i, color in zip(range(len(CLASS_LABELS)), colors):\n",
    "    plt.plot(\n",
    "        fpr[i],\n",
    "        tpr[i],\n",
    "        color=color,\n",
    "        lw=lw,\n",
    "        label=\"ROC curve of class {0} (area = {1:0.2f})\".format(i+1, roc_auc[i]),\n",
    "    )\n",
    "\n",
    "plt.plot([0, 1], [0, 1], \"k--\", lw=lw)\n",
    "plt.xlim([0.0, 1.0])\n",
    "plt.ylim([0.0, 1.05])\n",
    "plt.xlabel(\"False Positive Rate\")\n",
    "plt.ylabel(\"True Positive Rate\")\n",
    "plt.title(\"ROC curve multiclass Naive Bayes\")\n",
    "plt.legend(loc=\"lower right\")\n",
    "plt.show()"
   ]
  },
  {
   "cell_type": "markdown",
   "id": "037ca4f5",
   "metadata": {},
   "source": [
    "## Linear Regression 2 dimensions\n"
   ]
  },
  {
   "cell_type": "code",
   "execution_count": null,
   "id": "93dcc5a2",
   "metadata": {},
   "outputs": [],
   "source": [
    "from sklearn.linear_model import LinearRegression, Ridge, Lasso\n",
    "from sklearn.model_selection import train_test_split, cross_val_score \n",
    "from sklearn.metrics import r2_score, mean_squared_error, mean_absolute_error"
   ]
  },
  {
   "cell_type": "code",
   "execution_count": null,
   "id": "c0a1c321",
   "metadata": {},
   "outputs": [],
   "source": [
    "train_A= X_train[['tBodyAcc-std()-X']].values # deicdere quale variabile indipendete\n",
    "train_B= X_train[['tBodyAcc-max()-Y']].values # decidere quale variabile dipendete\n",
    "test_A= X_test[['tBodyAcc-std()-X']].values\n",
    "test_B= X_test[['tBodyAcc-max()-Y']].values"
   ]
  },
  {
   "cell_type": "code",
   "execution_count": null,
   "id": "0d630319",
   "metadata": {},
   "outputs": [],
   "source": [
    "plt.scatter(train_A, train_B)\n",
    "plt.xlabel('tBodyAcc-std()-X', fontsize=16)\n",
    "plt.ylabel('tBodyAcc-max()-Y', fontsize=16)\n",
    "plt.tick_params(axis='both', which='major', labelsize=16)\n",
    "plt.show()"
   ]
  },
  {
   "cell_type": "code",
   "execution_count": null,
   "id": "2b97894b",
   "metadata": {},
   "outputs": [],
   "source": [
    "reg = LinearRegression()\n",
    "reg.fit(train_A, train_B)"
   ]
  },
  {
   "cell_type": "code",
   "execution_count": null,
   "id": "a62e3120",
   "metadata": {},
   "outputs": [],
   "source": [
    "print('Coefficients: \\n', reg.coef_)\n",
    "print('Intercept: \\n', reg.intercept_)"
   ]
  },
  {
   "cell_type": "code",
   "execution_count": null,
   "id": "95094d00",
   "metadata": {},
   "outputs": [],
   "source": [
    "y_pred_reg = reg.predict(test_A)"
   ]
  },
  {
   "cell_type": "code",
   "execution_count": null,
   "id": "283bd024",
   "metadata": {},
   "outputs": [],
   "source": [
    "print('R2: %.3f' % r2_score(test_B, y_pred_reg))\n",
    "print('MSE: %.3f' % mean_squared_error(test_B, y_pred_reg))\n",
    "print('MAE: %.3f' % mean_absolute_error(test_B, y_pred_reg))"
   ]
  },
  {
   "cell_type": "code",
   "execution_count": null,
   "id": "35f16f5f",
   "metadata": {},
   "outputs": [],
   "source": [
    "fig1, ax1 = plt.subplots()\n",
    "ax1.scatter(test_A, test_B)\n",
    "ax1.plot(test_A, y_pred_reg, color='red', linewidth=3)     #Dataframe.T fa il trasposto del df\n",
    "ax1.set_xlabel('tBodyAcc-std()-X')\n",
    "ax1.set_ylabel('tBodyAcc-max()-Y')\n",
    "plt.show()"
   ]
  },
  {
   "cell_type": "markdown",
   "id": "6a89dfe9",
   "metadata": {},
   "source": [
    "## Lasso\n"
   ]
  },
  {
   "cell_type": "code",
   "execution_count": null,
   "id": "81951370",
   "metadata": {},
   "outputs": [],
   "source": [
    "from sklearn.linear_model import LassoLarsCV\n",
    "reg_lasso = LassoLarsCV()\n",
    "reg_lasso.fit(train_A, train_B)\n",
    "print('Alpha: \\n', reg_lasso.alpha_)\n",
    "print('Coefficients: \\n', reg_lasso.coef_)\n",
    "print('Intercept: \\n', reg_lasso.intercept_)"
   ]
  },
  {
   "cell_type": "code",
   "execution_count": null,
   "id": "0c8700f8",
   "metadata": {},
   "outputs": [],
   "source": [
    "y_pred_lasso = reg_lasso.predict(test_A)\n",
    "print('R2: %.3f' % r2_score(test_B, y_pred_lasso))\n",
    "print('MSE: %.3f' % mean_squared_error(test_B, y_pred_lasso)) # Misclassification Square Error \n",
    "print('MAE: %.3f' % mean_absolute_error(test_B, y_pred_lasso)) #"
   ]
  },
  {
   "cell_type": "code",
   "execution_count": null,
   "id": "24149a89",
   "metadata": {},
   "outputs": [],
   "source": [
    "fig1, ax1 = plt.subplots()\n",
    "ax1.scatter(train_A, train_B)\n",
    "ax1.plot(test_A, y_pred_lasso, color='red', linewidth=3)     #Dataframe.T fa il trasposto del df\n",
    "ax1.set_xlabel('tBodyAcc-std()-X')\n",
    "ax1.set_ylabel('tBodyAcc-max()-Y')\n",
    "plt.show()"
   ]
  },
  {
   "cell_type": "markdown",
   "id": "d9445484",
   "metadata": {},
   "source": [
    "## Ridge"
   ]
  },
  {
   "cell_type": "code",
   "execution_count": null,
   "id": "1b1bc6cf",
   "metadata": {},
   "outputs": [],
   "source": [
    "from sklearn.linear_model import LinearRegression, RidgeCV, Lasso, ElasticNetCV\n",
    "reg_rid = RidgeCV()\n",
    "reg_rid.fit(train_A, train_B)\n",
    "print('Alpha: \\n', reg_lasso.alpha_)\n",
    "print('Coefficients: \\n', reg.coef_)\n",
    "print('Intercept: \\n', reg.intercept_)"
   ]
  },
  {
   "cell_type": "code",
   "execution_count": null,
   "id": "85a3f1c7",
   "metadata": {},
   "outputs": [],
   "source": [
    "y_pred_rid = reg_rid.predict(test_A)\n",
    "print('R2: %.3f' % r2_score(test_B, y_pred_rid))\n",
    "print('MSE: %.3f' % mean_squared_error(test_B, y_pred_rid))\n",
    "print('MAE: %.3f' % mean_absolute_error(test_B, y_pred_rid))"
   ]
  },
  {
   "cell_type": "code",
   "execution_count": null,
   "id": "a14954ef",
   "metadata": {},
   "outputs": [],
   "source": [
    "fig1, ax1 = plt.subplots()\n",
    "ax1.scatter(train_A, train_B)\n",
    "ax1.plot(test_A, y_pred_rid, color='red', linewidth=3)     #Dataframe.T fa il trasposto del df\n",
    "ax1.set_xlabel('tBodyAcc-std()-X')\n",
    "ax1.set_ylabel('tBodyAcc-max()-Y')\n",
    "plt.show()"
   ]
  },
  {
   "cell_type": "markdown",
   "id": "b2c5ad05",
   "metadata": {},
   "source": [
    "## Regressione lineare multipla\n"
   ]
  },
  {
   "cell_type": "code",
   "execution_count": null,
   "id": "291f6f31",
   "metadata": {},
   "outputs": [],
   "source": [
    "attributes = [col for col in X_train.columns if col != 'tBodyAcc-max()-Y']\n",
    "\n",
    "train_multiple_A= X_train[attributes].values      # tutte le altre variabili indipendenti\n",
    "test_multiple_A= X_test[attributes].values \n",
    "\n",
    "train_multiple_B= X_train[['tBodyAcc-max()-Y']].values # decidere quale variabile dipendete\n",
    "test_multiple_B= X_test[['tBodyAcc-max()-Y']].values"
   ]
  },
  {
   "cell_type": "code",
   "execution_count": null,
   "id": "8455f38f",
   "metadata": {},
   "outputs": [],
   "source": [
    "reg_multiple = LinearRegression()\n",
    "reg_multiple.fit(train_multiple_A, train_multiple_B)"
   ]
  },
  {
   "cell_type": "code",
   "execution_count": null,
   "id": "f71c64f4",
   "metadata": {},
   "outputs": [],
   "source": [
    "print('Coefficients: \\n', reg_multiple.coef_)\n",
    "print('Intercept: \\n', reg_multiple.intercept_)"
   ]
  },
  {
   "cell_type": "code",
   "execution_count": null,
   "id": "f1beede0",
   "metadata": {},
   "outputs": [],
   "source": [
    "y_pred_multiple = reg_multiple.predict(test_multiple_A)"
   ]
  },
  {
   "cell_type": "code",
   "execution_count": null,
   "id": "1db62fa6",
   "metadata": {},
   "outputs": [],
   "source": [
    "print('R2: %.6f' % r2_score(test_multiple_B, y_pred_multiple))\n",
    "print('MSE: %.5f' % mean_squared_error(test_multiple_B, y_pred_multiple))\n",
    "print('MAE: %.3f' % mean_absolute_error(test_multiple_B, y_pred_multiple))"
   ]
  },
  {
   "cell_type": "markdown",
   "id": "ecc060bb",
   "metadata": {},
   "source": [
    "## Lasso multiple"
   ]
  },
  {
   "cell_type": "code",
   "execution_count": null,
   "id": "5f21fe2b",
   "metadata": {},
   "outputs": [],
   "source": [
    "# Il Lasso ti butta a zero quelle variabili  che non sono necessarie per spiegare il modello, potresti eliminare la multicollinearità eliminando queste\n",
    "from sklearn.linear_model import LassoCV\n",
    "\n",
    "reg_lasso_multiple = LassoCV()\n",
    "reg_lasso_multiple.fit(train_multiple_A, np.ravel(train_multiple_B))\n",
    "print('Alpha: \\n', reg_lasso_multiple.alpha_)\n",
    "print('Coefficients: \\n', reg_lasso_multiple.coef_)\n",
    "print('Intercept: \\n', reg_lasso_multiple.intercept_)"
   ]
  },
  {
   "cell_type": "code",
   "execution_count": null,
   "id": "2324dcc6",
   "metadata": {},
   "outputs": [],
   "source": [
    "y_pred_lasso_multiple = reg_lasso_multiple.predict(test_multiple_A)\n",
    "print('R2: %.6f' % r2_score(test_multiple_B, y_pred_lasso_multiple))\n",
    "print('MSE: %.5f' % mean_squared_error(test_multiple_B, y_pred_lasso_multiple))\n",
    "print('MAE: %.3f' % mean_absolute_error(test_multiple_B, y_pred_lasso_multiple))"
   ]
  },
  {
   "cell_type": "markdown",
   "id": "e66aa103",
   "metadata": {},
   "source": [
    "## Ridge multiple\n"
   ]
  },
  {
   "cell_type": "code",
   "execution_count": null,
   "id": "4214d6e8",
   "metadata": {},
   "outputs": [],
   "source": [
    "# Come il Lasso penalizza le variabili non utili, ma non le elimina completamente, non le butta proprio a zero ma le mette basse\n",
    "\n",
    "reg_ridge_multiple = RidgeCV()\n",
    "reg_ridge_multiple.fit(train_multiple_A, train_multiple_B)\n",
    "print('Alpha: \\n', reg_ridge_multiple.alpha_)\n",
    "print('Coefficients: \\n', reg_ridge_multiple.coef_)\n",
    "print('Intercept: \\n', reg_ridge_multiple.intercept_)"
   ]
  },
  {
   "cell_type": "code",
   "execution_count": null,
   "id": "3b66cd6d",
   "metadata": {},
   "outputs": [],
   "source": [
    "y_pred_ridge_multiple = reg_ridge_multiple.predict(test_multiple_A)\n",
    "print('R2: %.6f' % r2_score(test_multiple_B, y_pred_ridge_multiple))\n",
    "print('MSE: %.5f' % mean_squared_error(test_multiple_B, y_pred_ridge_multiple))\n",
    "print('MAE: %.3f' % mean_absolute_error(test_multiple_B, y_pred_ridge_multiple))"
   ]
  },
  {
   "cell_type": "markdown",
   "id": "ecbb622d",
   "metadata": {},
   "source": [
    "## Logistic Regression"
   ]
  },
  {
   "cell_type": "code",
   "execution_count": null,
   "id": "2b17a48e",
   "metadata": {},
   "outputs": [],
   "source": [
    "# classificazione di tipo binaria, da una risposta del tipo 0 o 1\n",
    "# crea una classe 0 e 1, la variabile che ci butti dentro deve essere binaria\n",
    "from sklearn.linear_model import LogisticRegression\n",
    "from sklearn.metrics import accuracy_score, f1_score, classification_report\n",
    "\n",
    "y_train = pd.read_csv(\"y_train.txt\", header=None, delim_whitespace=True )"
   ]
  },
  {
   "cell_type": "code",
   "execution_count": null,
   "id": "16beedf9",
   "metadata": {},
   "outputs": [],
   "source": [
    "y_train_binary=[]\n",
    "for i in range(0, len(y_train[0])):\n",
    "    if y_train[0][i]==1:\n",
    "        y_train_binary.append(1)\n",
    "    elif y_train[0][i]==2:\n",
    "        y_train_binary.append(1)\n",
    "    elif y_train[0][i]==3:\n",
    "        y_train_binary.append(1)\n",
    "    else:\n",
    "        y_train_binary.append(0)\n",
    "\n",
    "y_test_binary=[]\n",
    "for i in range(0, len(y_test[0])):\n",
    "    if y_test[0][i]==1:\n",
    "        y_test_binary.append(1)\n",
    "    elif y_test[0][i]==2:\n",
    "        y_test_binary.append(1)\n",
    "    elif y_test[0][i]==3:\n",
    "        y_test_binary.append(1)\n",
    "    else:\n",
    "        y_test_binary.append(0)"
   ]
  },
  {
   "cell_type": "code",
   "execution_count": null,
   "id": "f6b2d171",
   "metadata": {},
   "outputs": [],
   "source": [
    "selected_columns='tBodyAcc-std()-X'\n",
    "\n",
    "valori_train=X_train[selected_columns].values\n",
    "valori_test=X_test[selected_columns].values\n",
    "\n",
    "#valori_train=X_train.values\n",
    "#valori_test=X_test.values\n"
   ]
  },
  {
   "cell_type": "code",
   "execution_count": null,
   "id": "7e385a68",
   "metadata": {},
   "outputs": [],
   "source": [
    "plt.scatter(valori_train, y_train_binary)\n",
    "plt.xlabel(selected_columns, fontsize=16)\n",
    "plt.ylabel('Class', fontsize=16)\n",
    "plt.tick_params(axis='both', which='major', labelsize=16)\n",
    "plt.show()"
   ]
  },
  {
   "cell_type": "code",
   "execution_count": null,
   "id": "b084aadf",
   "metadata": {},
   "outputs": [],
   "source": [
    "clf_log = LogisticRegression(C=1000.0 , random_state=100, solver='liblinear')\n",
    "# il parametro C è l'inverso della regolarizzazione. E' un fattore di penalizzazione nella missclassification, più grande è + grande sarà il peso della missclassification\n",
    "#Pertanto, se riduco il valore C, incremento la \n",
    "# regolarizzazione. E viceversa."
   ]
  },
  {
   "cell_type": "code",
   "execution_count": null,
   "id": "1de0f897",
   "metadata": {},
   "outputs": [],
   "source": [
    "clf_log.fit(valori_train.reshape(-1,1), y_train_binary)\n",
    "y_pred_log = clf_log.predict(valori_test.reshape(-1,1))\n",
    "\n",
    "print('Accuracy %s' % accuracy_score(y_test_binary, y_pred_log))\n",
    "print('F1-score %s' % f1_score(y_test_binary, y_pred_log, average=None))\n",
    "print(classification_report(y_test_binary, y_pred_log))"
   ]
  },
  {
   "cell_type": "code",
   "execution_count": null,
   "id": "ebe9eb7a",
   "metadata": {},
   "outputs": [],
   "source": [
    "from scipy.special import expit\n",
    "\n",
    "loss_log = expit(sorted(valori_test.reshape(-1,1)) * clf_log.coef_ + clf_log.intercept_).ravel()\n",
    "plt.plot(sorted(valori_test.reshape(-1,1)), loss_log, color='red', linewidth=3)\n",
    "plt.scatter(valori_train, np.ravel(y_train_binary))\n",
    "#plt.xlabel(selected_columns[0], fontsize=16)\n",
    "#plt.ylabel('Occupancy', fontsize=16)\n",
    "plt.tick_params(axis='both', which='major', labelsize=16)\n",
    "plt.show()"
   ]
  },
  {
   "cell_type": "code",
   "execution_count": null,
   "id": "7a7ce517",
   "metadata": {},
   "outputs": [],
   "source": [
    "reg_reg = LinearRegression()\n",
    "reg_reg.fit(valori_train.reshape(-1,1), y_train_binary)"
   ]
  },
  {
   "cell_type": "code",
   "execution_count": null,
   "id": "2772a591",
   "metadata": {},
   "outputs": [],
   "source": [
    "plt.scatter(valori_train.reshape(-1,1), y_train_binary)\n",
    "\n",
    "loss_log = expit(sorted(valori_test.reshape(-1,1)) * clf_log.coef_ + clf_log.intercept_).ravel()\n",
    "plt.plot(sorted(valori_test), loss_log, color='orange', linewidth=3)\n",
    "\n",
    "plt.plot(sorted(valori_test.reshape(-1,1)), reg_reg.coef_ * sorted(valori_test.reshape(-1,1)) + reg_reg.intercept_, color='red', linewidth=3)\n",
    "\n",
    "\n",
    "#plt.xlabel(selected_columns[0], fontsize=16)\n",
    "#plt.ylabel('Occupancy', fontsize=16)\n",
    "plt.tick_params(axis='both', which='major', labelsize=16)\n",
    "plt.show()"
   ]
  },
  {
   "cell_type": "code",
   "execution_count": null,
   "id": "f2563f9c",
   "metadata": {},
   "outputs": [],
   "source": [
    "print(confusion_matrix(y_test_binary,y_pred_log,labels=[1,0]))\n",
    "print(\"y_test:\" ,np.unique(y_test, return_counts=True))\n",
    "print(\"y_test_binary:\" ,np.unique(y_test_binary, return_counts=True))\n"
   ]
  },
  {
   "cell_type": "markdown",
   "id": "1473e406",
   "metadata": {},
   "source": [
    "## SVC"
   ]
  },
  {
   "cell_type": "code",
   "execution_count": null,
   "id": "e05edfd6",
   "metadata": {},
   "outputs": [],
   "source": [
    "from sklearn.svm import SVC\n",
    "from sklearn.metrics import classification_report, confusion_matrix\n",
    "from sklearn.model_selection import RandomizedSearchCV, GridSearchCV"
   ]
  },
  {
   "cell_type": "code",
   "execution_count": null,
   "id": "98e91e15",
   "metadata": {},
   "outputs": [],
   "source": [
    "model_svc=SVC()\n",
    "model_svc.fit(X_train,np.ravel(y_train))\n",
    "prediction_svc=model_svc.predict(X_test)"
   ]
  },
  {
   "cell_type": "code",
   "execution_count": null,
   "id": "5425c764",
   "metadata": {},
   "outputs": [],
   "source": [
    "print(classification_report(y_test,prediction_svc))\n",
    "print(confusion_matrix(y_test,prediction_svc))"
   ]
  },
  {
   "cell_type": "markdown",
   "id": "187a5fce",
   "metadata": {},
   "source": [
    "### GridSearch for hyperparameter tuning"
   ]
  },
  {
   "cell_type": "code",
   "execution_count": null,
   "id": "d0de398f",
   "metadata": {},
   "outputs": [],
   "source": [
    "param_grid = {'C':[1, 10, 100, 1000], 'kernel' : ['linear']}"
   ]
  },
  {
   "cell_type": "code",
   "execution_count": null,
   "id": "179ba9b4",
   "metadata": {},
   "outputs": [],
   "source": [
    "grid= GridSearchCV(SVC(), param_grid, refit=True)"
   ]
  },
  {
   "cell_type": "code",
   "execution_count": null,
   "id": "90bc3d53",
   "metadata": {},
   "outputs": [],
   "source": [
    "grid.fit(X_train,np.ravel(y_train))"
   ]
  },
  {
   "cell_type": "code",
   "execution_count": null,
   "id": "80ccd020",
   "metadata": {},
   "outputs": [],
   "source": [
    "grid.best_params_"
   ]
  },
  {
   "cell_type": "code",
   "execution_count": null,
   "id": "a27c3262",
   "metadata": {},
   "outputs": [],
   "source": [
    "predict_svc_grid=grid.predict(X_test)"
   ]
  },
  {
   "cell_type": "code",
   "execution_count": null,
   "id": "10df63e2",
   "metadata": {},
   "outputs": [],
   "source": [
    "print(classification_report(y_test,predict_svc_grid))\n",
    "print(confusion_matrix(y_test,predict_svc_grid))"
   ]
  },
  {
   "cell_type": "code",
   "execution_count": null,
   "id": "ff430cfb",
   "metadata": {},
   "outputs": [],
   "source": [
    "#After GS\n",
    "clf_SVC = SVC(C=100, gamma=0.01, kernel='rbf')\n",
    "clf_SVC.fit(X_train, np.ravel(y_train))\n",
    "clf_SVC = clf_SVC.predict(X_test)"
   ]
  },
  {
   "cell_type": "code",
   "execution_count": null,
   "id": "b2d345c2",
   "metadata": {},
   "outputs": [],
   "source": [
    "print(classification_report(y_test, clf_SVC))\n",
    "print('Accuracy %s' % accuracy_score(y_test, clf_SVC))\n",
    "print('F1-score %s' % f1_score(y_test, clf_SVC,average=None))"
   ]
  }
 ],
 "metadata": {
  "kernelspec": {
   "display_name": "Python 3 (ipykernel)",
   "language": "python",
   "name": "python3"
  },
  "language_info": {
   "codemirror_mode": {
    "name": "ipython",
    "version": 3
   },
   "file_extension": ".py",
   "mimetype": "text/x-python",
   "name": "python",
   "nbconvert_exporter": "python",
   "pygments_lexer": "ipython3",
   "version": "3.9.12"
  }
 },
 "nbformat": 4,
 "nbformat_minor": 5
}
