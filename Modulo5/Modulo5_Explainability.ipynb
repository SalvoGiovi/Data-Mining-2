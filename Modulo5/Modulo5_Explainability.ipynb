{
 "cells": [
  {
   "cell_type": "code",
   "execution_count": null,
   "id": "024d97a3",
   "metadata": {},
   "outputs": [],
   "source": [
    "%matplotlib inline\n",
    "\n",
    "import sys\n",
    "import numpy as np\n",
    "import pandas as pd\n",
    "import matplotlib.pyplot as plt\n",
    "import time\n",
    "from collections import Counter\n",
    "from collections import defaultdict\n",
    "from sklearn.model_selection import train_test_split, cross_val_score \n",
    "from sklearn.metrics import accuracy_score, f1_score, classification_report\n",
    "from sklearn.metrics import roc_curve, auc, roc_auc_score"
   ]
  },
  {
   "cell_type": "markdown",
   "id": "9e178e6a",
   "metadata": {},
   "source": [
    "# Data Preparation"
   ]
  },
  {
   "cell_type": "code",
   "execution_count": null,
   "id": "d0aa7154",
   "metadata": {},
   "outputs": [],
   "source": [
    "X_train = pd.read_csv(\"X_train.txt\", header=None,  delim_whitespace=True)\n",
    "y_train = pd.read_csv(\"y_train.txt\", header=None, delim_whitespace=True )\n",
    "X_test = pd.read_csv(\"X_test.txt\", header=None, delim_whitespace=True )\n",
    "y_test = pd.read_csv(\"y_test.txt\", header=None, delim_whitespace=True )\n",
    "subject_test = pd.read_csv(\"subject_test.txt\", header=None, delim_whitespace=True )\n",
    "subject_train = pd.read_csv(\"subject_train.txt\", header=None, delim_whitespace=True )\n",
    "features = pd.read_csv(\"features.txt\", header=None, delim_whitespace=True )"
   ]
  },
  {
   "cell_type": "code",
   "execution_count": null,
   "id": "9a80766e",
   "metadata": {},
   "outputs": [],
   "source": [
    "feature = features\n",
    "feature.drop(0,inplace=True, axis=1)"
   ]
  },
  {
   "cell_type": "code",
   "execution_count": null,
   "id": "0aa9c580",
   "metadata": {},
   "outputs": [],
   "source": [
    "#inseriamo l'intestazione al dataset\n",
    "lista3=[]\n",
    "feat_transpa = feature.transpose()\n",
    "for i in range(561):\n",
    "    lista3.append(feat_transpa.iloc[0][i])\n",
    "X_test.columns=lista3    \n",
    "X_train.columns=lista3"
   ]
  },
  {
   "cell_type": "code",
   "execution_count": null,
   "id": "856009ca",
   "metadata": {},
   "outputs": [],
   "source": [
    "# eliminiamo le colonne che contengono la stima mad in quanto quasi uguale a dev.std\n",
    "stringa=\"mad()\"\n",
    "for col in X_train.columns:\n",
    "    if(stringa in col):\n",
    "        X_train.drop(labels=col, axis=1, inplace=True)\n",
    "for col in X_test.columns:\n",
    "    if(stringa in col):\n",
    "        X_test.drop(labels=col, axis=1, inplace=True)\n",
    "#for col in features:\n",
    "#    if (stringa in col):\n",
    "#        features.drop(labels=col,axis=1,inplace=True)"
   ]
  },
  {
   "cell_type": "code",
   "execution_count": null,
   "id": "e1af716d",
   "metadata": {},
   "outputs": [],
   "source": [
    "body_acc_x_train = pd.read_csv(\"body_acc_x_train.txt\", header=None,  delim_whitespace=True)\n",
    "body_acc_y_train = pd.read_csv(\"body_acc_y_train.txt\", header=None,  delim_whitespace=True)\n",
    "body_acc_z_train = pd.read_csv(\"body_acc_z_train.txt\", header=None,  delim_whitespace=True)\n",
    "body_gyro_x_train = pd.read_csv(\"body_gyro_x_train.txt\", header=None,  delim_whitespace=True)\n",
    "body_gyro_y_train = pd.read_csv(\"body_gyro_y_train.txt\", header=None,  delim_whitespace=True)\n",
    "body_gyro_z_train = pd.read_csv(\"body_gyro_z_train.txt\", header=None,  delim_whitespace=True)\n",
    "total_acc_x_train = pd.read_csv(\"body_gyro_x_train.txt\", header=None,  delim_whitespace=True)\n",
    "total_acc_y_train = pd.read_csv(\"body_gyro_y_train.txt\", header=None,  delim_whitespace=True)\n",
    "total_acc_z_train = pd.read_csv(\"body_gyro_z_train.txt\", header=None,  delim_whitespace=True)\n",
    "\n",
    "body_acc_x_test  = pd.read_csv(\"body_acc_x_test.txt\", header=None,  delim_whitespace=True)\n",
    "body_acc_y_test  = pd.read_csv(\"body_acc_y_test.txt\", header=None,  delim_whitespace=True)\n",
    "body_acc_z_test  = pd.read_csv(\"body_acc_z_test.txt\", header=None,  delim_whitespace=True)\n",
    "body_gyro_x_test = pd.read_csv(\"body_gyro_x_test.txt\", header=None,  delim_whitespace=True)\n",
    "body_gyro_y_test = pd.read_csv(\"body_gyro_y_test.txt\", header=None,  delim_whitespace=True)\n",
    "body_gyro_z_test = pd.read_csv(\"body_gyro_z_test.txt\", header=None,  delim_whitespace=True)\n",
    "total_acc_x_test = pd.read_csv(\"body_gyro_x_test.txt\", header=None,  delim_whitespace=True)\n",
    "total_acc_y_test = pd.read_csv(\"body_gyro_y_test.txt\", header=None,  delim_whitespace=True)\n",
    "total_acc_z_test = pd.read_csv(\"body_gyro_z_test.txt\", header=None,  delim_whitespace=True)"
   ]
  },
  {
   "cell_type": "code",
   "execution_count": null,
   "id": "56378822",
   "metadata": {},
   "outputs": [],
   "source": [
    "y_train_binary=[]\n",
    "for i in range(0, len(y_train[0])):\n",
    "    if y_train[0][i]==1:\n",
    "        y_train_binary.append(1) # 1 classi dinaminche\n",
    "                                # 0 classi statiche\n",
    "    elif y_train[0][i]==2:\n",
    "        y_train_binary.append(1)\n",
    "    elif y_train[0][i]==3:\n",
    "        y_train_binary.append(1)\n",
    "    else:\n",
    "        y_train_binary.append(0)\n",
    "\n",
    "y_test_binary=[]\n",
    "for i in range(0, len(y_test[0])):\n",
    "    if y_test[0][i]==1:\n",
    "        y_test_binary.append(1)\n",
    "    elif y_test[0][i]==2:\n",
    "        y_test_binary.append(1)\n",
    "    elif y_test[0][i]==3:\n",
    "        y_test_binary.append(1)\n",
    "    else:\n",
    "        y_test_binary.append(0)"
   ]
  },
  {
   "cell_type": "code",
   "execution_count": null,
   "id": "7bd2d476",
   "metadata": {},
   "outputs": [],
   "source": [
    "#creo feature Activity\n",
    "activity=[]\n",
    "for i in range(len(y_test)):\n",
    "    if y_test[0][i] == 1:\n",
    "        activity.append(\"WALKING\")\n",
    "    if y_test[0][i] == 2:\n",
    "        activity.append(\"WALKING_UPSTAIRS\")\n",
    "    if y_test[0][i] == 3:\n",
    "        activity.append(\"WALKING_DOWNSTAIRS\")\n",
    "    if y_test[0][i] == 4:\n",
    "        activity.append(\"SITTING\")\n",
    "    if y_test[0][i] == 5:\n",
    "        activity.append(\"STANDING\")\n",
    "    if y_test[0][i] == 6:\n",
    "        activity.append(\"LAYING\")   \n",
    "        \n",
    "activity"
   ]
  },
  {
   "cell_type": "markdown",
   "id": "996c4b1b",
   "metadata": {},
   "source": [
    "## Lime"
   ]
  },
  {
   "cell_type": "code",
   "execution_count": null,
   "id": "e4233670",
   "metadata": {},
   "outputs": [],
   "source": [
    "#!pip install lime"
   ]
  },
  {
   "cell_type": "code",
   "execution_count": null,
   "id": "7c5be189",
   "metadata": {},
   "outputs": [],
   "source": [
    "from lime.lime_tabular import LimeTabularExplainer"
   ]
  },
  {
   "cell_type": "code",
   "execution_count": null,
   "id": "7dc11e41",
   "metadata": {},
   "outputs": [],
   "source": [
    "print(np.unique(y_test_binary))\n",
    "print(np.unique(y_test))"
   ]
  },
  {
   "cell_type": "code",
   "execution_count": null,
   "id": "db55c63e",
   "metadata": {},
   "outputs": [],
   "source": [
    "class_name=np.unique(y_test_binary)\n",
    "class_name\n",
    "class_name_multi=np.unique(y_test)\n",
    "class_name_multi"
   ]
  },
  {
   "cell_type": "code",
   "execution_count": null,
   "id": "1bb48a52",
   "metadata": {},
   "outputs": [],
   "source": [
    "lime_explainer = LimeTabularExplainer(X_test, feature_names=X_test.columns,\n",
    "                                      class_names=[str(v) for v in class_name_multi], discretize_continuous=False)"
   ]
  },
  {
   "cell_type": "code",
   "execution_count": null,
   "id": "c3fa6568",
   "metadata": {},
   "outputs": [],
   "source": [
    "exp = lime_explainer.explain_instance(X_test_i2e, bb_predict_proba)"
   ]
  },
  {
   "cell_type": "code",
   "execution_count": null,
   "id": "b42c9239",
   "metadata": {},
   "outputs": [],
   "source": [
    "exp.local_exp # 1: 38, -0....\n",
    "            # il primo numero si riferisce alla classe\n",
    "            # il secondo all'attributo\n",
    "            # il terzo, quanto quell atributo pesa"
   ]
  },
  {
   "cell_type": "code",
   "execution_count": null,
   "id": "770d81f5",
   "metadata": {},
   "outputs": [],
   "source": [
    "# verde acqua pesa negativamente (fa pendere per il not)\n",
    "# arancione pesa poristivamente\n",
    "print(y_test.iloc[i2e], activity[i2e])\n",
    "exp.show_in_notebook()"
   ]
  },
  {
   "cell_type": "markdown",
   "id": "00f1269d",
   "metadata": {},
   "source": [
    "## SHAP"
   ]
  },
  {
   "cell_type": "code",
   "execution_count": null,
   "id": "15ee74c9",
   "metadata": {},
   "outputs": [],
   "source": [
    "# ci sta un po'\n",
    "import shap\n",
    "\n",
    "shap.initjs()"
   ]
  },
  {
   "cell_type": "code",
   "execution_count": null,
   "id": "929671af",
   "metadata": {},
   "outputs": [],
   "source": [
    "i2e = 22 # record da spiegare\n",
    "X_test_i2e = X_test.iloc[i2e]\n",
    "print(y_test.iloc[i2e], activity[i2e])\n",
    "X_test_i2e"
   ]
  },
  {
   "cell_type": "code",
   "execution_count": null,
   "id": "88747ec0",
   "metadata": {},
   "outputs": [],
   "source": [
    "f = lambda X_test_i2e: bb_predict_proba(X_test_i2e)[:, 1]\n",
    "med = np.median(X_test, axis=0).reshape((1, X_test.shape[1]))\n",
    "\n",
    "shap_explainer = shap.KernelExplainer(f, med)"
   ]
  },
  {
   "cell_type": "code",
   "execution_count": null,
   "id": "48342e72",
   "metadata": {},
   "outputs": [],
   "source": [
    "shap_values_single = shap_explainer.shap_values(X_test_i2e, nsamples=1000)"
   ]
  },
  {
   "cell_type": "code",
   "execution_count": null,
   "id": "9c09705e",
   "metadata": {},
   "outputs": [],
   "source": [
    "shap_values_single"
   ]
  },
  {
   "cell_type": "code",
   "execution_count": null,
   "id": "897a5c80",
   "metadata": {},
   "outputs": [],
   "source": [
    "print(y_test.iloc[i2e], activity[i2e])\n",
    "shap.force_plot(shap_explainer.expected_value, shap_values_single, features=X_test_i2e, feature_names=X_test.columns)"
   ]
  },
  {
   "cell_type": "code",
   "execution_count": null,
   "id": "358b3d9f",
   "metadata": {},
   "outputs": [],
   "source": [
    "# tempo infinitoo \n",
    "# più di 30 / 40 minuti\n",
    "%time\n",
    "shap_values = shap_explainer.shap_values(X_test, nsamples=1000)"
   ]
  },
  {
   "cell_type": "code",
   "execution_count": null,
   "id": "fb2178e7",
   "metadata": {},
   "outputs": [],
   "source": []
  },
  {
   "cell_type": "code",
   "execution_count": null,
   "id": "31397a47",
   "metadata": {},
   "outputs": [],
   "source": []
  },
  {
   "cell_type": "code",
   "execution_count": null,
   "id": "559ebd48",
   "metadata": {},
   "outputs": [],
   "source": []
  },
  {
   "cell_type": "code",
   "execution_count": null,
   "id": "d3049494",
   "metadata": {},
   "outputs": [],
   "source": []
  }
 ],
 "metadata": {
  "kernelspec": {
   "display_name": "Python 3 (ipykernel)",
   "language": "python",
   "name": "python3"
  },
  "language_info": {
   "codemirror_mode": {
    "name": "ipython",
    "version": 3
   },
   "file_extension": ".py",
   "mimetype": "text/x-python",
   "name": "python",
   "nbconvert_exporter": "python",
   "pygments_lexer": "ipython3",
   "version": "3.9.12"
  }
 },
 "nbformat": 4,
 "nbformat_minor": 5
}
