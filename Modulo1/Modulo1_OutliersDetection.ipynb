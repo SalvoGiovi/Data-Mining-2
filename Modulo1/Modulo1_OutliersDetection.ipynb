{
 "cells": [
  {
   "attachments": {},
   "cell_type": "markdown",
   "id": "42615792",
   "metadata": {},
   "source": [
    "# OutliersDetection"
   ]
  },
  {
   "cell_type": "code",
   "execution_count": 2,
   "id": "6b80784a",
   "metadata": {},
   "outputs": [],
   "source": [
    "%matplotlib inline\n",
    "\n",
    "import numpy as np\n",
    "import pandas as pd\n",
    "import seaborn as sns\n",
    "import matplotlib.pyplot as plt\n",
    "\n",
    "from collections import Counter\n",
    "from collections import defaultdict\n",
    "\n",
    "#scaling, normalization\n",
    "from sklearn.preprocessing import StandardScaler, MinMaxScaler, RobustScaler\n",
    "#kmeans, dbscan, hierarchical (sklearn)\n",
    "from sklearn.cluster import KMeans, DBSCAN, AgglomerativeClustering\n",
    "#evaluation\n",
    "from sklearn.metrics import silhouette_score\n",
    "\n",
    "#distance matrix (dbscan elbow, hierarchical)\n",
    "from scipy.spatial.distance import pdist, squareform\n",
    "# hierarchical (scipy)\n",
    "from scipy.cluster.hierarchy import linkage, dendrogram\n",
    "from sklearn.preprocessing import StandardScaler # To transform the dataset\n",
    "from sklearn.neighbors import NearestNeighbors\n",
    "from sklearn.cluster import kmeans_plusplus\n",
    "from sklearn.datasets import make_blobs\n",
    "from sklearn.cluster import KMeans\n",
    "from sklearn.metrics import silhouette_samples, silhouette_score\n",
    "\n",
    "import matplotlib.cm as cm"
   ]
  },
  {
   "cell_type": "code",
   "execution_count": 3,
   "id": "e7ee2ca3",
   "metadata": {},
   "outputs": [],
   "source": [
    "X_train = pd.read_csv(\"/Users/salvu/Desktop/DM2Git/1Modulo/X_train.txt\", header=None,  delim_whitespace=True)\n",
    "y_train = pd.read_csv(\"/Users/salvu/Desktop/DM2Git/1Modulo/y_train.txt\", header=None, delim_whitespace=True )\n",
    "X_test = pd.read_csv(\"/Users/salvu/Desktop/DM2Git/1Modulo/X_test.txt\", header=None, delim_whitespace=True )\n",
    "y_test = pd.read_csv(\"/Users/salvu/Desktop/DM2Git/1Modulo/y_test.txt\", header=None, delim_whitespace=True )\n",
    "features = pd.read_csv(\"/Users/salvu/Desktop/DM2Git/1Modulo/features.txt\", header=None, delim_whitespace=True )\n",
    "subject = pd.read_csv(\"/Users/salvu/Desktop/DM2Git/1Modulo/subject_train.txt\", header=None, delim_whitespace=True )"
   ]
  },
  {
   "cell_type": "code",
   "execution_count": 4,
   "id": "29bb20e6",
   "metadata": {},
   "outputs": [],
   "source": [
    "feature = features\n",
    "subjects = subject\n",
    "feature.drop(0,inplace=True, axis=1)"
   ]
  },
  {
   "cell_type": "code",
   "execution_count": 5,
   "id": "fc44cc91",
   "metadata": {},
   "outputs": [],
   "source": [
    "#inseriamo l'intestazione al dataset\n",
    "lista=[]\n",
    "feat_transpa = feature.transpose()\n",
    "for i in range(561):\n",
    "    lista.append(feat_transpa.iloc[0][i])\n",
    "X_test.columns=lista    \n",
    "X_train.columns=lista"
   ]
  },
  {
   "cell_type": "code",
   "execution_count": 6,
   "id": "f3197652",
   "metadata": {},
   "outputs": [],
   "source": [
    "# eliminiamo le colonne che contengono la stima mad in quanto quasi uguale a dev.std\n",
    "stringa=\"mad()\"\n",
    "for col in X_train.columns:\n",
    "    if(stringa in col):\n",
    "        X_train.drop(labels=col, axis=1, inplace=True)\n",
    "for col in X_test.columns:\n",
    "    if(stringa in col):\n",
    "        X_test.drop(labels=col, axis=1, inplace=True)        "
   ]
  },
  {
   "attachments": {},
   "cell_type": "markdown",
   "id": "7d4e9e75",
   "metadata": {},
   "source": [
    "## LOF"
   ]
  },
  {
   "cell_type": "code",
   "execution_count": 7,
   "id": "1fcdbd64",
   "metadata": {},
   "outputs": [],
   "source": [
    "from sklearn.neighbors import LocalOutlierFactor\n",
    "from numpy import quantile, random, where"
   ]
  },
  {
   "cell_type": "code",
   "execution_count": 8,
   "id": "123f73da",
   "metadata": {},
   "outputs": [],
   "source": [
    "lof = LocalOutlierFactor(n_neighbors=25)\n",
    "outliers = lof.fit_predict(X_train)\n",
    "lofs_index = where(outliers==-1)"
   ]
  },
  {
   "cell_type": "code",
   "execution_count": 9,
   "id": "99839950",
   "metadata": {},
   "outputs": [
    {
     "data": {
      "text/plain": [
       "(array([-1,  1]), array([  11, 7341], dtype=int64))"
      ]
     },
     "execution_count": 9,
     "metadata": {},
     "output_type": "execute_result"
    }
   ],
   "source": [
    "np.unique(outliers, return_counts=True)"
   ]
  },
  {
   "cell_type": "code",
   "execution_count": 10,
   "id": "035915a0",
   "metadata": {},
   "outputs": [
    {
     "data": {
      "text/plain": [
       "array([-1.52784477, -1.05041742, -1.01806226, ..., -1.02954003,\n",
       "       -1.02224792, -1.00586738])"
      ]
     },
     "execution_count": 10,
     "metadata": {},
     "output_type": "execute_result"
    }
   ],
   "source": [
    "outliers_score = lof.negative_outlier_factor_\n",
    "outliers_score"
   ]
  },
  {
   "cell_type": "code",
   "execution_count": 11,
   "id": "8b01346c",
   "metadata": {},
   "outputs": [],
   "source": [
    "outlier4 = np.where(outliers==-1)"
   ]
  },
  {
   "cell_type": "code",
   "execution_count": 12,
   "id": "7e63acae",
   "metadata": {},
   "outputs": [],
   "source": [
    "#Creo dataset per inserire outlier di una serie di metodi\n",
    "X = pd.DataFrame(outliers_score, columns=[\"LOF_score\"])\n",
    "X[\"LOF_label\"] = outliers"
   ]
  },
  {
   "cell_type": "code",
   "execution_count": 13,
   "id": "81859564",
   "metadata": {},
   "outputs": [
    {
     "data": {
      "text/plain": [
       "array([-1.52784477, -1.760977  , -1.72745014, -1.50318232, -1.51039996,\n",
       "       -1.74512234, -1.56053596, -1.50648009, -1.56032587, -1.77559099,\n",
       "       -1.66224976])"
      ]
     },
     "execution_count": 13,
     "metadata": {},
     "output_type": "execute_result"
    }
   ],
   "source": [
    "lof.negative_outlier_factor_[np.where(outliers==-1)]"
   ]
  },
  {
   "cell_type": "code",
   "execution_count": 14,
   "id": "dc447709",
   "metadata": {},
   "outputs": [
    {
     "data": {
      "text/plain": [
       "-1.5031823240441307"
      ]
     },
     "execution_count": 14,
     "metadata": {},
     "output_type": "execute_result"
    }
   ],
   "source": [
    "max_val = np.max(lof.negative_outlier_factor_[np.where(outliers==-1)])\n",
    "max_val"
   ]
  },
  {
   "cell_type": "code",
   "execution_count": 15,
   "id": "242ac914",
   "metadata": {},
   "outputs": [
    {
     "data": {
      "text/plain": [
       "-1.7755909870010032"
      ]
     },
     "execution_count": 15,
     "metadata": {},
     "output_type": "execute_result"
    }
   ],
   "source": [
    "np.min(lof.negative_outlier_factor_[np.where(outliers==-1)])"
   ]
  },
  {
   "cell_type": "code",
   "execution_count": 16,
   "id": "3ed9bf74",
   "metadata": {},
   "outputs": [
    {
     "data": {
      "image/png": "[encoded data removed]",
      "text/plain": [
       "<Figure size 432x288 with 1 Axes>"
      ]
     },
     "metadata": {
      "needs_background": "light"
     },
     "output_type": "display_data"
    }
   ],
   "source": [
    "plt.hist(lof.negative_outlier_factor_, bins=10)\n",
    "plt.axvline(max_val, c='r')\n",
    "plt.text(max_val, 250, 'outliers')\n",
    "plt.show()"
   ]
  },
  {
   "attachments": {},
   "cell_type": "markdown",
   "id": "49970796",
   "metadata": {},
   "source": [
    "## Isolation Forest"
   ]
  },
  {
   "cell_type": "code",
   "execution_count": 17,
   "id": "7cd089b8",
   "metadata": {},
   "outputs": [],
   "source": [
    "from sklearn.ensemble import IsolationForest\n",
    "from sklearn.model_selection import train_test_split\n",
    "from numpy import quantile, random, where"
   ]
  },
  {
   "cell_type": "code",
   "execution_count": 18,
   "id": "4be0f6cf",
   "metadata": {},
   "outputs": [],
   "source": [
    "contamination=float(.01) #specifichiamo la percentuale di outliers che si presume ci sia"
   ]
  },
  {
   "cell_type": "code",
   "execution_count": 19,
   "id": "e3527207",
   "metadata": {},
   "outputs": [
    {
     "name": "stdout",
     "output_type": "stream",
     "text": [
      "CPU times: total: 2.41 s\n",
      "Wall time: 2.41 s\n"
     ]
    },
    {
     "data": {
      "text/html": [
       "<style>#sk-container-id-1 {color: black;background-color: white;}#sk-container-id-1 pre{padding: 0;}#sk-container-id-1 div.sk-toggleable {background-color: white;}#sk-container-id-1 label.sk-toggleable__label {cursor: pointer;display: block;width: 100%;margin-bottom: 0;padding: 0.3em;box-sizing: border-box;text-align: center;}#sk-container-id-1 label.sk-toggleable__label-arrow:before {content: \"▸\";float: left;margin-right: 0.25em;color: #696969;}#sk-container-id-1 label.sk-toggleable__label-arrow:hover:before {color: black;}#sk-container-id-1 div.sk-estimator:hover label.sk-toggleable__label-arrow:before {color: black;}#sk-container-id-1 div.sk-toggleable__content {max-height: 0;max-width: 0;overflow: hidden;text-align: left;background-color: #f0f8ff;}#sk-container-id-1 div.sk-toggleable__content pre {margin: 0.2em;color: black;border-radius: 0.25em;background-color: #f0f8ff;}#sk-container-id-1 input.sk-toggleable__control:checked~div.sk-toggleable__content {max-height: 200px;max-width: 100%;overflow: auto;}#sk-container-id-1 input.sk-toggleable__control:checked~label.sk-toggleable__label-arrow:before {content: \"▾\";}#sk-container-id-1 div.sk-estimator input.sk-toggleable__control:checked~label.sk-toggleable__label {background-color: #d4ebff;}#sk-container-id-1 div.sk-label input.sk-toggleable__control:checked~label.sk-toggleable__label {background-color: #d4ebff;}#sk-container-id-1 input.sk-hidden--visually {border: 0;clip: rect(1px 1px 1px 1px);clip: rect(1px, 1px, 1px, 1px);height: 1px;margin: -1px;overflow: hidden;padding: 0;position: absolute;width: 1px;}#sk-container-id-1 div.sk-estimator {font-family: monospace;background-color: #f0f8ff;border: 1px dotted black;border-radius: 0.25em;box-sizing: border-box;margin-bottom: 0.5em;}#sk-container-id-1 div.sk-estimator:hover {background-color: #d4ebff;}#sk-container-id-1 div.sk-parallel-item::after {content: \"\";width: 100%;border-bottom: 1px solid gray;flex-grow: 1;}#sk-container-id-1 div.sk-label:hover label.sk-toggleable__label {background-color: #d4ebff;}#sk-container-id-1 div.sk-serial::before {content: \"\";position: absolute;border-left: 1px solid gray;box-sizing: border-box;top: 0;bottom: 0;left: 50%;z-index: 0;}#sk-container-id-1 div.sk-serial {display: flex;flex-direction: column;align-items: center;background-color: white;padding-right: 0.2em;padding-left: 0.2em;position: relative;}#sk-container-id-1 div.sk-item {position: relative;z-index: 1;}#sk-container-id-1 div.sk-parallel {display: flex;align-items: stretch;justify-content: center;background-color: white;position: relative;}#sk-container-id-1 div.sk-item::before, #sk-container-id-1 div.sk-parallel-item::before {content: \"\";position: absolute;border-left: 1px solid gray;box-sizing: border-box;top: 0;bottom: 0;left: 50%;z-index: -1;}#sk-container-id-1 div.sk-parallel-item {display: flex;flex-direction: column;z-index: 1;position: relative;background-color: white;}#sk-container-id-1 div.sk-parallel-item:first-child::after {align-self: flex-end;width: 50%;}#sk-container-id-1 div.sk-parallel-item:last-child::after {align-self: flex-start;width: 50%;}#sk-container-id-1 div.sk-parallel-item:only-child::after {width: 0;}#sk-container-id-1 div.sk-dashed-wrapped {border: 1px dashed gray;margin: 0 0.4em 0.5em 0.4em;box-sizing: border-box;padding-bottom: 0.4em;background-color: white;}#sk-container-id-1 div.sk-label label {font-family: monospace;font-weight: bold;display: inline-block;line-height: 1.2em;}#sk-container-id-1 div.sk-label-container {text-align: center;}#sk-container-id-1 div.sk-container {/* jupyter's `normalize.less` sets `[hidden] { display: none; }` but bootstrap.min.css set `[hidden] { display: none !important; }` so we also need the `!important` here to be able to override the default hidden behavior on the sphinx rendered scikit-learn.org. See: https://github.com/scikit-learn/scikit-learn/issues/21755 */display: inline-block !important;position: relative;}#sk-container-id-1 div.sk-text-repr-fallback {display: none;}</style><div id=\"sk-container-id-1\" class=\"sk-top-container\"><div class=\"sk-text-repr-fallback\"><pre>IsolationForest(random_state=42)</pre><b>In a Jupyter environment, please rerun this cell to show the HTML representation or trust the notebook. <br />On GitHub, the HTML representation is unable to render, please try loading this page with nbviewer.org.</b></div><div class=\"sk-container\" hidden><div class=\"sk-item\"><div class=\"sk-estimator sk-toggleable\"><input class=\"sk-toggleable__control sk-hidden--visually\" id=\"sk-estimator-id-1\" type=\"checkbox\" checked><label for=\"sk-estimator-id-1\" class=\"sk-toggleable__label sk-toggleable__label-arrow\">IsolationForest</label><div class=\"sk-toggleable__content\"><pre>IsolationForest(random_state=42)</pre></div></div></div></div></div>"
      ],
      "text/plain": [
       "IsolationForest(random_state=42)"
      ]
     },
     "execution_count": 19,
     "metadata": {},
     "output_type": "execute_result"
    }
   ],
   "source": [
    "%%time\n",
    "IF = IsolationForest(n_estimators = 100, random_state=42)\n",
    "IF.fit(X_train)"
   ]
  },
  {
   "cell_type": "code",
   "execution_count": 20,
   "id": "da864bbd",
   "metadata": {},
   "outputs": [
    {
     "data": {
      "text/plain": [
       "(array([-1,  1]), array([ 631, 6721], dtype=int64))"
      ]
     },
     "execution_count": 20,
     "metadata": {},
     "output_type": "execute_result"
    }
   ],
   "source": [
    "outliers = IF.predict(X_train)\n",
    "np.unique(outliers, return_counts=True)"
   ]
  },
  {
   "cell_type": "code",
   "execution_count": 21,
   "id": "5968c5e8",
   "metadata": {},
   "outputs": [],
   "source": [
    "my_array=IF.decision_function(X_train) #score\n",
    "my_array2=IF.predict(X_train) #label"
   ]
  },
  {
   "cell_type": "code",
   "execution_count": 22,
   "id": "dd70b8a1",
   "metadata": {},
   "outputs": [],
   "source": [
    "#creo un dataset in cui vado ad inserire tutte le anomalie con lo score corrispondente\n",
    "X[\"IF_score\"] = my_array\n",
    "X[\"IF_label\"] = my_array2"
   ]
  },
  {
   "cell_type": "code",
   "execution_count": 23,
   "id": "db75584c",
   "metadata": {},
   "outputs": [],
   "source": [
    "#se vogliamo printare le anomalie o la riga corrispondente\n",
    "anomaly=X.loc[X['IF_label']==-1]\n",
    "anomaly_index=list(anomaly.index)"
   ]
  },
  {
   "cell_type": "code",
   "execution_count": 24,
   "id": "8eadfc33",
   "metadata": {},
   "outputs": [
    {
     "data": {
      "text/html": [
       "<div>\n",
       "<style scoped>\n",
       "    .dataframe tbody tr th:only-of-type {\n",
       "        vertical-align: middle;\n",
       "    }\n",
       "\n",
       "    .dataframe tbody tr th {\n",
       "        vertical-align: top;\n",
       "    }\n",
       "\n",
       "    .dataframe thead th {\n",
       "        text-align: right;\n",
       "    }\n",
       "</style>\n",
       "<table border=\"1\" class=\"dataframe\">\n",
       "  <thead>\n",
       "    <tr style=\"text-align: right;\">\n",
       "      <th></th>\n",
       "      <th>tBodyAcc-mean()-X</th>\n",
       "      <th>tBodyAcc-mean()-Y</th>\n",
       "      <th>tBodyAcc-mean()-Z</th>\n",
       "      <th>tBodyAcc-std()-X</th>\n",
       "      <th>tBodyAcc-std()-Y</th>\n",
       "      <th>tBodyAcc-std()-Z</th>\n",
       "      <th>tBodyAcc-max()-X</th>\n",
       "      <th>tBodyAcc-max()-Y</th>\n",
       "      <th>tBodyAcc-max()-Z</th>\n",
       "      <th>tBodyAcc-min()-X</th>\n",
       "      <th>...</th>\n",
       "      <th>fBodyBodyGyroJerkMag-meanFreq()</th>\n",
       "      <th>fBodyBodyGyroJerkMag-skewness()</th>\n",
       "      <th>fBodyBodyGyroJerkMag-kurtosis()</th>\n",
       "      <th>angle(tBodyAccMean,gravity)</th>\n",
       "      <th>angle(tBodyAccJerkMean),gravityMean)</th>\n",
       "      <th>angle(tBodyGyroMean,gravityMean)</th>\n",
       "      <th>angle(tBodyGyroJerkMean,gravityMean)</th>\n",
       "      <th>angle(X,gravityMean)</th>\n",
       "      <th>angle(Y,gravityMean)</th>\n",
       "      <th>angle(Z,gravityMean)</th>\n",
       "    </tr>\n",
       "  </thead>\n",
       "  <tbody>\n",
       "    <tr>\n",
       "      <th>67</th>\n",
       "      <td>-0.239103</td>\n",
       "      <td>-0.096904</td>\n",
       "      <td>0.148035</td>\n",
       "      <td>-0.637325</td>\n",
       "      <td>-0.127692</td>\n",
       "      <td>-0.258924</td>\n",
       "      <td>-0.878149</td>\n",
       "      <td>-0.241482</td>\n",
       "      <td>-0.120985</td>\n",
       "      <td>0.263374</td>\n",
       "      <td>...</td>\n",
       "      <td>-0.691219</td>\n",
       "      <td>-0.157009</td>\n",
       "      <td>-0.561918</td>\n",
       "      <td>0.002418</td>\n",
       "      <td>-0.002366</td>\n",
       "      <td>-0.101878</td>\n",
       "      <td>0.543207</td>\n",
       "      <td>0.378792</td>\n",
       "      <td>-0.488443</td>\n",
       "      <td>-0.487057</td>\n",
       "    </tr>\n",
       "    <tr>\n",
       "      <th>69</th>\n",
       "      <td>0.303833</td>\n",
       "      <td>0.103648</td>\n",
       "      <td>-0.245331</td>\n",
       "      <td>-0.755994</td>\n",
       "      <td>-0.642571</td>\n",
       "      <td>-0.695501</td>\n",
       "      <td>-0.717081</td>\n",
       "      <td>-0.182864</td>\n",
       "      <td>-0.560333</td>\n",
       "      <td>0.574444</td>\n",
       "      <td>...</td>\n",
       "      <td>-0.281684</td>\n",
       "      <td>-0.268042</td>\n",
       "      <td>-0.609644</td>\n",
       "      <td>-0.116769</td>\n",
       "      <td>-0.391404</td>\n",
       "      <td>0.413596</td>\n",
       "      <td>0.051020</td>\n",
       "      <td>0.494535</td>\n",
       "      <td>-0.465940</td>\n",
       "      <td>-0.535802</td>\n",
       "    </tr>\n",
       "    <tr>\n",
       "      <th>70</th>\n",
       "      <td>-0.361205</td>\n",
       "      <td>-0.268121</td>\n",
       "      <td>0.176896</td>\n",
       "      <td>-0.599392</td>\n",
       "      <td>0.532506</td>\n",
       "      <td>0.004324</td>\n",
       "      <td>-0.717081</td>\n",
       "      <td>-0.182864</td>\n",
       "      <td>0.315453</td>\n",
       "      <td>0.022282</td>\n",
       "      <td>...</td>\n",
       "      <td>-0.525170</td>\n",
       "      <td>0.063364</td>\n",
       "      <td>-0.330520</td>\n",
       "      <td>0.152830</td>\n",
       "      <td>0.149602</td>\n",
       "      <td>0.127245</td>\n",
       "      <td>0.192852</td>\n",
       "      <td>0.508733</td>\n",
       "      <td>-0.496132</td>\n",
       "      <td>-0.506197</td>\n",
       "    </tr>\n",
       "    <tr>\n",
       "      <th>71</th>\n",
       "      <td>-0.277066</td>\n",
       "      <td>-0.684097</td>\n",
       "      <td>0.346658</td>\n",
       "      <td>-0.596410</td>\n",
       "      <td>0.024683</td>\n",
       "      <td>-0.160404</td>\n",
       "      <td>-0.866296</td>\n",
       "      <td>-0.249047</td>\n",
       "      <td>0.315453</td>\n",
       "      <td>0.022282</td>\n",
       "      <td>...</td>\n",
       "      <td>-0.533867</td>\n",
       "      <td>0.018979</td>\n",
       "      <td>-0.437059</td>\n",
       "      <td>0.123108</td>\n",
       "      <td>0.432540</td>\n",
       "      <td>-0.083446</td>\n",
       "      <td>0.025648</td>\n",
       "      <td>0.668284</td>\n",
       "      <td>-0.336641</td>\n",
       "      <td>-0.672685</td>\n",
       "    </tr>\n",
       "    <tr>\n",
       "      <th>101</th>\n",
       "      <td>0.261081</td>\n",
       "      <td>-0.015636</td>\n",
       "      <td>-0.102588</td>\n",
       "      <td>-0.171239</td>\n",
       "      <td>0.201236</td>\n",
       "      <td>-0.261589</td>\n",
       "      <td>0.022737</td>\n",
       "      <td>-0.104128</td>\n",
       "      <td>-0.167734</td>\n",
       "      <td>0.153242</td>\n",
       "      <td>...</td>\n",
       "      <td>0.238314</td>\n",
       "      <td>0.278557</td>\n",
       "      <td>0.034323</td>\n",
       "      <td>0.717645</td>\n",
       "      <td>0.401581</td>\n",
       "      <td>-0.038345</td>\n",
       "      <td>-0.593632</td>\n",
       "      <td>-0.749963</td>\n",
       "      <td>0.269151</td>\n",
       "      <td>0.043100</td>\n",
       "    </tr>\n",
       "    <tr>\n",
       "      <th>...</th>\n",
       "      <td>...</td>\n",
       "      <td>...</td>\n",
       "      <td>...</td>\n",
       "      <td>...</td>\n",
       "      <td>...</td>\n",
       "      <td>...</td>\n",
       "      <td>...</td>\n",
       "      <td>...</td>\n",
       "      <td>...</td>\n",
       "      <td>...</td>\n",
       "      <td>...</td>\n",
       "      <td>...</td>\n",
       "      <td>...</td>\n",
       "      <td>...</td>\n",
       "      <td>...</td>\n",
       "      <td>...</td>\n",
       "      <td>...</td>\n",
       "      <td>...</td>\n",
       "      <td>...</td>\n",
       "      <td>...</td>\n",
       "      <td>...</td>\n",
       "    </tr>\n",
       "    <tr>\n",
       "      <th>6939</th>\n",
       "      <td>0.470751</td>\n",
       "      <td>-0.040032</td>\n",
       "      <td>-0.242380</td>\n",
       "      <td>0.283371</td>\n",
       "      <td>0.230982</td>\n",
       "      <td>-0.269655</td>\n",
       "      <td>0.478404</td>\n",
       "      <td>0.180164</td>\n",
       "      <td>-0.399982</td>\n",
       "      <td>-0.103330</td>\n",
       "      <td>...</td>\n",
       "      <td>0.033439</td>\n",
       "      <td>-0.236577</td>\n",
       "      <td>-0.637228</td>\n",
       "      <td>-0.415789</td>\n",
       "      <td>0.480924</td>\n",
       "      <td>0.992026</td>\n",
       "      <td>0.064899</td>\n",
       "      <td>-0.923119</td>\n",
       "      <td>0.123846</td>\n",
       "      <td>-0.031750</td>\n",
       "    </tr>\n",
       "    <tr>\n",
       "      <th>6957</th>\n",
       "      <td>0.217508</td>\n",
       "      <td>-0.074056</td>\n",
       "      <td>-0.212026</td>\n",
       "      <td>-0.029212</td>\n",
       "      <td>-0.039285</td>\n",
       "      <td>0.167732</td>\n",
       "      <td>0.323658</td>\n",
       "      <td>-0.022203</td>\n",
       "      <td>0.027064</td>\n",
       "      <td>0.188471</td>\n",
       "      <td>...</td>\n",
       "      <td>0.078586</td>\n",
       "      <td>-0.731763</td>\n",
       "      <td>-0.956850</td>\n",
       "      <td>0.087289</td>\n",
       "      <td>0.411382</td>\n",
       "      <td>-0.728625</td>\n",
       "      <td>-0.631756</td>\n",
       "      <td>-0.783200</td>\n",
       "      <td>0.247893</td>\n",
       "      <td>0.012588</td>\n",
       "    </tr>\n",
       "    <tr>\n",
       "      <th>7304</th>\n",
       "      <td>0.316681</td>\n",
       "      <td>-0.020640</td>\n",
       "      <td>-0.132595</td>\n",
       "      <td>0.245688</td>\n",
       "      <td>0.261090</td>\n",
       "      <td>-0.134618</td>\n",
       "      <td>0.479594</td>\n",
       "      <td>0.311558</td>\n",
       "      <td>-0.004935</td>\n",
       "      <td>-0.245049</td>\n",
       "      <td>...</td>\n",
       "      <td>0.031172</td>\n",
       "      <td>-0.396526</td>\n",
       "      <td>-0.782491</td>\n",
       "      <td>-0.458666</td>\n",
       "      <td>-0.513656</td>\n",
       "      <td>0.877342</td>\n",
       "      <td>0.496022</td>\n",
       "      <td>-0.909396</td>\n",
       "      <td>0.142928</td>\n",
       "      <td>-0.028533</td>\n",
       "    </tr>\n",
       "    <tr>\n",
       "      <th>7309</th>\n",
       "      <td>0.207542</td>\n",
       "      <td>-0.048698</td>\n",
       "      <td>-0.053467</td>\n",
       "      <td>0.158584</td>\n",
       "      <td>0.025743</td>\n",
       "      <td>0.130814</td>\n",
       "      <td>0.530997</td>\n",
       "      <td>-0.060730</td>\n",
       "      <td>0.433908</td>\n",
       "      <td>0.053708</td>\n",
       "      <td>...</td>\n",
       "      <td>0.053021</td>\n",
       "      <td>-0.319266</td>\n",
       "      <td>-0.726092</td>\n",
       "      <td>0.310813</td>\n",
       "      <td>-0.863683</td>\n",
       "      <td>-0.553296</td>\n",
       "      <td>-0.373964</td>\n",
       "      <td>-0.930773</td>\n",
       "      <td>0.145327</td>\n",
       "      <td>0.008707</td>\n",
       "    </tr>\n",
       "    <tr>\n",
       "      <th>7321</th>\n",
       "      <td>0.324216</td>\n",
       "      <td>-0.044241</td>\n",
       "      <td>-0.184564</td>\n",
       "      <td>0.129899</td>\n",
       "      <td>0.299774</td>\n",
       "      <td>-0.143976</td>\n",
       "      <td>0.588099</td>\n",
       "      <td>0.115025</td>\n",
       "      <td>-0.240361</td>\n",
       "      <td>0.075531</td>\n",
       "      <td>...</td>\n",
       "      <td>-0.114324</td>\n",
       "      <td>-0.209017</td>\n",
       "      <td>-0.632705</td>\n",
       "      <td>-0.155177</td>\n",
       "      <td>-0.563769</td>\n",
       "      <td>-0.944006</td>\n",
       "      <td>-0.701732</td>\n",
       "      <td>-0.893186</td>\n",
       "      <td>0.124049</td>\n",
       "      <td>-0.055416</td>\n",
       "    </tr>\n",
       "  </tbody>\n",
       "</table>\n",
       "<p>631 rows × 528 columns</p>\n",
       "</div>"
      ],
      "text/plain": [
       "      tBodyAcc-mean()-X  tBodyAcc-mean()-Y  tBodyAcc-mean()-Z  \\\n",
       "67            -0.239103          -0.096904           0.148035   \n",
       "69             0.303833           0.103648          -0.245331   \n",
       "70            -0.361205          -0.268121           0.176896   \n",
       "71            -0.277066          -0.684097           0.346658   \n",
       "101            0.261081          -0.015636          -0.102588   \n",
       "...                 ...                ...                ...   \n",
       "6939           0.470751          -0.040032          -0.242380   \n",
       "6957           0.217508          -0.074056          -0.212026   \n",
       "7304           0.316681          -0.020640          -0.132595   \n",
       "7309           0.207542          -0.048698          -0.053467   \n",
       "7321           0.324216          -0.044241          -0.184564   \n",
       "\n",
       "      tBodyAcc-std()-X  tBodyAcc-std()-Y  tBodyAcc-std()-Z  tBodyAcc-max()-X  \\\n",
       "67           -0.637325         -0.127692         -0.258924         -0.878149   \n",
       "69           -0.755994         -0.642571         -0.695501         -0.717081   \n",
       "70           -0.599392          0.532506          0.004324         -0.717081   \n",
       "71           -0.596410          0.024683         -0.160404         -0.866296   \n",
       "101          -0.171239          0.201236         -0.261589          0.022737   \n",
       "...                ...               ...               ...               ...   \n",
       "6939          0.283371          0.230982         -0.269655          0.478404   \n",
       "6957         -0.029212         -0.039285          0.167732          0.323658   \n",
       "7304          0.245688          0.261090         -0.134618          0.479594   \n",
       "7309          0.158584          0.025743          0.130814          0.530997   \n",
       "7321          0.129899          0.299774         -0.143976          0.588099   \n",
       "\n",
       "      tBodyAcc-max()-Y  tBodyAcc-max()-Z  tBodyAcc-min()-X  ...  \\\n",
       "67           -0.241482         -0.120985          0.263374  ...   \n",
       "69           -0.182864         -0.560333          0.574444  ...   \n",
       "70           -0.182864          0.315453          0.022282  ...   \n",
       "71           -0.249047          0.315453          0.022282  ...   \n",
       "101          -0.104128         -0.167734          0.153242  ...   \n",
       "...                ...               ...               ...  ...   \n",
       "6939          0.180164         -0.399982         -0.103330  ...   \n",
       "6957         -0.022203          0.027064          0.188471  ...   \n",
       "7304          0.311558         -0.004935         -0.245049  ...   \n",
       "7309         -0.060730          0.433908          0.053708  ...   \n",
       "7321          0.115025         -0.240361          0.075531  ...   \n",
       "\n",
       "      fBodyBodyGyroJerkMag-meanFreq()  fBodyBodyGyroJerkMag-skewness()  \\\n",
       "67                          -0.691219                        -0.157009   \n",
       "69                          -0.281684                        -0.268042   \n",
       "70                          -0.525170                         0.063364   \n",
       "71                          -0.533867                         0.018979   \n",
       "101                          0.238314                         0.278557   \n",
       "...                               ...                              ...   \n",
       "6939                         0.033439                        -0.236577   \n",
       "6957                         0.078586                        -0.731763   \n",
       "7304                         0.031172                        -0.396526   \n",
       "7309                         0.053021                        -0.319266   \n",
       "7321                        -0.114324                        -0.209017   \n",
       "\n",
       "      fBodyBodyGyroJerkMag-kurtosis()  angle(tBodyAccMean,gravity)  \\\n",
       "67                          -0.561918                     0.002418   \n",
       "69                          -0.609644                    -0.116769   \n",
       "70                          -0.330520                     0.152830   \n",
       "71                          -0.437059                     0.123108   \n",
       "101                          0.034323                     0.717645   \n",
       "...                               ...                          ...   \n",
       "6939                        -0.637228                    -0.415789   \n",
       "6957                        -0.956850                     0.087289   \n",
       "7304                        -0.782491                    -0.458666   \n",
       "7309                        -0.726092                     0.310813   \n",
       "7321                        -0.632705                    -0.155177   \n",
       "\n",
       "      angle(tBodyAccJerkMean),gravityMean)  angle(tBodyGyroMean,gravityMean)  \\\n",
       "67                               -0.002366                         -0.101878   \n",
       "69                               -0.391404                          0.413596   \n",
       "70                                0.149602                          0.127245   \n",
       "71                                0.432540                         -0.083446   \n",
       "101                               0.401581                         -0.038345   \n",
       "...                                    ...                               ...   \n",
       "6939                              0.480924                          0.992026   \n",
       "6957                              0.411382                         -0.728625   \n",
       "7304                             -0.513656                          0.877342   \n",
       "7309                             -0.863683                         -0.553296   \n",
       "7321                             -0.563769                         -0.944006   \n",
       "\n",
       "      angle(tBodyGyroJerkMean,gravityMean)  angle(X,gravityMean)  \\\n",
       "67                                0.543207              0.378792   \n",
       "69                                0.051020              0.494535   \n",
       "70                                0.192852              0.508733   \n",
       "71                                0.025648              0.668284   \n",
       "101                              -0.593632             -0.749963   \n",
       "...                                    ...                   ...   \n",
       "6939                              0.064899             -0.923119   \n",
       "6957                             -0.631756             -0.783200   \n",
       "7304                              0.496022             -0.909396   \n",
       "7309                             -0.373964             -0.930773   \n",
       "7321                             -0.701732             -0.893186   \n",
       "\n",
       "      angle(Y,gravityMean)  angle(Z,gravityMean)  \n",
       "67               -0.488443             -0.487057  \n",
       "69               -0.465940             -0.535802  \n",
       "70               -0.496132             -0.506197  \n",
       "71               -0.336641             -0.672685  \n",
       "101               0.269151              0.043100  \n",
       "...                    ...                   ...  \n",
       "6939              0.123846             -0.031750  \n",
       "6957              0.247893              0.012588  \n",
       "7304              0.142928             -0.028533  \n",
       "7309              0.145327              0.008707  \n",
       "7321              0.124049             -0.055416  \n",
       "\n",
       "[631 rows x 528 columns]"
      ]
     },
     "execution_count": 24,
     "metadata": {},
     "output_type": "execute_result"
    }
   ],
   "source": [
    "X_train.iloc[anomaly_index]"
   ]
  },
  {
   "attachments": {},
   "cell_type": "markdown",
   "id": "998fb3d3",
   "metadata": {},
   "source": [
    "## ABOD"
   ]
  },
  {
   "cell_type": "code",
   "execution_count": 26,
   "id": "c5edcf65",
   "metadata": {},
   "outputs": [],
   "source": [
    "#!pip install pyod\n",
    "from pyod.models.abod import ABOD\n",
    "from pyod.models.knn import KNN\n",
    "from pyod.models.lof import LOF\n",
    "from pyod.models.loci import LOCI\n",
    "#from pyod.models.auto_encoder import AutoEncoder"
   ]
  },
  {
   "cell_type": "code",
   "execution_count": 27,
   "id": "a52dac26",
   "metadata": {},
   "outputs": [
    {
     "data": {
      "text/plain": [
       "ABOD(contamination=0.1, method='fast', n_neighbors=17)"
      ]
     },
     "execution_count": 27,
     "metadata": {},
     "output_type": "execute_result"
    }
   ],
   "source": [
    "abod = ABOD(n_neighbors=17)\n",
    "abod.fit(X_train)"
   ]
  },
  {
   "cell_type": "code",
   "execution_count": 28,
   "id": "c32ed43a",
   "metadata": {},
   "outputs": [],
   "source": [
    "abod_score= abod.decision_scores_"
   ]
  },
  {
   "cell_type": "code",
   "execution_count": 29,
   "id": "1cf68c68",
   "metadata": {},
   "outputs": [
    {
     "data": {
      "text/plain": [
       "(array([0, 1]), array([6623,  729], dtype=int64))"
      ]
     },
     "execution_count": 29,
     "metadata": {},
     "output_type": "execute_result"
    }
   ],
   "source": [
    "outliers = abod.predict(X_train)\n",
    "np.unique(outliers, return_counts=True)"
   ]
  },
  {
   "cell_type": "code",
   "execution_count": 30,
   "id": "8bfaaa39",
   "metadata": {},
   "outputs": [],
   "source": [
    "X[\"ABOD_score\"] = abod_score\n",
    "X[\"ABOD_label\"] = outliers"
   ]
  },
  {
   "cell_type": "code",
   "execution_count": 31,
   "id": "f1f7abce",
   "metadata": {},
   "outputs": [
    {
     "data": {
      "image/png": "[encoded data removed]",
      "text/plain": [
       "<Figure size 432x288 with 1 Axes>"
      ]
     },
     "metadata": {
      "needs_background": "light"
     },
     "output_type": "display_data"
    }
   ],
   "source": [
    "plt.hist(abod.decision_scores_, bins=20)\n",
    "plt.axvline(np.min(abod.decision_scores_[np.where(outliers==1)]), c='k')\n",
    "plt.show()"
   ]
  },
  {
   "attachments": {},
   "cell_type": "markdown",
   "id": "403e4dcd",
   "metadata": {},
   "source": [
    "## KNN"
   ]
  },
  {
   "attachments": {},
   "cell_type": "markdown",
   "id": "9e298676",
   "metadata": {},
   "source": [
    "## Find best K"
   ]
  },
  {
   "cell_type": "code",
   "execution_count": 32,
   "id": "1e41c2b6",
   "metadata": {},
   "outputs": [
    {
     "name": "stdout",
     "output_type": "stream",
     "text": [
      "Minimum error:- 0.09263657957244656 at K = 17\n"
     ]
    },
    {
     "data": {
      "image/png": "[encoded data removed]",
      "text/plain": [
       "<Figure size 720x432 with 1 Axes>"
      ]
     },
     "metadata": {
      "needs_background": "light"
     },
     "output_type": "display_data"
    }
   ],
   "source": [
    "from sklearn.neighbors import KNeighborsClassifier\n",
    "\n",
    "error_rate = []\n",
    "for i in range(1,20):\n",
    "    knn = KNeighborsClassifier(n_neighbors=i)\n",
    "    knn.fit(X_train,y_train.values.ravel())\n",
    "    pred_i = knn.predict(X_test)\n",
    "    error_rate.append(np.mean(pred_i != np.ravel(y_test)))\n",
    "#print(pred_i)\n",
    "plt.figure(figsize=(10,6))\n",
    "plt.plot(range(1,20),error_rate,color='blue', linestyle='dashed', \n",
    "         marker='o',markerfacecolor='red', markersize=10)\n",
    "plt.title('Error Rate vs. K Value')\n",
    "plt.xlabel('K')\n",
    "plt.ylabel('Error Rate')\n",
    "print(\"Minimum error:-\",min(error_rate),\"at K =\",error_rate.index(min(error_rate)))"
   ]
  },
  {
   "cell_type": "code",
   "execution_count": 33,
   "id": "b4d8f364",
   "metadata": {},
   "outputs": [
    {
     "data": {
      "text/plain": [
       "KNN(algorithm='auto', contamination=0.1, leaf_size=30, method='largest',\n",
       "  metric='euclidean', metric_params=None, n_jobs=1, n_neighbors=17, p=2,\n",
       "  radius=1.0)"
      ]
     },
     "execution_count": 33,
     "metadata": {},
     "output_type": "execute_result"
    }
   ],
   "source": [
    "clf = KNN(n_neighbors=17, metric='euclidean')\n",
    "clf.fit(X_train)"
   ]
  },
  {
   "cell_type": "code",
   "execution_count": 34,
   "id": "89d81ee4",
   "metadata": {},
   "outputs": [
    {
     "data": {
      "text/plain": [
       "(array([0, 1]), array([6641,  711], dtype=int64))"
      ]
     },
     "execution_count": 34,
     "metadata": {},
     "output_type": "execute_result"
    }
   ],
   "source": [
    "outliers = clf.predict(X_train)\n",
    "np.unique(outliers, return_counts=True)"
   ]
  },
  {
   "cell_type": "code",
   "execution_count": 35,
   "id": "2d92dfd0",
   "metadata": {},
   "outputs": [],
   "source": [
    "anomlay_score = clf.decision_function(X_train)"
   ]
  },
  {
   "cell_type": "code",
   "execution_count": 36,
   "id": "0bcfd244",
   "metadata": {},
   "outputs": [],
   "source": [
    "X[\"KNN_score\"]= anomlay_score\n",
    "X[\"KNN_label\"] = outliers"
   ]
  },
  {
   "cell_type": "code",
   "execution_count": 37,
   "id": "2d42152d",
   "metadata": {},
   "outputs": [
    {
     "data": {
      "image/png": "[encoded data removed]",
      "text/plain": [
       "<Figure size 432x288 with 1 Axes>"
      ]
     },
     "metadata": {
      "needs_background": "light"
     },
     "output_type": "display_data"
    }
   ],
   "source": [
    "plt.hist(clf.decision_scores_, bins=20)\n",
    "plt.axvline(np.min(clf.decision_scores_[np.where(outliers==1)]), c='k')\n",
    "plt.show()"
   ]
  },
  {
   "attachments": {},
   "cell_type": "markdown",
   "id": "1001c4b3",
   "metadata": {},
   "source": [
    "## Dataset completo degli outliers\n"
   ]
  },
  {
   "cell_type": "code",
   "execution_count": 38,
   "id": "e124d03e",
   "metadata": {},
   "outputs": [],
   "source": [
    "#Impostiamo un unica label di -1 outlier e 1 inlier\n",
    "classe = { 1 : -1 , 0 : 1}\n",
    "X[\"ABOD_label\"] = X[\"ABOD_label\"].map(classe)\n",
    "X[\"KNN_label\"] = X[\"KNN_label\"].map(classe)"
   ]
  },
  {
   "cell_type": "code",
   "execution_count": 39,
   "id": "a9e5d4ef",
   "metadata": {},
   "outputs": [
    {
     "data": {
      "text/html": [
       "<div>\n",
       "<style scoped>\n",
       "    .dataframe tbody tr th:only-of-type {\n",
       "        vertical-align: middle;\n",
       "    }\n",
       "\n",
       "    .dataframe tbody tr th {\n",
       "        vertical-align: top;\n",
       "    }\n",
       "\n",
       "    .dataframe thead th {\n",
       "        text-align: right;\n",
       "    }\n",
       "</style>\n",
       "<table border=\"1\" class=\"dataframe\">\n",
       "  <thead>\n",
       "    <tr style=\"text-align: right;\">\n",
       "      <th></th>\n",
       "      <th>LOF_score</th>\n",
       "      <th>LOF_label</th>\n",
       "      <th>IF_score</th>\n",
       "      <th>IF_label</th>\n",
       "      <th>ABOD_score</th>\n",
       "      <th>ABOD_label</th>\n",
       "      <th>KNN_score</th>\n",
       "      <th>KNN_label</th>\n",
       "    </tr>\n",
       "  </thead>\n",
       "  <tbody>\n",
       "    <tr>\n",
       "      <th>0</th>\n",
       "      <td>-1.527845</td>\n",
       "      <td>-1</td>\n",
       "      <td>0.092852</td>\n",
       "      <td>1</td>\n",
       "      <td>-0.000027</td>\n",
       "      <td>-1</td>\n",
       "      <td>5.159969</td>\n",
       "      <td>-1</td>\n",
       "    </tr>\n",
       "    <tr>\n",
       "      <th>1</th>\n",
       "      <td>-1.050417</td>\n",
       "      <td>1</td>\n",
       "      <td>0.126769</td>\n",
       "      <td>1</td>\n",
       "      <td>-0.000137</td>\n",
       "      <td>1</td>\n",
       "      <td>3.275084</td>\n",
       "      <td>1</td>\n",
       "    </tr>\n",
       "    <tr>\n",
       "      <th>2</th>\n",
       "      <td>-1.018062</td>\n",
       "      <td>1</td>\n",
       "      <td>0.136065</td>\n",
       "      <td>1</td>\n",
       "      <td>-0.000147</td>\n",
       "      <td>1</td>\n",
       "      <td>3.063645</td>\n",
       "      <td>1</td>\n",
       "    </tr>\n",
       "    <tr>\n",
       "      <th>3</th>\n",
       "      <td>-1.132522</td>\n",
       "      <td>1</td>\n",
       "      <td>0.132719</td>\n",
       "      <td>1</td>\n",
       "      <td>-0.000091</td>\n",
       "      <td>1</td>\n",
       "      <td>3.516144</td>\n",
       "      <td>1</td>\n",
       "    </tr>\n",
       "    <tr>\n",
       "      <th>4</th>\n",
       "      <td>-1.021091</td>\n",
       "      <td>1</td>\n",
       "      <td>0.129952</td>\n",
       "      <td>1</td>\n",
       "      <td>-0.000220</td>\n",
       "      <td>1</td>\n",
       "      <td>3.022345</td>\n",
       "      <td>1</td>\n",
       "    </tr>\n",
       "    <tr>\n",
       "      <th>...</th>\n",
       "      <td>...</td>\n",
       "      <td>...</td>\n",
       "      <td>...</td>\n",
       "      <td>...</td>\n",
       "      <td>...</td>\n",
       "      <td>...</td>\n",
       "      <td>...</td>\n",
       "      <td>...</td>\n",
       "    </tr>\n",
       "    <tr>\n",
       "      <th>7347</th>\n",
       "      <td>-1.009131</td>\n",
       "      <td>1</td>\n",
       "      <td>0.056133</td>\n",
       "      <td>1</td>\n",
       "      <td>-0.000090</td>\n",
       "      <td>1</td>\n",
       "      <td>4.010685</td>\n",
       "      <td>1</td>\n",
       "    </tr>\n",
       "    <tr>\n",
       "      <th>7348</th>\n",
       "      <td>-1.013739</td>\n",
       "      <td>1</td>\n",
       "      <td>0.057693</td>\n",
       "      <td>1</td>\n",
       "      <td>-0.000066</td>\n",
       "      <td>1</td>\n",
       "      <td>4.078017</td>\n",
       "      <td>1</td>\n",
       "    </tr>\n",
       "    <tr>\n",
       "      <th>7349</th>\n",
       "      <td>-1.029540</td>\n",
       "      <td>1</td>\n",
       "      <td>0.059363</td>\n",
       "      <td>1</td>\n",
       "      <td>-0.000078</td>\n",
       "      <td>1</td>\n",
       "      <td>4.226437</td>\n",
       "      <td>1</td>\n",
       "    </tr>\n",
       "    <tr>\n",
       "      <th>7350</th>\n",
       "      <td>-1.022248</td>\n",
       "      <td>1</td>\n",
       "      <td>0.058541</td>\n",
       "      <td>1</td>\n",
       "      <td>-0.000083</td>\n",
       "      <td>1</td>\n",
       "      <td>4.145599</td>\n",
       "      <td>1</td>\n",
       "    </tr>\n",
       "    <tr>\n",
       "      <th>7351</th>\n",
       "      <td>-1.005867</td>\n",
       "      <td>1</td>\n",
       "      <td>0.053923</td>\n",
       "      <td>1</td>\n",
       "      <td>-0.000087</td>\n",
       "      <td>1</td>\n",
       "      <td>3.953294</td>\n",
       "      <td>1</td>\n",
       "    </tr>\n",
       "  </tbody>\n",
       "</table>\n",
       "<p>7352 rows × 8 columns</p>\n",
       "</div>"
      ],
      "text/plain": [
       "      LOF_score  LOF_label  IF_score  IF_label  ABOD_score  ABOD_label  \\\n",
       "0     -1.527845         -1  0.092852         1   -0.000027          -1   \n",
       "1     -1.050417          1  0.126769         1   -0.000137           1   \n",
       "2     -1.018062          1  0.136065         1   -0.000147           1   \n",
       "3     -1.132522          1  0.132719         1   -0.000091           1   \n",
       "4     -1.021091          1  0.129952         1   -0.000220           1   \n",
       "...         ...        ...       ...       ...         ...         ...   \n",
       "7347  -1.009131          1  0.056133         1   -0.000090           1   \n",
       "7348  -1.013739          1  0.057693         1   -0.000066           1   \n",
       "7349  -1.029540          1  0.059363         1   -0.000078           1   \n",
       "7350  -1.022248          1  0.058541         1   -0.000083           1   \n",
       "7351  -1.005867          1  0.053923         1   -0.000087           1   \n",
       "\n",
       "      KNN_score  KNN_label  \n",
       "0      5.159969         -1  \n",
       "1      3.275084          1  \n",
       "2      3.063645          1  \n",
       "3      3.516144          1  \n",
       "4      3.022345          1  \n",
       "...         ...        ...  \n",
       "7347   4.010685          1  \n",
       "7348   4.078017          1  \n",
       "7349   4.226437          1  \n",
       "7350   4.145599          1  \n",
       "7351   3.953294          1  \n",
       "\n",
       "[7352 rows x 8 columns]"
      ]
     },
     "execution_count": 39,
     "metadata": {},
     "output_type": "execute_result"
    }
   ],
   "source": [
    "X"
   ]
  },
  {
   "attachments": {},
   "cell_type": "markdown",
   "id": "625407a9",
   "metadata": {},
   "source": [
    "## TOP 10 outliers KNN vs Rest"
   ]
  },
  {
   "cell_type": "code",
   "execution_count": 40,
   "id": "fd69a215",
   "metadata": {},
   "outputs": [],
   "source": [
    "#KNN\n",
    "a=X[\"KNN_score\"].tolist()\n",
    "a.sort(reverse=True)\n",
    "#a"
   ]
  },
  {
   "cell_type": "code",
   "execution_count": 41,
   "id": "94d5c260",
   "metadata": {},
   "outputs": [],
   "source": [
    "b=[]   #lista in cui salvo la top 1% di outlier\n",
    "k=0\n",
    "for i in a:\n",
    "    b.append(i)\n",
    "    k+=1\n",
    "    if(k==10):\n",
    "        break\n",
    "#b  #top 10     "
   ]
  },
  {
   "cell_type": "code",
   "execution_count": 42,
   "id": "1cdbbb96",
   "metadata": {},
   "outputs": [
    {
     "data": {
      "text/plain": [
       "[71, 2451, 3928, 3929, 3930, 3934, 3935, 3936, 3939, 5137]"
      ]
     },
     "execution_count": 42,
     "metadata": {},
     "output_type": "execute_result"
    }
   ],
   "source": [
    "indx1=[]\n",
    "for i in range(len(X)):\n",
    "    for j in b:\n",
    "        if(j==X.iloc[i][\"KNN_score\"]):\n",
    "            indx1.append(i)\n",
    "indx1"
   ]
  },
  {
   "cell_type": "code",
   "execution_count": 43,
   "id": "2ab6effb",
   "metadata": {},
   "outputs": [
    {
     "data": {
      "text/html": [
       "<div>\n",
       "<style scoped>\n",
       "    .dataframe tbody tr th:only-of-type {\n",
       "        vertical-align: middle;\n",
       "    }\n",
       "\n",
       "    .dataframe tbody tr th {\n",
       "        vertical-align: top;\n",
       "    }\n",
       "\n",
       "    .dataframe thead th {\n",
       "        text-align: right;\n",
       "    }\n",
       "</style>\n",
       "<table border=\"1\" class=\"dataframe\">\n",
       "  <thead>\n",
       "    <tr style=\"text-align: right;\">\n",
       "      <th></th>\n",
       "      <th>LOF_score</th>\n",
       "      <th>LOF_label</th>\n",
       "      <th>IF_score</th>\n",
       "      <th>IF_label</th>\n",
       "      <th>ABOD_score</th>\n",
       "      <th>ABOD_label</th>\n",
       "      <th>KNN_score</th>\n",
       "      <th>KNN_label</th>\n",
       "    </tr>\n",
       "  </thead>\n",
       "  <tbody>\n",
       "    <tr>\n",
       "      <th>3934</th>\n",
       "      <td>-1.560536</td>\n",
       "      <td>-1</td>\n",
       "      <td>-0.208616</td>\n",
       "      <td>-1</td>\n",
       "      <td>-0.000001</td>\n",
       "      <td>-1</td>\n",
       "      <td>12.572690</td>\n",
       "      <td>-1</td>\n",
       "    </tr>\n",
       "    <tr>\n",
       "      <th>3935</th>\n",
       "      <td>-1.506480</td>\n",
       "      <td>-1</td>\n",
       "      <td>-0.218551</td>\n",
       "      <td>-1</td>\n",
       "      <td>-0.000003</td>\n",
       "      <td>-1</td>\n",
       "      <td>12.161422</td>\n",
       "      <td>-1</td>\n",
       "    </tr>\n",
       "    <tr>\n",
       "      <th>3939</th>\n",
       "      <td>-1.293452</td>\n",
       "      <td>1</td>\n",
       "      <td>-0.195992</td>\n",
       "      <td>-1</td>\n",
       "      <td>-0.000002</td>\n",
       "      <td>-1</td>\n",
       "      <td>10.001526</td>\n",
       "      <td>-1</td>\n",
       "    </tr>\n",
       "    <tr>\n",
       "      <th>2451</th>\n",
       "      <td>-1.409836</td>\n",
       "      <td>1</td>\n",
       "      <td>-0.083054</td>\n",
       "      <td>-1</td>\n",
       "      <td>-0.000002</td>\n",
       "      <td>-1</td>\n",
       "      <td>9.124005</td>\n",
       "      <td>-1</td>\n",
       "    </tr>\n",
       "    <tr>\n",
       "      <th>3930</th>\n",
       "      <td>-1.174960</td>\n",
       "      <td>1</td>\n",
       "      <td>-0.181542</td>\n",
       "      <td>-1</td>\n",
       "      <td>-0.000006</td>\n",
       "      <td>-1</td>\n",
       "      <td>8.954388</td>\n",
       "      <td>-1</td>\n",
       "    </tr>\n",
       "    <tr>\n",
       "      <th>3936</th>\n",
       "      <td>-1.199132</td>\n",
       "      <td>1</td>\n",
       "      <td>-0.180224</td>\n",
       "      <td>-1</td>\n",
       "      <td>-0.000015</td>\n",
       "      <td>-1</td>\n",
       "      <td>8.926559</td>\n",
       "      <td>-1</td>\n",
       "    </tr>\n",
       "    <tr>\n",
       "      <th>3928</th>\n",
       "      <td>-1.179234</td>\n",
       "      <td>1</td>\n",
       "      <td>-0.175784</td>\n",
       "      <td>-1</td>\n",
       "      <td>-0.000008</td>\n",
       "      <td>-1</td>\n",
       "      <td>8.613913</td>\n",
       "      <td>-1</td>\n",
       "    </tr>\n",
       "    <tr>\n",
       "      <th>3929</th>\n",
       "      <td>-1.156016</td>\n",
       "      <td>1</td>\n",
       "      <td>-0.178429</td>\n",
       "      <td>-1</td>\n",
       "      <td>-0.000008</td>\n",
       "      <td>-1</td>\n",
       "      <td>8.606475</td>\n",
       "      <td>-1</td>\n",
       "    </tr>\n",
       "    <tr>\n",
       "      <th>5137</th>\n",
       "      <td>-1.246654</td>\n",
       "      <td>1</td>\n",
       "      <td>-0.057377</td>\n",
       "      <td>-1</td>\n",
       "      <td>-0.000006</td>\n",
       "      <td>-1</td>\n",
       "      <td>8.526588</td>\n",
       "      <td>-1</td>\n",
       "    </tr>\n",
       "    <tr>\n",
       "      <th>71</th>\n",
       "      <td>-1.727450</td>\n",
       "      <td>-1</td>\n",
       "      <td>-0.074080</td>\n",
       "      <td>-1</td>\n",
       "      <td>-0.000006</td>\n",
       "      <td>-1</td>\n",
       "      <td>8.481428</td>\n",
       "      <td>-1</td>\n",
       "    </tr>\n",
       "  </tbody>\n",
       "</table>\n",
       "</div>"
      ],
      "text/plain": [
       "      LOF_score  LOF_label  IF_score  IF_label  ABOD_score  ABOD_label  \\\n",
       "3934  -1.560536         -1 -0.208616        -1   -0.000001          -1   \n",
       "3935  -1.506480         -1 -0.218551        -1   -0.000003          -1   \n",
       "3939  -1.293452          1 -0.195992        -1   -0.000002          -1   \n",
       "2451  -1.409836          1 -0.083054        -1   -0.000002          -1   \n",
       "3930  -1.174960          1 -0.181542        -1   -0.000006          -1   \n",
       "3936  -1.199132          1 -0.180224        -1   -0.000015          -1   \n",
       "3928  -1.179234          1 -0.175784        -1   -0.000008          -1   \n",
       "3929  -1.156016          1 -0.178429        -1   -0.000008          -1   \n",
       "5137  -1.246654          1 -0.057377        -1   -0.000006          -1   \n",
       "71    -1.727450         -1 -0.074080        -1   -0.000006          -1   \n",
       "\n",
       "      KNN_score  KNN_label  \n",
       "3934  12.572690         -1  \n",
       "3935  12.161422         -1  \n",
       "3939  10.001526         -1  \n",
       "2451   9.124005         -1  \n",
       "3930   8.954388         -1  \n",
       "3936   8.926559         -1  \n",
       "3928   8.613913         -1  \n",
       "3929   8.606475         -1  \n",
       "5137   8.526588         -1  \n",
       "71     8.481428         -1  "
      ]
     },
     "execution_count": 43,
     "metadata": {},
     "output_type": "execute_result"
    }
   ],
   "source": [
    "X.iloc[indx1].sort_values(by=['KNN_score'],  ascending=False).round(6)    #+ alto è lo score + \"outlier\" è"
   ]
  },
  {
   "attachments": {},
   "cell_type": "markdown",
   "id": "b0564023",
   "metadata": {},
   "source": [
    "## TOP 10 outliers ABOD vs Rest"
   ]
  },
  {
   "cell_type": "code",
   "execution_count": 44,
   "id": "2f35415a",
   "metadata": {},
   "outputs": [],
   "source": [
    "a=X[\"ABOD_score\"].tolist()\n",
    "a.sort(reverse=True)\n",
    "#a"
   ]
  },
  {
   "cell_type": "code",
   "execution_count": 45,
   "id": "6bdf49c8",
   "metadata": {},
   "outputs": [],
   "source": [
    "b=[]\n",
    "k=0\n",
    "for i in a:\n",
    "    b.append(i)\n",
    "    k+=1\n",
    "    if(k==10):\n",
    "        break\n",
    "#b  #top 10     "
   ]
  },
  {
   "cell_type": "code",
   "execution_count": 46,
   "id": "5755f523",
   "metadata": {},
   "outputs": [
    {
     "data": {
      "text/plain": [
       "[238, 1271, 2451, 2532, 2937, 3934, 3935, 3939, 4828, 5020]"
      ]
     },
     "execution_count": 46,
     "metadata": {},
     "output_type": "execute_result"
    }
   ],
   "source": [
    "indx2=[]\n",
    "for i in range(len(X)):\n",
    "    for j in b:\n",
    "        if(j==X.iloc[i][\"ABOD_score\"]):\n",
    "            indx2.append(i)\n",
    "indx2"
   ]
  },
  {
   "cell_type": "code",
   "execution_count": 47,
   "id": "9c1e12a4",
   "metadata": {},
   "outputs": [
    {
     "data": {
      "text/html": [
       "<div>\n",
       "<style scoped>\n",
       "    .dataframe tbody tr th:only-of-type {\n",
       "        vertical-align: middle;\n",
       "    }\n",
       "\n",
       "    .dataframe tbody tr th {\n",
       "        vertical-align: top;\n",
       "    }\n",
       "\n",
       "    .dataframe thead th {\n",
       "        text-align: right;\n",
       "    }\n",
       "</style>\n",
       "<table border=\"1\" class=\"dataframe\">\n",
       "  <thead>\n",
       "    <tr style=\"text-align: right;\">\n",
       "      <th></th>\n",
       "      <th>LOF_score</th>\n",
       "      <th>LOF_label</th>\n",
       "      <th>IF_score</th>\n",
       "      <th>IF_label</th>\n",
       "      <th>ABOD_score</th>\n",
       "      <th>ABOD_label</th>\n",
       "      <th>KNN_score</th>\n",
       "      <th>KNN_label</th>\n",
       "    </tr>\n",
       "  </thead>\n",
       "  <tbody>\n",
       "    <tr>\n",
       "      <th>3934</th>\n",
       "      <td>-1.560536</td>\n",
       "      <td>-1</td>\n",
       "      <td>-0.208616</td>\n",
       "      <td>-1</td>\n",
       "      <td>-0.000001</td>\n",
       "      <td>-1</td>\n",
       "      <td>12.572690</td>\n",
       "      <td>-1</td>\n",
       "    </tr>\n",
       "    <tr>\n",
       "      <th>3939</th>\n",
       "      <td>-1.293452</td>\n",
       "      <td>1</td>\n",
       "      <td>-0.195992</td>\n",
       "      <td>-1</td>\n",
       "      <td>-0.000002</td>\n",
       "      <td>-1</td>\n",
       "      <td>10.001526</td>\n",
       "      <td>-1</td>\n",
       "    </tr>\n",
       "    <tr>\n",
       "      <th>2451</th>\n",
       "      <td>-1.409836</td>\n",
       "      <td>1</td>\n",
       "      <td>-0.083054</td>\n",
       "      <td>-1</td>\n",
       "      <td>-0.000002</td>\n",
       "      <td>-1</td>\n",
       "      <td>9.124005</td>\n",
       "      <td>-1</td>\n",
       "    </tr>\n",
       "    <tr>\n",
       "      <th>1271</th>\n",
       "      <td>-1.165941</td>\n",
       "      <td>1</td>\n",
       "      <td>-0.163395</td>\n",
       "      <td>-1</td>\n",
       "      <td>-0.000002</td>\n",
       "      <td>-1</td>\n",
       "      <td>7.752428</td>\n",
       "      <td>-1</td>\n",
       "    </tr>\n",
       "    <tr>\n",
       "      <th>3935</th>\n",
       "      <td>-1.506480</td>\n",
       "      <td>-1</td>\n",
       "      <td>-0.218551</td>\n",
       "      <td>-1</td>\n",
       "      <td>-0.000003</td>\n",
       "      <td>-1</td>\n",
       "      <td>12.161422</td>\n",
       "      <td>-1</td>\n",
       "    </tr>\n",
       "    <tr>\n",
       "      <th>4828</th>\n",
       "      <td>-1.291587</td>\n",
       "      <td>1</td>\n",
       "      <td>-0.140183</td>\n",
       "      <td>-1</td>\n",
       "      <td>-0.000003</td>\n",
       "      <td>-1</td>\n",
       "      <td>7.930229</td>\n",
       "      <td>-1</td>\n",
       "    </tr>\n",
       "    <tr>\n",
       "      <th>2532</th>\n",
       "      <td>-1.475940</td>\n",
       "      <td>1</td>\n",
       "      <td>-0.109550</td>\n",
       "      <td>-1</td>\n",
       "      <td>-0.000003</td>\n",
       "      <td>-1</td>\n",
       "      <td>7.177296</td>\n",
       "      <td>-1</td>\n",
       "    </tr>\n",
       "    <tr>\n",
       "      <th>2937</th>\n",
       "      <td>-1.436136</td>\n",
       "      <td>1</td>\n",
       "      <td>-0.001964</td>\n",
       "      <td>-1</td>\n",
       "      <td>-0.000004</td>\n",
       "      <td>-1</td>\n",
       "      <td>6.141292</td>\n",
       "      <td>-1</td>\n",
       "    </tr>\n",
       "    <tr>\n",
       "      <th>238</th>\n",
       "      <td>-1.453053</td>\n",
       "      <td>1</td>\n",
       "      <td>-0.033280</td>\n",
       "      <td>-1</td>\n",
       "      <td>-0.000004</td>\n",
       "      <td>-1</td>\n",
       "      <td>7.859084</td>\n",
       "      <td>-1</td>\n",
       "    </tr>\n",
       "    <tr>\n",
       "      <th>5020</th>\n",
       "      <td>-1.140015</td>\n",
       "      <td>1</td>\n",
       "      <td>-0.103280</td>\n",
       "      <td>-1</td>\n",
       "      <td>-0.000005</td>\n",
       "      <td>-1</td>\n",
       "      <td>6.508472</td>\n",
       "      <td>-1</td>\n",
       "    </tr>\n",
       "  </tbody>\n",
       "</table>\n",
       "</div>"
      ],
      "text/plain": [
       "      LOF_score  LOF_label  IF_score  IF_label  ABOD_score  ABOD_label  \\\n",
       "3934  -1.560536         -1 -0.208616        -1   -0.000001          -1   \n",
       "3939  -1.293452          1 -0.195992        -1   -0.000002          -1   \n",
       "2451  -1.409836          1 -0.083054        -1   -0.000002          -1   \n",
       "1271  -1.165941          1 -0.163395        -1   -0.000002          -1   \n",
       "3935  -1.506480         -1 -0.218551        -1   -0.000003          -1   \n",
       "4828  -1.291587          1 -0.140183        -1   -0.000003          -1   \n",
       "2532  -1.475940          1 -0.109550        -1   -0.000003          -1   \n",
       "2937  -1.436136          1 -0.001964        -1   -0.000004          -1   \n",
       "238   -1.453053          1 -0.033280        -1   -0.000004          -1   \n",
       "5020  -1.140015          1 -0.103280        -1   -0.000005          -1   \n",
       "\n",
       "      KNN_score  KNN_label  \n",
       "3934  12.572690         -1  \n",
       "3939  10.001526         -1  \n",
       "2451   9.124005         -1  \n",
       "1271   7.752428         -1  \n",
       "3935  12.161422         -1  \n",
       "4828   7.930229         -1  \n",
       "2532   7.177296         -1  \n",
       "2937   6.141292         -1  \n",
       "238    7.859084         -1  \n",
       "5020   6.508472         -1  "
      ]
     },
     "execution_count": 47,
     "metadata": {},
     "output_type": "execute_result"
    }
   ],
   "source": [
    "X.iloc[indx2].sort_values(by=['ABOD_score'],  ascending=False).round(6)   #+ piccolo è lo score + \"outlier\" è"
   ]
  },
  {
   "attachments": {},
   "cell_type": "markdown",
   "id": "8bc31bbc",
   "metadata": {},
   "source": [
    "## TOP 10 outliers IF_score vs Rest"
   ]
  },
  {
   "cell_type": "code",
   "execution_count": 48,
   "id": "6fef86dc",
   "metadata": {},
   "outputs": [],
   "source": [
    "a=X[\"IF_score\"].tolist()\n",
    "a.sort(reverse=False)\n",
    "#a"
   ]
  },
  {
   "cell_type": "code",
   "execution_count": 49,
   "id": "d426b81c",
   "metadata": {},
   "outputs": [],
   "source": [
    "b=[]\n",
    "k=0\n",
    "for i in a:\n",
    "    b.append(i)\n",
    "    k+=1\n",
    "    if(k==10):\n",
    "        break\n",
    "#b  #top 10     "
   ]
  },
  {
   "cell_type": "code",
   "execution_count": 50,
   "id": "df5259d3",
   "metadata": {},
   "outputs": [
    {
     "data": {
      "text/plain": [
       "[2504, 3928, 3929, 3930, 3934, 3935, 3936, 3939, 3954, 3955]"
      ]
     },
     "execution_count": 50,
     "metadata": {},
     "output_type": "execute_result"
    }
   ],
   "source": [
    "indx3=[]\n",
    "for i in range(len(X)):\n",
    "    for j in b:\n",
    "        if(j==X.iloc[i][\"IF_score\"]):\n",
    "            indx3.append(i)\n",
    "indx3"
   ]
  },
  {
   "cell_type": "code",
   "execution_count": 51,
   "id": "ae10d347",
   "metadata": {},
   "outputs": [
    {
     "data": {
      "text/html": [
       "<div>\n",
       "<style scoped>\n",
       "    .dataframe tbody tr th:only-of-type {\n",
       "        vertical-align: middle;\n",
       "    }\n",
       "\n",
       "    .dataframe tbody tr th {\n",
       "        vertical-align: top;\n",
       "    }\n",
       "\n",
       "    .dataframe thead th {\n",
       "        text-align: right;\n",
       "    }\n",
       "</style>\n",
       "<table border=\"1\" class=\"dataframe\">\n",
       "  <thead>\n",
       "    <tr style=\"text-align: right;\">\n",
       "      <th></th>\n",
       "      <th>LOF_score</th>\n",
       "      <th>LOF_label</th>\n",
       "      <th>IF_score</th>\n",
       "      <th>IF_label</th>\n",
       "      <th>ABOD_score</th>\n",
       "      <th>ABOD_label</th>\n",
       "      <th>KNN_score</th>\n",
       "      <th>KNN_label</th>\n",
       "    </tr>\n",
       "  </thead>\n",
       "  <tbody>\n",
       "    <tr>\n",
       "      <th>3935</th>\n",
       "      <td>-1.506480</td>\n",
       "      <td>-1</td>\n",
       "      <td>-0.218551</td>\n",
       "      <td>-1</td>\n",
       "      <td>-0.000003</td>\n",
       "      <td>-1</td>\n",
       "      <td>12.161422</td>\n",
       "      <td>-1</td>\n",
       "    </tr>\n",
       "    <tr>\n",
       "      <th>3934</th>\n",
       "      <td>-1.560536</td>\n",
       "      <td>-1</td>\n",
       "      <td>-0.208616</td>\n",
       "      <td>-1</td>\n",
       "      <td>-0.000001</td>\n",
       "      <td>-1</td>\n",
       "      <td>12.572690</td>\n",
       "      <td>-1</td>\n",
       "    </tr>\n",
       "    <tr>\n",
       "      <th>3939</th>\n",
       "      <td>-1.293452</td>\n",
       "      <td>1</td>\n",
       "      <td>-0.195992</td>\n",
       "      <td>-1</td>\n",
       "      <td>-0.000002</td>\n",
       "      <td>-1</td>\n",
       "      <td>10.001526</td>\n",
       "      <td>-1</td>\n",
       "    </tr>\n",
       "    <tr>\n",
       "      <th>2504</th>\n",
       "      <td>-1.208913</td>\n",
       "      <td>1</td>\n",
       "      <td>-0.183741</td>\n",
       "      <td>-1</td>\n",
       "      <td>-0.000016</td>\n",
       "      <td>-1</td>\n",
       "      <td>7.915358</td>\n",
       "      <td>-1</td>\n",
       "    </tr>\n",
       "    <tr>\n",
       "      <th>3930</th>\n",
       "      <td>-1.174960</td>\n",
       "      <td>1</td>\n",
       "      <td>-0.181542</td>\n",
       "      <td>-1</td>\n",
       "      <td>-0.000006</td>\n",
       "      <td>-1</td>\n",
       "      <td>8.954388</td>\n",
       "      <td>-1</td>\n",
       "    </tr>\n",
       "    <tr>\n",
       "      <th>3936</th>\n",
       "      <td>-1.199132</td>\n",
       "      <td>1</td>\n",
       "      <td>-0.180224</td>\n",
       "      <td>-1</td>\n",
       "      <td>-0.000015</td>\n",
       "      <td>-1</td>\n",
       "      <td>8.926559</td>\n",
       "      <td>-1</td>\n",
       "    </tr>\n",
       "    <tr>\n",
       "      <th>3955</th>\n",
       "      <td>-1.120153</td>\n",
       "      <td>1</td>\n",
       "      <td>-0.179764</td>\n",
       "      <td>-1</td>\n",
       "      <td>-0.000007</td>\n",
       "      <td>-1</td>\n",
       "      <td>8.215850</td>\n",
       "      <td>-1</td>\n",
       "    </tr>\n",
       "    <tr>\n",
       "      <th>3929</th>\n",
       "      <td>-1.156016</td>\n",
       "      <td>1</td>\n",
       "      <td>-0.178429</td>\n",
       "      <td>-1</td>\n",
       "      <td>-0.000008</td>\n",
       "      <td>-1</td>\n",
       "      <td>8.606475</td>\n",
       "      <td>-1</td>\n",
       "    </tr>\n",
       "    <tr>\n",
       "      <th>3954</th>\n",
       "      <td>-1.100922</td>\n",
       "      <td>1</td>\n",
       "      <td>-0.176190</td>\n",
       "      <td>-1</td>\n",
       "      <td>-0.000012</td>\n",
       "      <td>-1</td>\n",
       "      <td>7.690772</td>\n",
       "      <td>-1</td>\n",
       "    </tr>\n",
       "    <tr>\n",
       "      <th>3928</th>\n",
       "      <td>-1.179234</td>\n",
       "      <td>1</td>\n",
       "      <td>-0.175784</td>\n",
       "      <td>-1</td>\n",
       "      <td>-0.000008</td>\n",
       "      <td>-1</td>\n",
       "      <td>8.613913</td>\n",
       "      <td>-1</td>\n",
       "    </tr>\n",
       "  </tbody>\n",
       "</table>\n",
       "</div>"
      ],
      "text/plain": [
       "      LOF_score  LOF_label  IF_score  IF_label  ABOD_score  ABOD_label  \\\n",
       "3935  -1.506480         -1 -0.218551        -1   -0.000003          -1   \n",
       "3934  -1.560536         -1 -0.208616        -1   -0.000001          -1   \n",
       "3939  -1.293452          1 -0.195992        -1   -0.000002          -1   \n",
       "2504  -1.208913          1 -0.183741        -1   -0.000016          -1   \n",
       "3930  -1.174960          1 -0.181542        -1   -0.000006          -1   \n",
       "3936  -1.199132          1 -0.180224        -1   -0.000015          -1   \n",
       "3955  -1.120153          1 -0.179764        -1   -0.000007          -1   \n",
       "3929  -1.156016          1 -0.178429        -1   -0.000008          -1   \n",
       "3954  -1.100922          1 -0.176190        -1   -0.000012          -1   \n",
       "3928  -1.179234          1 -0.175784        -1   -0.000008          -1   \n",
       "\n",
       "      KNN_score  KNN_label  \n",
       "3935  12.161422         -1  \n",
       "3934  12.572690         -1  \n",
       "3939  10.001526         -1  \n",
       "2504   7.915358         -1  \n",
       "3930   8.954388         -1  \n",
       "3936   8.926559         -1  \n",
       "3955   8.215850         -1  \n",
       "3929   8.606475         -1  \n",
       "3954   7.690772         -1  \n",
       "3928   8.613913         -1  "
      ]
     },
     "execution_count": 51,
     "metadata": {},
     "output_type": "execute_result"
    }
   ],
   "source": [
    "X.iloc[indx3].sort_values(by=['IF_score'],  ascending=True).round(6)    #+ piccolo è lo score + \"outlier\" è"
   ]
  },
  {
   "attachments": {},
   "cell_type": "markdown",
   "id": "ad8de212",
   "metadata": {},
   "source": [
    "## TOP 10 outliers LOF vs Rest"
   ]
  },
  {
   "cell_type": "code",
   "execution_count": 52,
   "id": "dfc45aae",
   "metadata": {},
   "outputs": [],
   "source": [
    "a=X[\"LOF_score\"].tolist()\n",
    "a.sort(reverse=False)\n",
    "#a"
   ]
  },
  {
   "cell_type": "code",
   "execution_count": 54,
   "id": "881b76a0",
   "metadata": {},
   "outputs": [],
   "source": [
    "b=[]\n",
    "k=0\n",
    "for i in a:\n",
    "    b.append(i)\n",
    "    k+=1\n",
    "    if(k==10):\n",
    "        break\n",
    "#b  #top 10   "
   ]
  },
  {
   "cell_type": "code",
   "execution_count": 55,
   "id": "9a56a24f",
   "metadata": {},
   "outputs": [
    {
     "data": {
      "text/plain": [
       "[0, 70, 71, 1817, 1904, 3934, 3935, 4729, 4730, 5066]"
      ]
     },
     "execution_count": 55,
     "metadata": {},
     "output_type": "execute_result"
    }
   ],
   "source": [
    "indx4=[]\n",
    "for i in range(len(X)):\n",
    "    for j in b:\n",
    "        if(j==X.iloc[i][\"LOF_score\"]):\n",
    "            indx4.append(i)\n",
    "indx4"
   ]
  },
  {
   "cell_type": "code",
   "execution_count": 56,
   "id": "504b9c85",
   "metadata": {},
   "outputs": [
    {
     "data": {
      "text/html": [
       "<div>\n",
       "<style scoped>\n",
       "    .dataframe tbody tr th:only-of-type {\n",
       "        vertical-align: middle;\n",
       "    }\n",
       "\n",
       "    .dataframe tbody tr th {\n",
       "        vertical-align: top;\n",
       "    }\n",
       "\n",
       "    .dataframe thead th {\n",
       "        text-align: right;\n",
       "    }\n",
       "</style>\n",
       "<table border=\"1\" class=\"dataframe\">\n",
       "  <thead>\n",
       "    <tr style=\"text-align: right;\">\n",
       "      <th></th>\n",
       "      <th>LOF_score</th>\n",
       "      <th>LOF_label</th>\n",
       "      <th>IF_score</th>\n",
       "      <th>IF_label</th>\n",
       "      <th>ABOD_score</th>\n",
       "      <th>ABOD_label</th>\n",
       "      <th>KNN_score</th>\n",
       "      <th>KNN_label</th>\n",
       "    </tr>\n",
       "  </thead>\n",
       "  <tbody>\n",
       "    <tr>\n",
       "      <th>4730</th>\n",
       "      <td>-1.775591</td>\n",
       "      <td>-1</td>\n",
       "      <td>0.050711</td>\n",
       "      <td>1</td>\n",
       "      <td>-1.316734e-05</td>\n",
       "      <td>-1</td>\n",
       "      <td>6.193692</td>\n",
       "      <td>-1</td>\n",
       "    </tr>\n",
       "    <tr>\n",
       "      <th>70</th>\n",
       "      <td>-1.760977</td>\n",
       "      <td>-1</td>\n",
       "      <td>-0.035559</td>\n",
       "      <td>-1</td>\n",
       "      <td>-1.565194e-05</td>\n",
       "      <td>-1</td>\n",
       "      <td>7.867909</td>\n",
       "      <td>-1</td>\n",
       "    </tr>\n",
       "    <tr>\n",
       "      <th>1904</th>\n",
       "      <td>-1.745122</td>\n",
       "      <td>-1</td>\n",
       "      <td>0.071831</td>\n",
       "      <td>1</td>\n",
       "      <td>-1.306501e-05</td>\n",
       "      <td>-1</td>\n",
       "      <td>5.832314</td>\n",
       "      <td>-1</td>\n",
       "    </tr>\n",
       "    <tr>\n",
       "      <th>71</th>\n",
       "      <td>-1.727450</td>\n",
       "      <td>-1</td>\n",
       "      <td>-0.074080</td>\n",
       "      <td>-1</td>\n",
       "      <td>-6.059946e-06</td>\n",
       "      <td>-1</td>\n",
       "      <td>8.481428</td>\n",
       "      <td>-1</td>\n",
       "    </tr>\n",
       "    <tr>\n",
       "      <th>5066</th>\n",
       "      <td>-1.662250</td>\n",
       "      <td>-1</td>\n",
       "      <td>0.041369</td>\n",
       "      <td>1</td>\n",
       "      <td>-1.004414e-05</td>\n",
       "      <td>-1</td>\n",
       "      <td>5.514301</td>\n",
       "      <td>-1</td>\n",
       "    </tr>\n",
       "    <tr>\n",
       "      <th>3934</th>\n",
       "      <td>-1.560536</td>\n",
       "      <td>-1</td>\n",
       "      <td>-0.208616</td>\n",
       "      <td>-1</td>\n",
       "      <td>-7.815177e-07</td>\n",
       "      <td>-1</td>\n",
       "      <td>12.572690</td>\n",
       "      <td>-1</td>\n",
       "    </tr>\n",
       "    <tr>\n",
       "      <th>4729</th>\n",
       "      <td>-1.560326</td>\n",
       "      <td>-1</td>\n",
       "      <td>0.064367</td>\n",
       "      <td>1</td>\n",
       "      <td>-9.353654e-05</td>\n",
       "      <td>1</td>\n",
       "      <td>5.339213</td>\n",
       "      <td>-1</td>\n",
       "    </tr>\n",
       "    <tr>\n",
       "      <th>0</th>\n",
       "      <td>-1.527845</td>\n",
       "      <td>-1</td>\n",
       "      <td>0.092852</td>\n",
       "      <td>1</td>\n",
       "      <td>-2.680843e-05</td>\n",
       "      <td>-1</td>\n",
       "      <td>5.159969</td>\n",
       "      <td>-1</td>\n",
       "    </tr>\n",
       "    <tr>\n",
       "      <th>1817</th>\n",
       "      <td>-1.510400</td>\n",
       "      <td>-1</td>\n",
       "      <td>0.025550</td>\n",
       "      <td>1</td>\n",
       "      <td>-1.739272e-05</td>\n",
       "      <td>-1</td>\n",
       "      <td>5.934512</td>\n",
       "      <td>-1</td>\n",
       "    </tr>\n",
       "    <tr>\n",
       "      <th>3935</th>\n",
       "      <td>-1.506480</td>\n",
       "      <td>-1</td>\n",
       "      <td>-0.218551</td>\n",
       "      <td>-1</td>\n",
       "      <td>-2.710528e-06</td>\n",
       "      <td>-1</td>\n",
       "      <td>12.161422</td>\n",
       "      <td>-1</td>\n",
       "    </tr>\n",
       "  </tbody>\n",
       "</table>\n",
       "</div>"
      ],
      "text/plain": [
       "      LOF_score  LOF_label  IF_score  IF_label    ABOD_score  ABOD_label  \\\n",
       "4730  -1.775591         -1  0.050711         1 -1.316734e-05          -1   \n",
       "70    -1.760977         -1 -0.035559        -1 -1.565194e-05          -1   \n",
       "1904  -1.745122         -1  0.071831         1 -1.306501e-05          -1   \n",
       "71    -1.727450         -1 -0.074080        -1 -6.059946e-06          -1   \n",
       "5066  -1.662250         -1  0.041369         1 -1.004414e-05          -1   \n",
       "3934  -1.560536         -1 -0.208616        -1 -7.815177e-07          -1   \n",
       "4729  -1.560326         -1  0.064367         1 -9.353654e-05           1   \n",
       "0     -1.527845         -1  0.092852         1 -2.680843e-05          -1   \n",
       "1817  -1.510400         -1  0.025550         1 -1.739272e-05          -1   \n",
       "3935  -1.506480         -1 -0.218551        -1 -2.710528e-06          -1   \n",
       "\n",
       "      KNN_score  KNN_label  \n",
       "4730   6.193692         -1  \n",
       "70     7.867909         -1  \n",
       "1904   5.832314         -1  \n",
       "71     8.481428         -1  \n",
       "5066   5.514301         -1  \n",
       "3934  12.572690         -1  \n",
       "4729   5.339213         -1  \n",
       "0      5.159969         -1  \n",
       "1817   5.934512         -1  \n",
       "3935  12.161422         -1  "
      ]
     },
     "execution_count": 56,
     "metadata": {},
     "output_type": "execute_result"
    }
   ],
   "source": [
    "X.iloc[indx4].sort_values(by=['LOF_score'],  ascending=True)    #+ negativi sono gli score + \"outlier\" è"
   ]
  },
  {
   "cell_type": "code",
   "execution_count": 57,
   "id": "e2e073d3",
   "metadata": {},
   "outputs": [
    {
     "data": {
      "text/plain": [
       "[3934, 3935]"
      ]
     },
     "execution_count": 57,
     "metadata": {},
     "output_type": "execute_result"
    }
   ],
   "source": [
    "#TOP 10 OUTLIERS IN COMUNE TRA ABOD, KNN, ISOL_FOR!!!!! oppure guardare i top 10 di un metodo con gli scores degli altri\n",
    "index1 = indx1\n",
    "index2 = indx2\n",
    "index3 = indx3\n",
    "index4 = indx4\n",
    "\n",
    "indx1 = set(indx1)    #KNN\n",
    "indx2 = set(indx2)    #ABOD\n",
    "indx3 = set(indx3)    #IF _FOREST\n",
    "indx4 = set(indx4)    #LOF E' quello che si comporta in maniera differente dagli altri, trovando soltanto 9 outlier rispetto ai circa 600 degli altri 3, ed inoltre e' quello che identifica il minor numero di outlier in comune con gli altri. soltano 2 elementi in comune di cui uno con un metodo ed il restante con l'altro metodo. per questo motivo abbiamo deciso di eliminare gli outlier in comune a KNN e isolation forestw\n",
    "\n",
    "intersect =  indx1 & indx3 & indx4    #i + simili sono indx1 e indx 3 con 7 top 10 outlier in comune, (KNN-Isol_Forest)\n",
    "intersect\n",
    "mylist = [x for x in intersect] #converto intersect in lista\n",
    "mylist"
   ]
  },
  {
   "cell_type": "code",
   "execution_count": 58,
   "id": "12763973",
   "metadata": {},
   "outputs": [],
   "source": [
    "X[\"Subject\"] = subjects.iloc[mylist][0]\n",
    "X[\"Activity\"] = y_train.iloc[mylist][0]"
   ]
  },
  {
   "cell_type": "code",
   "execution_count": 59,
   "id": "aa69379f",
   "metadata": {},
   "outputs": [
    {
     "data": {
      "text/html": [
       "<div>\n",
       "<style scoped>\n",
       "    .dataframe tbody tr th:only-of-type {\n",
       "        vertical-align: middle;\n",
       "    }\n",
       "\n",
       "    .dataframe tbody tr th {\n",
       "        vertical-align: top;\n",
       "    }\n",
       "\n",
       "    .dataframe thead th {\n",
       "        text-align: right;\n",
       "    }\n",
       "</style>\n",
       "<table border=\"1\" class=\"dataframe\">\n",
       "  <thead>\n",
       "    <tr style=\"text-align: right;\">\n",
       "      <th></th>\n",
       "      <th>LOF_score</th>\n",
       "      <th>LOF_label</th>\n",
       "      <th>IF_score</th>\n",
       "      <th>IF_label</th>\n",
       "      <th>ABOD_score</th>\n",
       "      <th>ABOD_label</th>\n",
       "      <th>KNN_score</th>\n",
       "      <th>KNN_label</th>\n",
       "      <th>Subject</th>\n",
       "      <th>Activity</th>\n",
       "    </tr>\n",
       "  </thead>\n",
       "  <tbody>\n",
       "    <tr>\n",
       "      <th>3934</th>\n",
       "      <td>-1.560536</td>\n",
       "      <td>-1</td>\n",
       "      <td>-0.208616</td>\n",
       "      <td>-1</td>\n",
       "      <td>-0.000001</td>\n",
       "      <td>-1</td>\n",
       "      <td>12.572690</td>\n",
       "      <td>-1</td>\n",
       "      <td>19.0</td>\n",
       "      <td>3.0</td>\n",
       "    </tr>\n",
       "    <tr>\n",
       "      <th>3935</th>\n",
       "      <td>-1.506480</td>\n",
       "      <td>-1</td>\n",
       "      <td>-0.218551</td>\n",
       "      <td>-1</td>\n",
       "      <td>-0.000003</td>\n",
       "      <td>-1</td>\n",
       "      <td>12.161422</td>\n",
       "      <td>-1</td>\n",
       "      <td>19.0</td>\n",
       "      <td>3.0</td>\n",
       "    </tr>\n",
       "  </tbody>\n",
       "</table>\n",
       "</div>"
      ],
      "text/plain": [
       "      LOF_score  LOF_label  IF_score  IF_label  ABOD_score  ABOD_label  \\\n",
       "3934  -1.560536         -1 -0.208616        -1   -0.000001          -1   \n",
       "3935  -1.506480         -1 -0.218551        -1   -0.000003          -1   \n",
       "\n",
       "      KNN_score  KNN_label  Subject  Activity  \n",
       "3934  12.572690         -1     19.0       3.0  \n",
       "3935  12.161422         -1     19.0       3.0  "
      ]
     },
     "execution_count": 59,
     "metadata": {},
     "output_type": "execute_result"
    }
   ],
   "source": [
    "#Outliers da eliminare\n",
    "X.iloc[mylist].round(6)"
   ]
  },
  {
   "cell_type": "code",
   "execution_count": 60,
   "id": "bfda7084",
   "metadata": {},
   "outputs": [
    {
     "data": {
      "text/html": [
       "<div>\n",
       "<style scoped>\n",
       "    .dataframe tbody tr th:only-of-type {\n",
       "        vertical-align: middle;\n",
       "    }\n",
       "\n",
       "    .dataframe tbody tr th {\n",
       "        vertical-align: top;\n",
       "    }\n",
       "\n",
       "    .dataframe thead th {\n",
       "        text-align: right;\n",
       "    }\n",
       "</style>\n",
       "<table border=\"1\" class=\"dataframe\">\n",
       "  <thead>\n",
       "    <tr style=\"text-align: right;\">\n",
       "      <th></th>\n",
       "      <th>0</th>\n",
       "    </tr>\n",
       "  </thead>\n",
       "  <tbody>\n",
       "    <tr>\n",
       "      <th>3934</th>\n",
       "      <td>3</td>\n",
       "    </tr>\n",
       "    <tr>\n",
       "      <th>3935</th>\n",
       "      <td>3</td>\n",
       "    </tr>\n",
       "  </tbody>\n",
       "</table>\n",
       "</div>"
      ],
      "text/plain": [
       "      0\n",
       "3934  3\n",
       "3935  3"
      ]
     },
     "execution_count": 60,
     "metadata": {},
     "output_type": "execute_result"
    }
   ],
   "source": [
    "#vediamo a quale attività corrispondono\n",
    "y_train.iloc[mylist]"
   ]
  },
  {
   "cell_type": "code",
   "execution_count": 61,
   "id": "a8d9201e",
   "metadata": {},
   "outputs": [
    {
     "data": {
      "text/html": [
       "<div>\n",
       "<style scoped>\n",
       "    .dataframe tbody tr th:only-of-type {\n",
       "        vertical-align: middle;\n",
       "    }\n",
       "\n",
       "    .dataframe tbody tr th {\n",
       "        vertical-align: top;\n",
       "    }\n",
       "\n",
       "    .dataframe thead th {\n",
       "        text-align: right;\n",
       "    }\n",
       "</style>\n",
       "<table border=\"1\" class=\"dataframe\">\n",
       "  <thead>\n",
       "    <tr style=\"text-align: right;\">\n",
       "      <th></th>\n",
       "      <th>0</th>\n",
       "    </tr>\n",
       "  </thead>\n",
       "  <tbody>\n",
       "    <tr>\n",
       "      <th>3934</th>\n",
       "      <td>19</td>\n",
       "    </tr>\n",
       "    <tr>\n",
       "      <th>3935</th>\n",
       "      <td>19</td>\n",
       "    </tr>\n",
       "  </tbody>\n",
       "</table>\n",
       "</div>"
      ],
      "text/plain": [
       "       0\n",
       "3934  19\n",
       "3935  19"
      ]
     },
     "execution_count": 61,
     "metadata": {},
     "output_type": "execute_result"
    }
   ],
   "source": [
    "#vediamo a quale soggetto corrispondo\n",
    "subject.iloc[mylist]"
   ]
  },
  {
   "attachments": {},
   "cell_type": "markdown",
   "id": "4c3632ff",
   "metadata": {},
   "source": [
    "## Outliers totali in comune"
   ]
  },
  {
   "cell_type": "code",
   "execution_count": 62,
   "id": "3c98660d",
   "metadata": {},
   "outputs": [],
   "source": [
    "#Salvo l'indice di tutti gli outlier\n",
    "anomaly_IF=X.loc[X['IF_label']==-1]\n",
    "anomaly_IF_index=list(anomaly_IF.index)\n",
    "anomaly_KNN=X.loc[X['KNN_label']==-1]\n",
    "anomaly_KNN_index=list(anomaly_KNN.index)\n",
    "anomaly_LOF=X.loc[X['LOF_label']==-1]\n",
    "anomaly_LOF_index=list(anomaly_LOF.index)\n",
    "anomaly_ABOD=X.loc[X['ABOD_label']==-1]\n",
    "anomaly_ABOD_index=list(anomaly_ABOD.index)"
   ]
  },
  {
   "cell_type": "code",
   "execution_count": 63,
   "id": "9134dcfa",
   "metadata": {},
   "outputs": [
    {
     "data": {
      "text/plain": [
       "351"
      ]
     },
     "execution_count": 63,
     "metadata": {},
     "output_type": "execute_result"
    }
   ],
   "source": [
    "#Intersezione per vedere quali outlier sono in comune tra i metodi\n",
    "anomaly_IF_index = set(anomaly_IF_index)\n",
    "anomaly_KNN_index = set(anomaly_KNN_index)\n",
    "anomaly_LOF_index = set(anomaly_LOF_index)\n",
    "anomaly_ABOD_index  = set(anomaly_ABOD_index)\n",
    "\n",
    "intersezione = anomaly_IF_index & anomaly_KNN_index  & anomaly_ABOD_index\n",
    "len(intersezione)"
   ]
  },
  {
   "cell_type": "code",
   "execution_count": 64,
   "id": "6cea2fef",
   "metadata": {},
   "outputs": [
    {
     "data": {
      "text/plain": [
       "351"
      ]
     },
     "execution_count": 64,
     "metadata": {},
     "output_type": "execute_result"
    }
   ],
   "source": [
    "#OUTLIERS IN COMUNE TRA I DIVERSI METODI TRANNE LOF\n",
    "len(intersezione)"
   ]
  },
  {
   "attachments": {},
   "cell_type": "markdown",
   "id": "b4f55e2a",
   "metadata": {},
   "source": [
    "## Grubbs Test"
   ]
  },
  {
   "cell_type": "code",
   "execution_count": 66,
   "id": "c9728815",
   "metadata": {},
   "outputs": [],
   "source": [
    "# https://pypi.org/project/outlier_utils/"
   ]
  },
  {
   "cell_type": "code",
   "execution_count": 67,
   "id": "cec269e5",
   "metadata": {},
   "outputs": [],
   "source": [
    "import numpy as np\n",
    "from scipy import stats"
   ]
  },
  {
   "cell_type": "code",
   "execution_count": 68,
   "id": "df99a3dd",
   "metadata": {},
   "outputs": [],
   "source": [
    "data = np.array([5, 14, 15, 15, 14, 19, 17, 16, 20, 22, 8, 21, 28, 11, 9])\n",
    "alpha = 0.95\n",
    "n = len(data)"
   ]
  },
  {
   "cell_type": "code",
   "execution_count": 69,
   "id": "7e9fbd5f",
   "metadata": {},
   "outputs": [],
   "source": [
    "significance_level = alpha / (2*n)  #alpha / n"
   ]
  },
  {
   "cell_type": "code",
   "execution_count": 70,
   "id": "af209f71",
   "metadata": {},
   "outputs": [
    {
     "data": {
      "text/plain": [
       "0.9683333333333334"
      ]
     },
     "execution_count": 70,
     "metadata": {},
     "output_type": "execute_result"
    }
   ],
   "source": [
    "1-significance_level"
   ]
  },
  {
   "cell_type": "code",
   "execution_count": 71,
   "id": "b7a0882e",
   "metadata": {},
   "outputs": [],
   "source": [
    "t = stats.t.isf(significance_level, n-2, 2)"
   ]
  },
  {
   "cell_type": "code",
   "execution_count": 72,
   "id": "a7056698",
   "metadata": {},
   "outputs": [],
   "source": [
    "g_test = ((n-1) / np.sqrt(n)) * (np.sqrt(t**2 / (n-2 + t**2)))"
   ]
  },
  {
   "cell_type": "code",
   "execution_count": 73,
   "id": "1488ce00",
   "metadata": {},
   "outputs": [],
   "source": [
    "relative_values = abs(data - data.mean())\n",
    "index = relative_values.argmax()\n",
    "value = relative_values[index]"
   ]
  },
  {
   "cell_type": "code",
   "execution_count": 74,
   "id": "e7c1b93f",
   "metadata": {},
   "outputs": [
    {
     "data": {
      "text/plain": [
       "(12, 12.4)"
      ]
     },
     "execution_count": 74,
     "metadata": {},
     "output_type": "execute_result"
    }
   ],
   "source": [
    "index, value"
   ]
  },
  {
   "cell_type": "code",
   "execution_count": 75,
   "id": "c229e8fb",
   "metadata": {},
   "outputs": [],
   "source": [
    "g = value / data.std()"
   ]
  },
  {
   "cell_type": "code",
   "execution_count": 76,
   "id": "e873f431",
   "metadata": {},
   "outputs": [
    {
     "data": {
      "text/plain": [
       "(2.152916215627365, 2.693975809635198)"
      ]
     },
     "execution_count": 76,
     "metadata": {},
     "output_type": "execute_result"
    }
   ],
   "source": [
    "g, g_test"
   ]
  },
  {
   "cell_type": "code",
   "execution_count": 77,
   "id": "218ab163",
   "metadata": {},
   "outputs": [
    {
     "name": "stdout",
     "output_type": "stream",
     "text": [
      "inlier\n"
     ]
    }
   ],
   "source": [
    "if g > g_test:\n",
    "    print('outlier')\n",
    "else:\n",
    "    print('inlier')"
   ]
  },
  {
   "cell_type": "code",
   "execution_count": 78,
   "id": "a1a8b575",
   "metadata": {},
   "outputs": [
    {
     "data": {
      "text/plain": [
       "2.7637694574478893"
      ]
     },
     "execution_count": 78,
     "metadata": {},
     "output_type": "execute_result"
    }
   ],
   "source": [
    "stats.t.isf(0.01, 10)"
   ]
  },
  {
   "cell_type": "code",
   "execution_count": 79,
   "id": "5f672d4c",
   "metadata": {},
   "outputs": [
    {
     "data": {
      "text/plain": [
       "2.364217365904738"
      ]
     },
     "execution_count": 79,
     "metadata": {},
     "output_type": "execute_result"
    }
   ],
   "source": [
    "stats.t.isf(0.01, 100)"
   ]
  },
  {
   "cell_type": "code",
   "execution_count": 80,
   "id": "193ee4a5",
   "metadata": {},
   "outputs": [
    {
     "data": {
      "text/plain": [
       "2.33008267475551"
      ]
     },
     "execution_count": 80,
     "metadata": {},
     "output_type": "execute_result"
    }
   ],
   "source": [
    "stats.t.isf(0.01, 1000)"
   ]
  },
  {
   "attachments": {},
   "cell_type": "markdown",
   "id": "a951f279",
   "metadata": {},
   "source": [
    "## PCA for top10 outliers visualization"
   ]
  },
  {
   "cell_type": "code",
   "execution_count": 81,
   "id": "961c1561",
   "metadata": {},
   "outputs": [
    {
     "name": "stdout",
     "output_type": "stream",
     "text": [
      "(7352, 2)\n"
     ]
    }
   ],
   "source": [
    "from sklearn.decomposition import PCA\n",
    "\n",
    "pca=PCA(n_components=2)\n",
    "principal_components = pca.fit_transform(X_train)\n",
    "principal_df = pd.DataFrame(data = principal_components)\n",
    "\n",
    "print(principal_df.shape)"
   ]
  },
  {
   "cell_type": "code",
   "execution_count": 82,
   "id": "f22c3731",
   "metadata": {},
   "outputs": [],
   "source": [
    "#estraggo il subset dell'IF per poi plottarlo \n",
    "outliers_iso_for = principal_df.iloc[index3]"
   ]
  },
  {
   "cell_type": "code",
   "execution_count": 83,
   "id": "4dc3647d",
   "metadata": {},
   "outputs": [
    {
     "data": {
      "image/png": "[encoded data removed]",
      "text/plain": [
       "<Figure size 576x360 with 1 Axes>"
      ]
     },
     "metadata": {
      "needs_background": "light"
     },
     "output_type": "display_data"
    }
   ],
   "source": [
    "# plot outlier values of IF\n",
    "plt.figure(figsize=(8,5))\n",
    "plt.scatter(principal_df[0], principal_df[1], color = \"b\", s = 20, edgecolor='black')\n",
    "plt.scatter(outliers_iso_for[0], outliers_iso_for[1], s=40, color = \"r\", edgecolor='black')\n",
    "plt.title(\"Scatter Plot PCA con Outliers IF\", fontsize=14)\n",
    "plt.xlabel(\"Principal component 1\", fontsize=13)\n",
    "plt.ylabel(\"Principal component 2\", fontsize=13)\n",
    "plt.show()"
   ]
  },
  {
   "cell_type": "code",
   "execution_count": 84,
   "id": "468f3bfe",
   "metadata": {},
   "outputs": [],
   "source": [
    "#estraggo il subset del KNN per poi plottarlo \n",
    "outliers_KNN = principal_df.iloc[index1]"
   ]
  },
  {
   "cell_type": "code",
   "execution_count": 85,
   "id": "01b2a578",
   "metadata": {},
   "outputs": [
    {
     "data": {
      "image/png": "[encoded data removed]",
      "text/plain": [
       "<Figure size 576x360 with 1 Axes>"
      ]
     },
     "metadata": {
      "needs_background": "light"
     },
     "output_type": "display_data"
    }
   ],
   "source": [
    "# plot outlier values of KNN\n",
    "plt.figure(figsize=(8,5))\n",
    "plt.scatter(principal_df[0], principal_df[1], color = \"b\", s = 20, edgecolor='black')\n",
    "plt.scatter(outliers_KNN[0], outliers_KNN[1], s=40, color = \"r\", edgecolor='black')\n",
    "plt.title(\"Scatter Plot PCA con Outliers KNN\", fontsize=14)\n",
    "plt.xlabel(\"Principal component 1\", fontsize=13)\n",
    "plt.ylabel(\"Principal component 2\", fontsize=13)\n",
    "plt.show()"
   ]
  },
  {
   "cell_type": "code",
   "execution_count": 86,
   "id": "6d9dfec6",
   "metadata": {},
   "outputs": [],
   "source": [
    "#estraggo il subset del ABOD per poi plottarlo \n",
    "outliers_ABOD = principal_df.iloc[index2]"
   ]
  },
  {
   "cell_type": "code",
   "execution_count": 87,
   "id": "3dd64432",
   "metadata": {},
   "outputs": [
    {
     "data": {
      "image/png": "[encoded data removed]",
      "text/plain": [
       "<Figure size 576x360 with 1 Axes>"
      ]
     },
     "metadata": {
      "needs_background": "light"
     },
     "output_type": "display_data"
    }
   ],
   "source": [
    "# plot outlier values of ABOD\n",
    "plt.figure(figsize=(8,5))\n",
    "plt.scatter(principal_df[0], principal_df[1], color = \"b\", s = 20, edgecolor='black')\n",
    "plt.scatter(outliers_ABOD[0], outliers_ABOD[1],s=40, color = \"r\", edgecolor='black' )\n",
    "plt.title(\"Scatter Plot PCA con Outliers ABOD\", fontsize=14)\n",
    "plt.xlabel(\"Principal component 1\", fontsize=13)\n",
    "plt.ylabel(\"Principal component 2\", fontsize=13)\n",
    "plt.show()"
   ]
  }
 ],
 "metadata": {
  "kernelspec": {
   "display_name": "Python 3 (ipykernel)",
   "language": "python",
   "name": "python3"
  },
  "language_info": {
   "codemirror_mode": {
    "name": "ipython",
    "version": 3
   },
   "file_extension": ".py",
   "mimetype": "text/x-python",
   "name": "python",
   "nbconvert_exporter": "python",
   "pygments_lexer": "ipython3",
   "version": "3.9.12"
  }
 },
 "nbformat": 4,
 "nbformat_minor": 5
}
